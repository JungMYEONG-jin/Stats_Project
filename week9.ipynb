{
  "nbformat": 4,
  "nbformat_minor": 0,
  "metadata": {
    "colab": {
      "name": "week9.ipynb",
      "provenance": [],
      "collapsed_sections": [],
      "authorship_tag": "ABX9TyO0PAyjp1OgfUMOr1fy/XYk",
      "include_colab_link": true
    },
    "kernelspec": {
      "name": "python3",
      "display_name": "Python 3"
    },
    "language_info": {
      "name": "python"
    },
    "accelerator": "GPU"
  },
  "cells": [
    {
      "cell_type": "markdown",
      "metadata": {
        "id": "view-in-github",
        "colab_type": "text"
      },
      "source": [
        "<a href=\"https://colab.research.google.com/github/JungMYEONG-jin/Stats_Project/blob/window/week9.ipynb\" target=\"_parent\"><img src=\"https://colab.research.google.com/assets/colab-badge.svg\" alt=\"Open In Colab\"/></a>"
      ]
    },
    {
      "cell_type": "code",
      "metadata": {
        "colab": {
          "base_uri": "https://localhost:8080/"
        },
        "id": "s_TXM2wZoOlo",
        "outputId": "5f7fd3a4-e72b-40de-8c19-b6abbdbc4cc3"
      },
      "source": [
        "from tensorflow.keras.datasets import boston_housing\n",
        "\n",
        "(train_data, train_labels), (test_data, test_labels) = boston_housing.load_data()"
      ],
      "execution_count": 2,
      "outputs": [
        {
          "output_type": "stream",
          "text": [
            "Downloading data from https://storage.googleapis.com/tensorflow/tf-keras-datasets/boston_housing.npz\n",
            "57344/57026 [==============================] - 0s 0us/step\n"
          ],
          "name": "stdout"
        }
      ]
    },
    {
      "cell_type": "code",
      "metadata": {
        "colab": {
          "base_uri": "https://localhost:8080/"
        },
        "id": "4nBSY_zOIdAv",
        "outputId": "1c0a3c64-6d1d-420e-ac20-357fcb1e756c"
      },
      "source": [
        "lst = [train_data, train_labels, test_data, test_labels]\n",
        "\n",
        "for i in lst:\n",
        "  print(i.shape)"
      ],
      "execution_count": 3,
      "outputs": [
        {
          "output_type": "stream",
          "text": [
            "(404, 13)\n",
            "(404,)\n",
            "(102, 13)\n",
            "(102,)\n"
          ],
          "name": "stdout"
        }
      ]
    },
    {
      "cell_type": "code",
      "metadata": {
        "colab": {
          "base_uri": "https://localhost:8080/"
        },
        "id": "KRHYQIOxImPI",
        "outputId": "503f6947-ea83-40fc-8c8c-52c116e4339e"
      },
      "source": [
        "train_data"
      ],
      "execution_count": 4,
      "outputs": [
        {
          "output_type": "execute_result",
          "data": {
            "text/plain": [
              "array([[1.23247e+00, 0.00000e+00, 8.14000e+00, ..., 2.10000e+01,\n",
              "        3.96900e+02, 1.87200e+01],\n",
              "       [2.17700e-02, 8.25000e+01, 2.03000e+00, ..., 1.47000e+01,\n",
              "        3.95380e+02, 3.11000e+00],\n",
              "       [4.89822e+00, 0.00000e+00, 1.81000e+01, ..., 2.02000e+01,\n",
              "        3.75520e+02, 3.26000e+00],\n",
              "       ...,\n",
              "       [3.46600e-02, 3.50000e+01, 6.06000e+00, ..., 1.69000e+01,\n",
              "        3.62250e+02, 7.83000e+00],\n",
              "       [2.14918e+00, 0.00000e+00, 1.95800e+01, ..., 1.47000e+01,\n",
              "        2.61950e+02, 1.57900e+01],\n",
              "       [1.43900e-02, 6.00000e+01, 2.93000e+00, ..., 1.56000e+01,\n",
              "        3.76700e+02, 4.38000e+00]])"
            ]
          },
          "metadata": {
            "tags": []
          },
          "execution_count": 4
        }
      ]
    },
    {
      "cell_type": "code",
      "metadata": {
        "colab": {
          "base_uri": "https://localhost:8080/"
        },
        "id": "rCpWqHGRI2FX",
        "outputId": "d53304c3-f6b2-4829-f7c0-4480d1a4785a"
      },
      "source": [
        "train_labels"
      ],
      "execution_count": 5,
      "outputs": [
        {
          "output_type": "execute_result",
          "data": {
            "text/plain": [
              "array([15.2, 42.3, 50. , 21.1, 17.7, 18.5, 11.3, 15.6, 15.6, 14.4, 12.1,\n",
              "       17.9, 23.1, 19.9, 15.7,  8.8, 50. , 22.5, 24.1, 27.5, 10.9, 30.8,\n",
              "       32.9, 24. , 18.5, 13.3, 22.9, 34.7, 16.6, 17.5, 22.3, 16.1, 14.9,\n",
              "       23.1, 34.9, 25. , 13.9, 13.1, 20.4, 20. , 15.2, 24.7, 22.2, 16.7,\n",
              "       12.7, 15.6, 18.4, 21. , 30.1, 15.1, 18.7,  9.6, 31.5, 24.8, 19.1,\n",
              "       22. , 14.5, 11. , 32. , 29.4, 20.3, 24.4, 14.6, 19.5, 14.1, 14.3,\n",
              "       15.6, 10.5,  6.3, 19.3, 19.3, 13.4, 36.4, 17.8, 13.5, 16.5,  8.3,\n",
              "       14.3, 16. , 13.4, 28.6, 43.5, 20.2, 22. , 23. , 20.7, 12.5, 48.5,\n",
              "       14.6, 13.4, 23.7, 50. , 21.7, 39.8, 38.7, 22.2, 34.9, 22.5, 31.1,\n",
              "       28.7, 46. , 41.7, 21. , 26.6, 15. , 24.4, 13.3, 21.2, 11.7, 21.7,\n",
              "       19.4, 50. , 22.8, 19.7, 24.7, 36.2, 14.2, 18.9, 18.3, 20.6, 24.6,\n",
              "       18.2,  8.7, 44. , 10.4, 13.2, 21.2, 37. , 30.7, 22.9, 20. , 19.3,\n",
              "       31.7, 32. , 23.1, 18.8, 10.9, 50. , 19.6,  5. , 14.4, 19.8, 13.8,\n",
              "       19.6, 23.9, 24.5, 25. , 19.9, 17.2, 24.6, 13.5, 26.6, 21.4, 11.9,\n",
              "       22.6, 19.6,  8.5, 23.7, 23.1, 22.4, 20.5, 23.6, 18.4, 35.2, 23.1,\n",
              "       27.9, 20.6, 23.7, 28. , 13.6, 27.1, 23.6, 20.6, 18.2, 21.7, 17.1,\n",
              "        8.4, 25.3, 13.8, 22.2, 18.4, 20.7, 31.6, 30.5, 20.3,  8.8, 19.2,\n",
              "       19.4, 23.1, 23. , 14.8, 48.8, 22.6, 33.4, 21.1, 13.6, 32.2, 13.1,\n",
              "       23.4, 18.9, 23.9, 11.8, 23.3, 22.8, 19.6, 16.7, 13.4, 22.2, 20.4,\n",
              "       21.8, 26.4, 14.9, 24.1, 23.8, 12.3, 29.1, 21. , 19.5, 23.3, 23.8,\n",
              "       17.8, 11.5, 21.7, 19.9, 25. , 33.4, 28.5, 21.4, 24.3, 27.5, 33.1,\n",
              "       16.2, 23.3, 48.3, 22.9, 22.8, 13.1, 12.7, 22.6, 15. , 15.3, 10.5,\n",
              "       24. , 18.5, 21.7, 19.5, 33.2, 23.2,  5. , 19.1, 12.7, 22.3, 10.2,\n",
              "       13.9, 16.3, 17. , 20.1, 29.9, 17.2, 37.3, 45.4, 17.8, 23.2, 29. ,\n",
              "       22. , 18. , 17.4, 34.6, 20.1, 25. , 15.6, 24.8, 28.2, 21.2, 21.4,\n",
              "       23.8, 31. , 26.2, 17.4, 37.9, 17.5, 20. ,  8.3, 23.9,  8.4, 13.8,\n",
              "        7.2, 11.7, 17.1, 21.6, 50. , 16.1, 20.4, 20.6, 21.4, 20.6, 36.5,\n",
              "        8.5, 24.8, 10.8, 21.9, 17.3, 18.9, 36.2, 14.9, 18.2, 33.3, 21.8,\n",
              "       19.7, 31.6, 24.8, 19.4, 22.8,  7.5, 44.8, 16.8, 18.7, 50. , 50. ,\n",
              "       19.5, 20.1, 50. , 17.2, 20.8, 19.3, 41.3, 20.4, 20.5, 13.8, 16.5,\n",
              "       23.9, 20.6, 31.5, 23.3, 16.8, 14. , 33.8, 36.1, 12.8, 18.3, 18.7,\n",
              "       19.1, 29. , 30.1, 50. , 50. , 22. , 11.9, 37.6, 50. , 22.7, 20.8,\n",
              "       23.5, 27.9, 50. , 19.3, 23.9, 22.6, 15.2, 21.7, 19.2, 43.8, 20.3,\n",
              "       33.2, 19.9, 22.5, 32.7, 22. , 17.1, 19. , 15. , 16.1, 25.1, 23.7,\n",
              "       28.7, 37.2, 22.6, 16.4, 25. , 29.8, 22.1, 17.4, 18.1, 30.3, 17.5,\n",
              "       24.7, 12.6, 26.5, 28.7, 13.3, 10.4, 24.4, 23. , 20. , 17.8,  7. ,\n",
              "       11.8, 24.4, 13.8, 19.4, 25.2, 19.4, 19.4, 29.1])"
            ]
          },
          "metadata": {
            "tags": []
          },
          "execution_count": 5
        }
      ]
    },
    {
      "cell_type": "markdown",
      "metadata": {
        "id": "SYwPjZeOJSEd"
      },
      "source": [
        "## 현재 너무 wide한 범위. 정규화를 통해 줄이자"
      ]
    },
    {
      "cell_type": "code",
      "metadata": {
        "id": "qGLlkahnJRm0"
      },
      "source": [
        "mean = train_data.mean(axis=0)\n",
        "train_data-=mean\n",
        "std = train_data.std(axis=0)\n",
        "train_data/=std\n",
        "\n",
        "test_data-=mean\n",
        "test_data/=std"
      ],
      "execution_count": 6,
      "outputs": []
    },
    {
      "cell_type": "markdown",
      "metadata": {
        "id": "kKTJEpfFJuq-"
      },
      "source": [
        "## when dataset is small then use small size network to avoid overfitting"
      ]
    },
    {
      "cell_type": "code",
      "metadata": {
        "id": "5CqY_7LHI_Lg"
      },
      "source": [
        "from tensorflow.keras import models\n",
        "from tensorflow.keras import layers\n",
        "\n",
        "def build_model(train):\n",
        "  model = models.Sequential()\n",
        "  model.add(layers.Dense(64, activation=\"relu\", input_shape=(train.shape[1],)))\n",
        "  model.add(layers.Dense(64, activation=\"relu\"))\n",
        "  model.add(layers.Dense(1))\n",
        "  model.compile(optimizer=\"rmsprop\", loss=\"mse\", metrics=[\"mae\"])\n",
        "  return model"
      ],
      "execution_count": 12,
      "outputs": []
    },
    {
      "cell_type": "markdown",
      "metadata": {
        "id": "g6Cx3UiXKu-h"
      },
      "source": [
        "## Use K-Fold "
      ]
    },
    {
      "cell_type": "code",
      "metadata": {
        "colab": {
          "base_uri": "https://localhost:8080/"
        },
        "id": "o7CQGG_ZKZop",
        "outputId": "10101273-f8f5-4b0a-9b72-11f0fc192044"
      },
      "source": [
        "import numpy as np\n",
        "\n",
        "k = 4\n",
        "samples = len(train_data)//k\n",
        "num_epochs=100\n",
        "scores=[]\n",
        "\n",
        "for i in range(k):\n",
        "  print(\"Processing fold \",i)\n",
        "  val_data = train_data[i*samples:(i+1)*samples]\n",
        "  val_labels = train_labels[i*samples:(i+1)*samples]\n",
        "\n",
        "  # Prepare train data\n",
        "  partial_train_data = np.concatenate([train_data[:i*samples],train_data[(i+1)*samples:]], axis=0)\n",
        "  partial_train_labels = np.concatenate([train_labels[:i*samples], train_labels[(i+1)*samples:]], axis=0)\n",
        "\n",
        "  model = build_model(train_data)\n",
        "  model.fit(partial_train_data, partial_train_labels, epochs=num_epochs, batch_size=1, verbose=0)\n",
        "  mse, mae = model.evaluate(val_data, val_labels, verbose=0)\n",
        "  scores.append(mae)\n",
        "\n",
        "\n",
        "\n",
        "\n"
      ],
      "execution_count": 13,
      "outputs": [
        {
          "output_type": "stream",
          "text": [
            "Processing fold  0\n",
            "Processing fold  1\n",
            "Processing fold  2\n",
            "Processing fold  3\n"
          ],
          "name": "stdout"
        }
      ]
    },
    {
      "cell_type": "code",
      "metadata": {
        "colab": {
          "base_uri": "https://localhost:8080/"
        },
        "id": "v8HOu7vtMgsS",
        "outputId": "e0bfb1dc-aef5-486b-c8aa-d60a7a6441e8"
      },
      "source": [
        "scores"
      ],
      "execution_count": 14,
      "outputs": [
        {
          "output_type": "execute_result",
          "data": {
            "text/plain": [
              "[2.114886999130249, 2.4339206218719482, 2.648472309112549, 2.568248748779297]"
            ]
          },
          "metadata": {
            "tags": []
          },
          "execution_count": 14
        }
      ]
    },
    {
      "cell_type": "code",
      "metadata": {
        "colab": {
          "base_uri": "https://localhost:8080/"
        },
        "id": "j9-Uq_hZNmgw",
        "outputId": "c7bb33f1-c36d-427b-dd80-cf0d179661c6"
      },
      "source": [
        "np.mean(scores)"
      ],
      "execution_count": 15,
      "outputs": [
        {
          "output_type": "execute_result",
          "data": {
            "text/plain": [
              "2.4413821697235107"
            ]
          },
          "metadata": {
            "tags": []
          },
          "execution_count": 15
        }
      ]
    },
    {
      "cell_type": "code",
      "metadata": {
        "id": "Ts-XOkCeNn8H"
      },
      "source": [
        "from tensorflow.keras import backend as k\n",
        "\n",
        "# memory clean up\n",
        "\n",
        "k.clear_session()"
      ],
      "execution_count": 16,
      "outputs": []
    },
    {
      "cell_type": "code",
      "metadata": {
        "colab": {
          "base_uri": "https://localhost:8080/"
        },
        "id": "fVbs90dINwwf",
        "outputId": "cbaf397e-925c-4557-ec76-090cc045c324"
      },
      "source": [
        "num_epochs=50\n",
        "mae_history = []\n",
        "\n",
        "kk = 4\n",
        "samples = len(train_data)//kk\n",
        "scores=[]\n",
        "\n",
        "for i in range(kk):\n",
        "  print(\"Processing fold \",i)\n",
        "  val_data = train_data[i*samples:(i+1)*samples]\n",
        "  val_labels = train_labels[i*samples:(i+1)*samples]\n",
        "\n",
        "  # Prepare train data\n",
        "  partial_train_data = np.concatenate([train_data[:i*samples],train_data[(i+1)*samples:]], axis=0)\n",
        "  partial_train_labels = np.concatenate([train_labels[:i*samples], train_labels[(i+1)*samples:]], axis=0)\n",
        "\n",
        "  model = build_model(train_data)\n",
        "  history =  model.fit(partial_train_data, partial_train_labels,validation_data=(val_data, val_labels), epochs=num_epochs, batch_size=1, verbose=0)\n",
        "  mae = history.history[\"val_mae\"]\n",
        "  mae_history.append(mae)"
      ],
      "execution_count": 22,
      "outputs": [
        {
          "output_type": "stream",
          "text": [
            "Processing fold  0\n",
            "Processing fold  1\n",
            "Processing fold  2\n",
            "Processing fold  3\n"
          ],
          "name": "stdout"
        }
      ]
    },
    {
      "cell_type": "code",
      "metadata": {
        "colab": {
          "base_uri": "https://localhost:8080/"
        },
        "id": "LwfRKEwiOL6S",
        "outputId": "3b9b5b23-ff3e-4c69-d5d2-e2b32131a3bd"
      },
      "source": [
        "history.history.keys()\n"
      ],
      "execution_count": 25,
      "outputs": [
        {
          "output_type": "execute_result",
          "data": {
            "text/plain": [
              "dict_keys(['loss', 'mae', 'val_loss', 'val_mae'])"
            ]
          },
          "metadata": {
            "tags": []
          },
          "execution_count": 25
        }
      ]
    },
    {
      "cell_type": "code",
      "metadata": {
        "id": "rkKf7yVbPBrX"
      },
      "source": [
        "avg_mae = [np.mean([x[i] for x in mae_history]) for i in range(num_epochs)]"
      ],
      "execution_count": 26,
      "outputs": []
    },
    {
      "cell_type": "code",
      "metadata": {
        "colab": {
          "base_uri": "https://localhost:8080/",
          "height": 279
        },
        "id": "8L08KmryPSq4",
        "outputId": "008b5830-e176-4295-c544-65b560355df7"
      },
      "source": [
        "import matplotlib.pyplot as plt\n",
        "\n",
        "plt.plot(range(1, len(avg_mae)+1), avg_mae)\n",
        "plt.xlabel(\"Epochs\")\n",
        "plt.ylabel(\"Validation mae\")\n",
        "plt.show()"
      ],
      "execution_count": 27,
      "outputs": [
        {
          "output_type": "display_data",
          "data": {
            "image/png": "[encoded data removed]",
            "text/plain": [
              "<Figure size 432x288 with 1 Axes>"
            ]
          },
          "metadata": {
            "tags": [],
            "needs_background": "light"
          }
        }
      ]
    },
    {
      "cell_type": "code",
      "metadata": {
        "colab": {
          "base_uri": "https://localhost:8080/",
          "height": 317
        },
        "id": "pW-SkOdsPgE4",
        "outputId": "52bfcbac-2b7a-4e23-de58-6917a004bf7c"
      },
      "source": [
        "def smooth_curve(points, factor=0.9):\n",
        "  sm_points=[]\n",
        "  for i in points:\n",
        "    if sm_points:\n",
        "      prev = sm_points[-1]\n",
        "      sm_points.append(prev*factor+i*(1-factor))\n",
        "    else:\n",
        "      sm_points.append(i)\n",
        "    return sm_points\n",
        "\n",
        "sm_mae = smooth_curve(avg_mae)\n",
        "plt.plot(range(1, len(sm_mae) + 1), sm_mae)\n",
        "plt.xlabel('Epochs')\n",
        "plt.ylabel('Validation MAE')\n",
        "plt.axis([0,50,2,2])\n",
        "plt.show()"
      ],
      "execution_count": 34,
      "outputs": [
        {
          "output_type": "stream",
          "text": [
            "/usr/local/lib/python3.7/dist-packages/ipykernel_launcher.py:15: UserWarning: Attempting to set identical bottom == top == 2 results in singular transformations; automatically expanding.\n",
            "  from ipykernel import kernelapp as app\n"
          ],
          "name": "stderr"
        },
        {
          "output_type": "display_data",
          "data": {
            "image/png": "[encoded data removed]",
            "text/plain": [
              "<Figure size 432x288 with 1 Axes>"
            ]
          },
          "metadata": {
            "tags": [],
            "needs_background": "light"
          }
        }
      ]
    },
    {
      "cell_type": "code",
      "metadata": {
        "colab": {
          "base_uri": "https://localhost:8080/"
        },
        "id": "MHx2VpO6QPng",
        "outputId": "6273aa30-0d2a-475a-83cf-57a2528c5fbb"
      },
      "source": [
        "model = build_model(train_data)\n",
        "model.fit(train_data, train_labels, epochs=80, batch_size=16, verbose=0)\n",
        "test_mse, test_mae = model.evaluate(test_data, test_labels)"
      ],
      "execution_count": 24,
      "outputs": [
        {
          "output_type": "stream",
          "text": [
            "4/4 [==============================] - 0s 4ms/step - loss: 17.8878 - mae: 2.6692\n"
          ],
          "name": "stdout"
        }
      ]
    },
    {
      "cell_type": "markdown",
      "metadata": {
        "id": "r3IIinABRUe8"
      },
      "source": [
        "## Wrapping up\n",
        "\n",
        "\n",
        "Here's what you should take away from this example:\n",
        "\n",
        "* Regression is done using different loss functions from classification; Mean Squared Error (MSE) is a commonly used loss function for \n",
        "regression.\n",
        "* Similarly, evaluation metrics to be used for regression differ from those used for classification; naturally the concept of \"accuracy\" \n",
        "does not apply for regression. A common regression metric is Mean Absolute Error (MAE).\n",
        "* When features in the input data have values in different ranges, each feature should be scaled independently as a preprocessing step.\n",
        "* When there is little data available, using K-Fold validation is a great way to reliably evaluate a model.\n",
        "* When little training data is available, it is preferable to use a small network with very few hidden layers (typically only one or two), \n",
        "in order to avoid severe overfitting.\n",
        "\n",
        "This example concludes our series of three introductory practical examples. You are now able to handle common types of problems with vector data input:\n",
        "\n",
        "* Binary (2-class) classification.\n",
        "* Multi-class, single-label classification.\n",
        "* Scalar regression.\n",
        "\n",
        "In the next chapter, you will acquire a more formal understanding of some of the concepts you have encountered in these first examples, \n",
        "such as data preprocessing, model evaluation, and overfitting."
      ]
    },
    {
      "cell_type": "code",
      "metadata": {
        "id": "ZebqfECQQcXf"
      },
      "source": [
        ""
      ],
      "execution_count": null,
      "outputs": []
    }
  ]
}