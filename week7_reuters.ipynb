{
  "nbformat": 4,
  "nbformat_minor": 0,
  "metadata": {
    "colab": {
      "name": "week7_reuters.ipynb",
      "provenance": [],
      "collapsed_sections": [],
      "authorship_tag": "ABX9TyOIbS78CPKR0GqJ7T2UubsX",
      "include_colab_link": true
    },
    "kernelspec": {
      "name": "python3",
      "display_name": "Python 3"
    },
    "language_info": {
      "name": "python"
    }
  },
  "cells": [
    {
      "cell_type": "markdown",
      "metadata": {
        "id": "view-in-github",
        "colab_type": "text"
      },
      "source": [
        "<a href=\"https://colab.research.google.com/github/JungMYEONG-jin/Stats_Project/blob/window/week7_reuters.ipynb\" target=\"_parent\"><img src=\"https://colab.research.google.com/assets/colab-badge.svg\" alt=\"Open In Colab\"/></a>"
      ]
    },
    {
      "cell_type": "code",
      "metadata": {
        "colab": {
          "base_uri": "https://localhost:8080/"
        },
        "id": "tNpxICdkGjDu",
        "outputId": "bba46997-a31f-48a4-f9e4-47f6d83a6926"
      },
      "source": [
        "from tensorflow.keras.datasets import reuters\n",
        "\n",
        "(train_data, train_labels), (test_data, test_labels) = reuters.load_data(num_words=10000)"
      ],
      "execution_count": 1,
      "outputs": [
        {
          "output_type": "stream",
          "text": [
            "Downloading data from https://storage.googleapis.com/tensorflow/tf-keras-datasets/reuters.npz\n",
            "2113536/2110848 [==============================] - 0s 0us/step\n"
          ],
          "name": "stdout"
        },
        {
          "output_type": "stream",
          "text": [
            "/usr/local/lib/python3.7/dist-packages/tensorflow/python/keras/datasets/reuters.py:148: VisibleDeprecationWarning: Creating an ndarray from ragged nested sequences (which is a list-or-tuple of lists-or-tuples-or ndarrays with different lengths or shapes) is deprecated. If you meant to do this, you must specify 'dtype=object' when creating the ndarray\n",
            "  x_train, y_train = np.array(xs[:idx]), np.array(labels[:idx])\n",
            "/usr/local/lib/python3.7/dist-packages/tensorflow/python/keras/datasets/reuters.py:149: VisibleDeprecationWarning: Creating an ndarray from ragged nested sequences (which is a list-or-tuple of lists-or-tuples-or ndarrays with different lengths or shapes) is deprecated. If you meant to do this, you must specify 'dtype=object' when creating the ndarray\n",
            "  x_test, y_test = np.array(xs[idx:]), np.array(labels[idx:])\n"
          ],
          "name": "stderr"
        }
      ]
    },
    {
      "cell_type": "code",
      "metadata": {
        "colab": {
          "base_uri": "https://localhost:8080/"
        },
        "id": "DfwWYcwuGxRJ",
        "outputId": "6dbee108-177c-43a4-bf73-56a94adbb274"
      },
      "source": [
        "w_idx = reuters.get_word_index()\n",
        "r_idx = dict([val, key] for (key, val) in w_idx.items())"
      ],
      "execution_count": 2,
      "outputs": [
        {
          "output_type": "stream",
          "text": [
            "Downloading data from https://storage.googleapis.com/tensorflow/tf-keras-datasets/reuters_word_index.json\n",
            "557056/550378 [==============================] - 0s 0us/step\n"
          ],
          "name": "stdout"
        }
      ]
    },
    {
      "cell_type": "code",
      "metadata": {
        "id": "FPq4S85PHIqp"
      },
      "source": [
        "decoded = ' '.join(r_idx.get(i-3,'?') for i in train_data[0])"
      ],
      "execution_count": 3,
      "outputs": []
    },
    {
      "cell_type": "code",
      "metadata": {
        "colab": {
          "base_uri": "https://localhost:8080/",
          "height": 52
        },
        "id": "3T_4RTLhHRyJ",
        "outputId": "351afdc6-f84a-4f6d-c24e-11b9dd7cab8e"
      },
      "source": [
        "decoded"
      ],
      "execution_count": 4,
      "outputs": [
        {
          "output_type": "execute_result",
          "data": {
            "application/vnd.google.colaboratory.intrinsic+json": {
              "type": "string"
            },
            "text/plain": [
              "'? ? ? said as a result of its december acquisition of space co it expects earnings per share in 1987 of 1 15 to 1 30 dlrs per share up from 70 cts in 1986 the company said pretax net should rise to nine to 10 mln dlrs from six mln dlrs in 1986 and rental operation revenues to 19 to 22 mln dlrs from 12 5 mln dlrs it said cash flow per share this year should be 2 50 to three dlrs reuter 3'"
            ]
          },
          "metadata": {
            "tags": []
          },
          "execution_count": 4
        }
      ]
    },
    {
      "cell_type": "code",
      "metadata": {
        "id": "40os_dK6HTGq"
      },
      "source": [
        "from keras.utils.np_utils import to_categorical\n",
        "\n",
        "oh_train_labels = to_categorical(train_labels)\n",
        "oh_test_labels = to_categorical(test_labels)"
      ],
      "execution_count": 5,
      "outputs": []
    },
    {
      "cell_type": "code",
      "metadata": {
        "colab": {
          "base_uri": "https://localhost:8080/"
        },
        "id": "EcXrAfvXHgLp",
        "outputId": "887a387c-ca31-4760-b906-df8ab4fafa8d"
      },
      "source": [
        "oh_train_labels.shape"
      ],
      "execution_count": 7,
      "outputs": [
        {
          "output_type": "execute_result",
          "data": {
            "text/plain": [
              "(8982, 46)"
            ]
          },
          "metadata": {
            "tags": []
          },
          "execution_count": 7
        }
      ]
    },
    {
      "cell_type": "code",
      "metadata": {
        "id": "5KsKTcGvHhSp"
      },
      "source": [
        "import numpy as np\n",
        "\n",
        "def seq_to_vec(seq, dim=10000):\n",
        "  res = np.zeros((len(seq), dim))\n",
        "  for i, s in enumerate(seq):\n",
        "    res[i, s]=1.\n",
        "  return res\n",
        "\n",
        "train_x = seq_to_vec(train_data)\n",
        "test_x = seq_to_vec(test_data)"
      ],
      "execution_count": 8,
      "outputs": []
    },
    {
      "cell_type": "code",
      "metadata": {
        "colab": {
          "base_uri": "https://localhost:8080/"
        },
        "id": "tZdQN74OIQGi",
        "outputId": "78b109f5-2c44-4b60-9b89-ee5d450ba5bb"
      },
      "source": [
        "train_x.shape"
      ],
      "execution_count": 9,
      "outputs": [
        {
          "output_type": "execute_result",
          "data": {
            "text/plain": [
              "(8982, 10000)"
            ]
          },
          "metadata": {
            "tags": []
          },
          "execution_count": 9
        }
      ]
    },
    {
      "cell_type": "code",
      "metadata": {
        "id": "u7vFiaP7IR9x"
      },
      "source": [
        "from keras import models\n",
        "from keras import layers\n",
        "\n",
        "model = models.Sequential()\n",
        "model.add(layers.Dense(64, activation=\"relu\", input_shape=(10000,)))\n",
        "model.add(layers.Dense(64, activation=\"relu\"))\n",
        "model.add(layers.Dense(46, activation=\"softmax\")) # softmax 여러개 classifying"
      ],
      "execution_count": 11,
      "outputs": []
    },
    {
      "cell_type": "code",
      "metadata": {
        "id": "a5sWbkxkInZR"
      },
      "source": [
        "model.compile(optimizer=\"rmsprop\", loss=\"categorical_crossentropy\", metrics=[\"accuracy\"])\n",
        "\n",
        "x_val = train_x[:1000]\n",
        "partial_x_train = train_x[1000:]\n",
        "\n",
        "y_val = oh_train_labels[:1000]\n",
        "partial_y_train = oh_train_labels[1000:]"
      ],
      "execution_count": 12,
      "outputs": []
    },
    {
      "cell_type": "code",
      "metadata": {
        "colab": {
          "base_uri": "https://localhost:8080/"
        },
        "id": "PzFatQT-KDoo",
        "outputId": "6ddd3b28-d8ff-421a-8b6c-f56ee370a0af"
      },
      "source": [
        "history = model.fit(partial_x_train, partial_y_train, epochs=20, batch_size=512, validation_data=(x_val, y_val))"
      ],
      "execution_count": 13,
      "outputs": [
        {
          "output_type": "stream",
          "text": [
            "Epoch 1/20\n",
            "16/16 [==============================] - 2s 78ms/step - loss: 3.3230 - accuracy: 0.3329 - val_loss: 1.9060 - val_accuracy: 0.6350\n",
            "Epoch 2/20\n",
            "16/16 [==============================] - 1s 39ms/step - loss: 1.6196 - accuracy: 0.6953 - val_loss: 1.3520 - val_accuracy: 0.6990\n",
            "Epoch 3/20\n",
            "16/16 [==============================] - 1s 39ms/step - loss: 1.1189 - accuracy: 0.7686 - val_loss: 1.1558 - val_accuracy: 0.7530\n",
            "Epoch 4/20\n",
            "16/16 [==============================] - 1s 39ms/step - loss: 0.8846 - accuracy: 0.8161 - val_loss: 1.0462 - val_accuracy: 0.7820\n",
            "Epoch 5/20\n",
            "16/16 [==============================] - 1s 38ms/step - loss: 0.6959 - accuracy: 0.8558 - val_loss: 0.9901 - val_accuracy: 0.7890\n",
            "Epoch 6/20\n",
            "16/16 [==============================] - 1s 38ms/step - loss: 0.5570 - accuracy: 0.8883 - val_loss: 0.9490 - val_accuracy: 0.7920\n",
            "Epoch 7/20\n",
            "16/16 [==============================] - 1s 38ms/step - loss: 0.4754 - accuracy: 0.9029 - val_loss: 0.9093 - val_accuracy: 0.8170\n",
            "Epoch 8/20\n",
            "16/16 [==============================] - 1s 38ms/step - loss: 0.3748 - accuracy: 0.9235 - val_loss: 0.9065 - val_accuracy: 0.8090\n",
            "Epoch 9/20\n",
            "16/16 [==============================] - 1s 37ms/step - loss: 0.3085 - accuracy: 0.9358 - val_loss: 0.9153 - val_accuracy: 0.8010\n",
            "Epoch 10/20\n",
            "16/16 [==============================] - 1s 38ms/step - loss: 0.2630 - accuracy: 0.9418 - val_loss: 0.9543 - val_accuracy: 0.8050\n",
            "Epoch 11/20\n",
            "16/16 [==============================] - 1s 38ms/step - loss: 0.2298 - accuracy: 0.9493 - val_loss: 0.9191 - val_accuracy: 0.8150\n",
            "Epoch 12/20\n",
            "16/16 [==============================] - 1s 38ms/step - loss: 0.1944 - accuracy: 0.9517 - val_loss: 0.9428 - val_accuracy: 0.8190\n",
            "Epoch 13/20\n",
            "16/16 [==============================] - 1s 38ms/step - loss: 0.1713 - accuracy: 0.9556 - val_loss: 0.9330 - val_accuracy: 0.8100\n",
            "Epoch 14/20\n",
            "16/16 [==============================] - 1s 38ms/step - loss: 0.1516 - accuracy: 0.9559 - val_loss: 0.9510 - val_accuracy: 0.8070\n",
            "Epoch 15/20\n",
            "16/16 [==============================] - 1s 38ms/step - loss: 0.1323 - accuracy: 0.9615 - val_loss: 1.0117 - val_accuracy: 0.8030\n",
            "Epoch 16/20\n",
            "16/16 [==============================] - 1s 38ms/step - loss: 0.1285 - accuracy: 0.9609 - val_loss: 0.9956 - val_accuracy: 0.8060\n",
            "Epoch 17/20\n",
            "16/16 [==============================] - 1s 38ms/step - loss: 0.1298 - accuracy: 0.9581 - val_loss: 1.0187 - val_accuracy: 0.8110\n",
            "Epoch 18/20\n",
            "16/16 [==============================] - 1s 38ms/step - loss: 0.1185 - accuracy: 0.9593 - val_loss: 1.0229 - val_accuracy: 0.7990\n",
            "Epoch 19/20\n",
            "16/16 [==============================] - 1s 37ms/step - loss: 0.1065 - accuracy: 0.9620 - val_loss: 1.0722 - val_accuracy: 0.8010\n",
            "Epoch 20/20\n",
            "16/16 [==============================] - 1s 37ms/step - loss: 0.1141 - accuracy: 0.9570 - val_loss: 1.0845 - val_accuracy: 0.8010\n"
          ],
          "name": "stdout"
        }
      ]
    },
    {
      "cell_type": "code",
      "metadata": {
        "id": "EwXm2KwCKMUH"
      },
      "source": [
        "pred = model.predict(test_x)"
      ],
      "execution_count": 14,
      "outputs": []
    },
    {
      "cell_type": "code",
      "metadata": {
        "colab": {
          "base_uri": "https://localhost:8080/"
        },
        "id": "RQqvTWCKKTgK",
        "outputId": "71beecdd-a313-40ae-d0aa-d239d1eb2ece"
      },
      "source": [
        "np.argmax(pred[0])"
      ],
      "execution_count": 17,
      "outputs": [
        {
          "output_type": "execute_result",
          "data": {
            "text/plain": [
              "3"
            ]
          },
          "metadata": {
            "tags": []
          },
          "execution_count": 17
        }
      ]
    },
    {
      "cell_type": "code",
      "metadata": {
        "colab": {
          "base_uri": "https://localhost:8080/"
        },
        "id": "MX8i48tlKVat",
        "outputId": "cf4d3be1-e67f-42af-fdbc-ed78f68084c1"
      },
      "source": [
        "pred[0]"
      ],
      "execution_count": 16,
      "outputs": [
        {
          "output_type": "execute_result",
          "data": {
            "text/plain": [
              "array([9.01558906e-07, 4.59421835e-06, 8.21765411e-09, 9.82952595e-01,\n",
              "       1.44355893e-02, 1.24915843e-07, 1.13670147e-07, 6.24273127e-07,\n",
              "       7.01653247e-04, 1.05859250e-08, 2.09202113e-08, 1.61154475e-03,\n",
              "       8.83714051e-07, 1.82822332e-05, 1.46139007e-06, 1.90677824e-07,\n",
              "       1.99839124e-05, 1.16111732e-06, 9.51826067e-08, 4.12490663e-05,\n",
              "       1.10550260e-04, 1.89924122e-05, 1.02623687e-07, 2.91738154e-08,\n",
              "       7.16793425e-09, 3.24686007e-05, 9.60077973e-09, 1.17124910e-06,\n",
              "       4.33221112e-06, 4.78688116e-06, 2.73922342e-06, 3.86545551e-08,\n",
              "       1.53227674e-07, 5.72274416e-07, 2.28389023e-08, 1.13926923e-07,\n",
              "       1.67296857e-05, 8.37558147e-08, 4.74152344e-08, 1.55797334e-05,\n",
              "       2.40762628e-08, 3.11280871e-07, 1.02115635e-07, 1.47945201e-09,\n",
              "       5.69718805e-09, 7.08468770e-11], dtype=float32)"
            ]
          },
          "metadata": {
            "tags": []
          },
          "execution_count": 16
        }
      ]
    },
    {
      "cell_type": "code",
      "metadata": {
        "id": "uqRwJ3RTKXSB"
      },
      "source": [
        "train_y = np.array(train_labels)\n",
        "test_y  = np.array(test_labels)\n",
        "\n",
        "model.compile(optimizer=\"rmsprop\", loss=\"sparse_categorical_crossentropy\", metrics=[\"acc\"])"
      ],
      "execution_count": 18,
      "outputs": []
    },
    {
      "cell_type": "code",
      "metadata": {
        "colab": {
          "base_uri": "https://localhost:8080/"
        },
        "id": "tBCTUTPjK1_i",
        "outputId": "56a3342e-7d4c-4797-d54d-2877b2d9fae9"
      },
      "source": [
        "y_val = train_y[:1000]\n",
        "partial_y_train = train_y[1000:]\n",
        "\n",
        "history = model.fit(partial_x_train, partial_y_train, epochs=20, batch_size=512, validation_data=(x_val, y_val))"
      ],
      "execution_count": 20,
      "outputs": [
        {
          "output_type": "stream",
          "text": [
            "Epoch 1/20\n",
            "16/16 [==============================] - 1s 47ms/step - loss: 0.1320 - acc: 0.9590 - val_loss: 1.1072 - val_acc: 0.8010\n",
            "Epoch 2/20\n",
            "16/16 [==============================] - 1s 38ms/step - loss: 0.1004 - acc: 0.9604 - val_loss: 1.0942 - val_acc: 0.8060\n",
            "Epoch 3/20\n",
            "16/16 [==============================] - 1s 38ms/step - loss: 0.0956 - acc: 0.9603 - val_loss: 1.1136 - val_acc: 0.7950\n",
            "Epoch 4/20\n",
            "16/16 [==============================] - 1s 38ms/step - loss: 0.0932 - acc: 0.9626 - val_loss: 1.1290 - val_acc: 0.7970\n",
            "Epoch 5/20\n",
            "16/16 [==============================] - 1s 38ms/step - loss: 0.0852 - acc: 0.9637 - val_loss: 1.1134 - val_acc: 0.7970\n",
            "Epoch 6/20\n",
            "16/16 [==============================] - 1s 37ms/step - loss: 0.0831 - acc: 0.9668 - val_loss: 1.1340 - val_acc: 0.8000\n",
            "Epoch 7/20\n",
            "16/16 [==============================] - 1s 39ms/step - loss: 0.0865 - acc: 0.9633 - val_loss: 1.1484 - val_acc: 0.7990\n",
            "Epoch 8/20\n",
            "16/16 [==============================] - 1s 38ms/step - loss: 0.0878 - acc: 0.9642 - val_loss: 1.1235 - val_acc: 0.8060\n",
            "Epoch 9/20\n",
            "16/16 [==============================] - 1s 38ms/step - loss: 0.0780 - acc: 0.9682 - val_loss: 1.2278 - val_acc: 0.7960\n",
            "Epoch 10/20\n",
            "16/16 [==============================] - 1s 38ms/step - loss: 0.0798 - acc: 0.9641 - val_loss: 1.2261 - val_acc: 0.7950\n",
            "Epoch 11/20\n",
            "16/16 [==============================] - 1s 38ms/step - loss: 0.0850 - acc: 0.9622 - val_loss: 1.2442 - val_acc: 0.7930\n",
            "Epoch 12/20\n",
            "16/16 [==============================] - 1s 39ms/step - loss: 0.0817 - acc: 0.9616 - val_loss: 1.2223 - val_acc: 0.8010\n",
            "Epoch 13/20\n",
            "16/16 [==============================] - 1s 38ms/step - loss: 0.0824 - acc: 0.9647 - val_loss: 1.2777 - val_acc: 0.7900\n",
            "Epoch 14/20\n",
            "16/16 [==============================] - 1s 38ms/step - loss: 0.0817 - acc: 0.9626 - val_loss: 1.2524 - val_acc: 0.7970\n",
            "Epoch 15/20\n",
            "16/16 [==============================] - 1s 39ms/step - loss: 0.0802 - acc: 0.9636 - val_loss: 1.2401 - val_acc: 0.7950\n",
            "Epoch 16/20\n",
            "16/16 [==============================] - 1s 37ms/step - loss: 0.0800 - acc: 0.9597 - val_loss: 1.2950 - val_acc: 0.7850\n",
            "Epoch 17/20\n",
            "16/16 [==============================] - 1s 38ms/step - loss: 0.0787 - acc: 0.9627 - val_loss: 1.2209 - val_acc: 0.7980\n",
            "Epoch 18/20\n",
            "16/16 [==============================] - 1s 38ms/step - loss: 0.0827 - acc: 0.9626 - val_loss: 1.3136 - val_acc: 0.7830\n",
            "Epoch 19/20\n",
            "16/16 [==============================] - 1s 37ms/step - loss: 0.0773 - acc: 0.9625 - val_loss: 1.2472 - val_acc: 0.8020\n",
            "Epoch 20/20\n",
            "16/16 [==============================] - 1s 37ms/step - loss: 0.0784 - acc: 0.9649 - val_loss: 1.3016 - val_acc: 0.7860\n"
          ],
          "name": "stdout"
        }
      ]
    },
    {
      "cell_type": "code",
      "metadata": {
        "id": "hTeXnxnuLOp6"
      },
      "source": [
        ""
      ],
      "execution_count": null,
      "outputs": []
    }
  ]
}