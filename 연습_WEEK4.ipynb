{
  "nbformat": 4,
  "nbformat_minor": 0,
  "metadata": {
    "colab": {
      "name": "연습_WEEK4.ipynb",
      "provenance": [],
      "collapsed_sections": [],
      "authorship_tag": "ABX9TyOSskKg/Aj3eYmc2NWpDtrO",
      "include_colab_link": true
    },
    "kernelspec": {
      "name": "ir",
      "display_name": "R"
    }
  },
  "cells": [
    {
      "cell_type": "markdown",
      "metadata": {
        "id": "view-in-github",
        "colab_type": "text"
      },
      "source": [
        "<a href=\"https://colab.research.google.com/github/JungMYEONG-jin/Stats_Project/blob/main/%EC%97%B0%EC%8A%B5_WEEK4.ipynb\" target=\"_parent\"><img src=\"https://colab.research.google.com/assets/colab-badge.svg\" alt=\"Open In Colab\"/></a>"
      ]
    },
    {
      "cell_type": "code",
      "metadata": {
        "id": "2HthN1IA3XRR",
        "colab": {
          "base_uri": "https://localhost:8080/"
        },
        "outputId": "c026e3a2-5d7e-4388-d231-633671aface9"
      },
      "source": [
        "library(tidyverse)"
      ],
      "execution_count": null,
      "outputs": [
        {
          "output_type": "stream",
          "text": [
            "Warning message in system(\"timedatectl\", intern = TRUE):\n",
            "“running command 'timedatectl' had status 1”\n",
            "── \u001b[1mAttaching packages\u001b[22m ─────────────────────────────────────── tidyverse 1.3.0 ──\n",
            "\n",
            "\u001b[32m✔\u001b[39m \u001b[34mggplot2\u001b[39m 3.3.3     \u001b[32m✔\u001b[39m \u001b[34mpurrr  \u001b[39m 0.3.4\n",
            "\u001b[32m✔\u001b[39m \u001b[34mtibble \u001b[39m 3.1.0     \u001b[32m✔\u001b[39m \u001b[34mdplyr  \u001b[39m 1.0.5\n",
            "\u001b[32m✔\u001b[39m \u001b[34mtidyr  \u001b[39m 1.1.3     \u001b[32m✔\u001b[39m \u001b[34mstringr\u001b[39m 1.4.0\n",
            "\u001b[32m✔\u001b[39m \u001b[34mreadr  \u001b[39m 1.4.0     \u001b[32m✔\u001b[39m \u001b[34mforcats\u001b[39m 0.5.1\n",
            "\n",
            "── \u001b[1mConflicts\u001b[22m ────────────────────────────────────────── tidyverse_conflicts() ──\n",
            "\u001b[31m✖\u001b[39m \u001b[34mdplyr\u001b[39m::\u001b[32mfilter()\u001b[39m masks \u001b[34mstats\u001b[39m::filter()\n",
            "\u001b[31m✖\u001b[39m \u001b[34mdplyr\u001b[39m::\u001b[32mlag()\u001b[39m    masks \u001b[34mstats\u001b[39m::lag()\n",
            "\n"
          ],
          "name": "stderr"
        }
      ]
    },
    {
      "cell_type": "code",
      "metadata": {
        "id": "gH9StmtK3Xhc"
      },
      "source": [
        "tidy4a <- table4a %>% pivot_longer(c('1999', '2000'), names_to=\"year\", values_to=\"cases\")"
      ],
      "execution_count": null,
      "outputs": []
    },
    {
      "cell_type": "code",
      "metadata": {
        "id": "g-ZTEnc83X0M"
      },
      "source": [
        "table4b <- table4b %>% pivot_longer(c('1999', '2000'), names_to=\"year\", values_to=\"population\")"
      ],
      "execution_count": null,
      "outputs": []
    },
    {
      "cell_type": "code",
      "metadata": {
        "id": "6KKtR-iO3X9E",
        "colab": {
          "base_uri": "https://localhost:8080/",
          "height": 305
        },
        "outputId": "51352bb9-e676-49f3-f5c9-c91230dc3d99"
      },
      "source": [
        "left_join(tidy4a, table4b)\n"
      ],
      "execution_count": null,
      "outputs": [
        {
          "output_type": "stream",
          "text": [
            "Joining, by = c(\"country\", \"year\")\n",
            "\n"
          ],
          "name": "stderr"
        },
        {
          "output_type": "display_data",
          "data": {
            "text/plain": [
              "  country     year cases  population\n",
              "1 Afghanistan 1999    745   19987071\n",
              "2 Afghanistan 2000   2666   20595360\n",
              "3 Brazil      1999  37737  172006362\n",
              "4 Brazil      2000  80488  174504898\n",
              "5 China       1999 212258 1272915272\n",
              "6 China       2000 213766 1280428583"
            ],
            "text/latex": "A tibble: 6 × 4\n\\begin{tabular}{llll}\n country & year & cases & population\\\\\n <chr> & <chr> & <int> & <int>\\\\\n\\hline\n\t Afghanistan & 1999 &    745 &   19987071\\\\\n\t Afghanistan & 2000 &   2666 &   20595360\\\\\n\t Brazil      & 1999 &  37737 &  172006362\\\\\n\t Brazil      & 2000 &  80488 &  174504898\\\\\n\t China       & 1999 & 212258 & 1272915272\\\\\n\t China       & 2000 & 213766 & 1280428583\\\\\n\\end{tabular}\n",
            "text/markdown": "\nA tibble: 6 × 4\n\n| country &lt;chr&gt; | year &lt;chr&gt; | cases &lt;int&gt; | population &lt;int&gt; |\n|---|---|---|---|\n| Afghanistan | 1999 |    745 |   19987071 |\n| Afghanistan | 2000 |   2666 |   20595360 |\n| Brazil      | 1999 |  37737 |  172006362 |\n| Brazil      | 2000 |  80488 |  174504898 |\n| China       | 1999 | 212258 | 1272915272 |\n| China       | 2000 | 213766 | 1280428583 |\n\n",
            "text/html": [
              "<table class=\"dataframe\">\n",
              "<caption>A tibble: 6 × 4</caption>\n",
              "<thead>\n",
              "\t<tr><th scope=col>country</th><th scope=col>year</th><th scope=col>cases</th><th scope=col>population</th></tr>\n",
              "\t<tr><th scope=col>&lt;chr&gt;</th><th scope=col>&lt;chr&gt;</th><th scope=col>&lt;int&gt;</th><th scope=col>&lt;int&gt;</th></tr>\n",
              "</thead>\n",
              "<tbody>\n",
              "\t<tr><td>Afghanistan</td><td>1999</td><td>   745</td><td>  19987071</td></tr>\n",
              "\t<tr><td>Afghanistan</td><td>2000</td><td>  2666</td><td>  20595360</td></tr>\n",
              "\t<tr><td>Brazil     </td><td>1999</td><td> 37737</td><td> 172006362</td></tr>\n",
              "\t<tr><td>Brazil     </td><td>2000</td><td> 80488</td><td> 174504898</td></tr>\n",
              "\t<tr><td>China      </td><td>1999</td><td>212258</td><td>1272915272</td></tr>\n",
              "\t<tr><td>China      </td><td>2000</td><td>213766</td><td>1280428583</td></tr>\n",
              "</tbody>\n",
              "</table>\n"
            ]
          },
          "metadata": {
            "tags": []
          }
        }
      ]
    },
    {
      "cell_type": "code",
      "metadata": {
        "colab": {
          "base_uri": "https://localhost:8080/",
          "height": 305
        },
        "id": "5EYYQg7g46dX",
        "outputId": "0d4207dd-38ef-4ffd-f9d8-3ffa16a5db9e"
      },
      "source": [
        "right_join(tidy4a, table4b)\n"
      ],
      "execution_count": null,
      "outputs": [
        {
          "output_type": "stream",
          "text": [
            "Joining, by = c(\"country\", \"year\")\n",
            "\n"
          ],
          "name": "stderr"
        },
        {
          "output_type": "display_data",
          "data": {
            "text/plain": [
              "  country     year cases  population\n",
              "1 Afghanistan 1999    745   19987071\n",
              "2 Afghanistan 2000   2666   20595360\n",
              "3 Brazil      1999  37737  172006362\n",
              "4 Brazil      2000  80488  174504898\n",
              "5 China       1999 212258 1272915272\n",
              "6 China       2000 213766 1280428583"
            ],
            "text/latex": "A tibble: 6 × 4\n\\begin{tabular}{llll}\n country & year & cases & population\\\\\n <chr> & <chr> & <int> & <int>\\\\\n\\hline\n\t Afghanistan & 1999 &    745 &   19987071\\\\\n\t Afghanistan & 2000 &   2666 &   20595360\\\\\n\t Brazil      & 1999 &  37737 &  172006362\\\\\n\t Brazil      & 2000 &  80488 &  174504898\\\\\n\t China       & 1999 & 212258 & 1272915272\\\\\n\t China       & 2000 & 213766 & 1280428583\\\\\n\\end{tabular}\n",
            "text/markdown": "\nA tibble: 6 × 4\n\n| country &lt;chr&gt; | year &lt;chr&gt; | cases &lt;int&gt; | population &lt;int&gt; |\n|---|---|---|---|\n| Afghanistan | 1999 |    745 |   19987071 |\n| Afghanistan | 2000 |   2666 |   20595360 |\n| Brazil      | 1999 |  37737 |  172006362 |\n| Brazil      | 2000 |  80488 |  174504898 |\n| China       | 1999 | 212258 | 1272915272 |\n| China       | 2000 | 213766 | 1280428583 |\n\n",
            "text/html": [
              "<table class=\"dataframe\">\n",
              "<caption>A tibble: 6 × 4</caption>\n",
              "<thead>\n",
              "\t<tr><th scope=col>country</th><th scope=col>year</th><th scope=col>cases</th><th scope=col>population</th></tr>\n",
              "\t<tr><th scope=col>&lt;chr&gt;</th><th scope=col>&lt;chr&gt;</th><th scope=col>&lt;int&gt;</th><th scope=col>&lt;int&gt;</th></tr>\n",
              "</thead>\n",
              "<tbody>\n",
              "\t<tr><td>Afghanistan</td><td>1999</td><td>   745</td><td>  19987071</td></tr>\n",
              "\t<tr><td>Afghanistan</td><td>2000</td><td>  2666</td><td>  20595360</td></tr>\n",
              "\t<tr><td>Brazil     </td><td>1999</td><td> 37737</td><td> 172006362</td></tr>\n",
              "\t<tr><td>Brazil     </td><td>2000</td><td> 80488</td><td> 174504898</td></tr>\n",
              "\t<tr><td>China      </td><td>1999</td><td>212258</td><td>1272915272</td></tr>\n",
              "\t<tr><td>China      </td><td>2000</td><td>213766</td><td>1280428583</td></tr>\n",
              "</tbody>\n",
              "</table>\n"
            ]
          },
          "metadata": {
            "tags": []
          }
        }
      ]
    },
    {
      "cell_type": "code",
      "metadata": {
        "colab": {
          "base_uri": "https://localhost:8080/",
          "height": 449
        },
        "id": "5EYYJG2E46ok",
        "outputId": "fe02d6d9-e386-4539-d4f2-55745843b32b"
      },
      "source": [
        "table2"
      ],
      "execution_count": null,
      "outputs": [
        {
          "output_type": "display_data",
          "data": {
            "text/plain": [
              "   country     year type       count     \n",
              "1  Afghanistan 1999 cases             745\n",
              "2  Afghanistan 1999 population   19987071\n",
              "3  Afghanistan 2000 cases            2666\n",
              "4  Afghanistan 2000 population   20595360\n",
              "5  Brazil      1999 cases           37737\n",
              "6  Brazil      1999 population  172006362\n",
              "7  Brazil      2000 cases           80488\n",
              "8  Brazil      2000 population  174504898\n",
              "9  China       1999 cases          212258\n",
              "10 China       1999 population 1272915272\n",
              "11 China       2000 cases          213766\n",
              "12 China       2000 population 1280428583"
            ],
            "text/latex": "A tibble: 12 × 4\n\\begin{tabular}{llll}\n country & year & type & count\\\\\n <chr> & <int> & <chr> & <int>\\\\\n\\hline\n\t Afghanistan & 1999 & cases      &        745\\\\\n\t Afghanistan & 1999 & population &   19987071\\\\\n\t Afghanistan & 2000 & cases      &       2666\\\\\n\t Afghanistan & 2000 & population &   20595360\\\\\n\t Brazil      & 1999 & cases      &      37737\\\\\n\t Brazil      & 1999 & population &  172006362\\\\\n\t Brazil      & 2000 & cases      &      80488\\\\\n\t Brazil      & 2000 & population &  174504898\\\\\n\t China       & 1999 & cases      &     212258\\\\\n\t China       & 1999 & population & 1272915272\\\\\n\t China       & 2000 & cases      &     213766\\\\\n\t China       & 2000 & population & 1280428583\\\\\n\\end{tabular}\n",
            "text/markdown": "\nA tibble: 12 × 4\n\n| country &lt;chr&gt; | year &lt;int&gt; | type &lt;chr&gt; | count &lt;int&gt; |\n|---|---|---|---|\n| Afghanistan | 1999 | cases      |        745 |\n| Afghanistan | 1999 | population |   19987071 |\n| Afghanistan | 2000 | cases      |       2666 |\n| Afghanistan | 2000 | population |   20595360 |\n| Brazil      | 1999 | cases      |      37737 |\n| Brazil      | 1999 | population |  172006362 |\n| Brazil      | 2000 | cases      |      80488 |\n| Brazil      | 2000 | population |  174504898 |\n| China       | 1999 | cases      |     212258 |\n| China       | 1999 | population | 1272915272 |\n| China       | 2000 | cases      |     213766 |\n| China       | 2000 | population | 1280428583 |\n\n",
            "text/html": [
              "<table class=\"dataframe\">\n",
              "<caption>A tibble: 12 × 4</caption>\n",
              "<thead>\n",
              "\t<tr><th scope=col>country</th><th scope=col>year</th><th scope=col>type</th><th scope=col>count</th></tr>\n",
              "\t<tr><th scope=col>&lt;chr&gt;</th><th scope=col>&lt;int&gt;</th><th scope=col>&lt;chr&gt;</th><th scope=col>&lt;int&gt;</th></tr>\n",
              "</thead>\n",
              "<tbody>\n",
              "\t<tr><td>Afghanistan</td><td>1999</td><td>cases     </td><td>       745</td></tr>\n",
              "\t<tr><td>Afghanistan</td><td>1999</td><td>population</td><td>  19987071</td></tr>\n",
              "\t<tr><td>Afghanistan</td><td>2000</td><td>cases     </td><td>      2666</td></tr>\n",
              "\t<tr><td>Afghanistan</td><td>2000</td><td>population</td><td>  20595360</td></tr>\n",
              "\t<tr><td>Brazil     </td><td>1999</td><td>cases     </td><td>     37737</td></tr>\n",
              "\t<tr><td>Brazil     </td><td>1999</td><td>population</td><td> 172006362</td></tr>\n",
              "\t<tr><td>Brazil     </td><td>2000</td><td>cases     </td><td>     80488</td></tr>\n",
              "\t<tr><td>Brazil     </td><td>2000</td><td>population</td><td> 174504898</td></tr>\n",
              "\t<tr><td>China      </td><td>1999</td><td>cases     </td><td>    212258</td></tr>\n",
              "\t<tr><td>China      </td><td>1999</td><td>population</td><td>1272915272</td></tr>\n",
              "\t<tr><td>China      </td><td>2000</td><td>cases     </td><td>    213766</td></tr>\n",
              "\t<tr><td>China      </td><td>2000</td><td>population</td><td>1280428583</td></tr>\n",
              "</tbody>\n",
              "</table>\n"
            ]
          },
          "metadata": {
            "tags": []
          }
        }
      ]
    },
    {
      "cell_type": "markdown",
      "metadata": {
        "id": "GNI8Vioj46wY"
      },
      "source": [
        ""
      ]
    },
    {
      "cell_type": "code",
      "metadata": {
        "colab": {
          "base_uri": "https://localhost:8080/",
          "height": 271
        },
        "id": "yYHeRFgW461f",
        "outputId": "d34bf7b0-ea1b-4907-b439-b742a233b17d"
      },
      "source": [
        "table2 %>% pivot_wider(names_from=type, values_from=count)"
      ],
      "execution_count": null,
      "outputs": [
        {
          "output_type": "display_data",
          "data": {
            "text/plain": [
              "  country     year cases  population\n",
              "1 Afghanistan 1999    745   19987071\n",
              "2 Afghanistan 2000   2666   20595360\n",
              "3 Brazil      1999  37737  172006362\n",
              "4 Brazil      2000  80488  174504898\n",
              "5 China       1999 212258 1272915272\n",
              "6 China       2000 213766 1280428583"
            ],
            "text/latex": "A tibble: 6 × 4\n\\begin{tabular}{llll}\n country & year & cases & population\\\\\n <chr> & <int> & <int> & <int>\\\\\n\\hline\n\t Afghanistan & 1999 &    745 &   19987071\\\\\n\t Afghanistan & 2000 &   2666 &   20595360\\\\\n\t Brazil      & 1999 &  37737 &  172006362\\\\\n\t Brazil      & 2000 &  80488 &  174504898\\\\\n\t China       & 1999 & 212258 & 1272915272\\\\\n\t China       & 2000 & 213766 & 1280428583\\\\\n\\end{tabular}\n",
            "text/markdown": "\nA tibble: 6 × 4\n\n| country &lt;chr&gt; | year &lt;int&gt; | cases &lt;int&gt; | population &lt;int&gt; |\n|---|---|---|---|\n| Afghanistan | 1999 |    745 |   19987071 |\n| Afghanistan | 2000 |   2666 |   20595360 |\n| Brazil      | 1999 |  37737 |  172006362 |\n| Brazil      | 2000 |  80488 |  174504898 |\n| China       | 1999 | 212258 | 1272915272 |\n| China       | 2000 | 213766 | 1280428583 |\n\n",
            "text/html": [
              "<table class=\"dataframe\">\n",
              "<caption>A tibble: 6 × 4</caption>\n",
              "<thead>\n",
              "\t<tr><th scope=col>country</th><th scope=col>year</th><th scope=col>cases</th><th scope=col>population</th></tr>\n",
              "\t<tr><th scope=col>&lt;chr&gt;</th><th scope=col>&lt;int&gt;</th><th scope=col>&lt;int&gt;</th><th scope=col>&lt;int&gt;</th></tr>\n",
              "</thead>\n",
              "<tbody>\n",
              "\t<tr><td>Afghanistan</td><td>1999</td><td>   745</td><td>  19987071</td></tr>\n",
              "\t<tr><td>Afghanistan</td><td>2000</td><td>  2666</td><td>  20595360</td></tr>\n",
              "\t<tr><td>Brazil     </td><td>1999</td><td> 37737</td><td> 172006362</td></tr>\n",
              "\t<tr><td>Brazil     </td><td>2000</td><td> 80488</td><td> 174504898</td></tr>\n",
              "\t<tr><td>China      </td><td>1999</td><td>212258</td><td>1272915272</td></tr>\n",
              "\t<tr><td>China      </td><td>2000</td><td>213766</td><td>1280428583</td></tr>\n",
              "</tbody>\n",
              "</table>\n"
            ]
          },
          "metadata": {
            "tags": []
          }
        }
      ]
    },
    {
      "cell_type": "code",
      "metadata": {
        "colab": {
          "base_uri": "https://localhost:8080/",
          "height": 271
        },
        "id": "GhYsAX6r463Y",
        "outputId": "25e90fda-2c0c-402f-ecef-79b3c5af1f1c"
      },
      "source": [
        "table3"
      ],
      "execution_count": null,
      "outputs": [
        {
          "output_type": "display_data",
          "data": {
            "text/plain": [
              "  country     year rate             \n",
              "1 Afghanistan 1999 745/19987071     \n",
              "2 Afghanistan 2000 2666/20595360    \n",
              "3 Brazil      1999 37737/172006362  \n",
              "4 Brazil      2000 80488/174504898  \n",
              "5 China       1999 212258/1272915272\n",
              "6 China       2000 213766/1280428583"
            ],
            "text/latex": "A tibble: 6 × 3\n\\begin{tabular}{r|lll}\n  & country & year & rate\\\\\n  & <chr> & <int> & <chr>\\\\\n\\hline\n\t1 & Afghanistan & 1999 & 745/19987071     \\\\\n\t2 & Afghanistan & 2000 & 2666/20595360    \\\\\n\t3 & Brazil      & 1999 & 37737/172006362  \\\\\n\t4 & Brazil      & 2000 & 80488/174504898  \\\\\n\t5 & China       & 1999 & 212258/1272915272\\\\\n\t6 & China       & 2000 & 213766/1280428583\\\\\n\\end{tabular}\n",
            "text/markdown": "\nA tibble: 6 × 3\n\n| <!--/--> | country &lt;chr&gt; | year &lt;int&gt; | rate &lt;chr&gt; |\n|---|---|---|---|\n| 1 | Afghanistan | 1999 | 745/19987071      |\n| 2 | Afghanistan | 2000 | 2666/20595360     |\n| 3 | Brazil      | 1999 | 37737/172006362   |\n| 4 | Brazil      | 2000 | 80488/174504898   |\n| 5 | China       | 1999 | 212258/1272915272 |\n| 6 | China       | 2000 | 213766/1280428583 |\n\n",
            "text/html": [
              "<table class=\"dataframe\">\n",
              "<caption>A tibble: 6 × 3</caption>\n",
              "<thead>\n",
              "\t<tr><th></th><th scope=col>country</th><th scope=col>year</th><th scope=col>rate</th></tr>\n",
              "\t<tr><th></th><th scope=col>&lt;chr&gt;</th><th scope=col>&lt;int&gt;</th><th scope=col>&lt;chr&gt;</th></tr>\n",
              "</thead>\n",
              "<tbody>\n",
              "\t<tr><th scope=row>1</th><td>Afghanistan</td><td>1999</td><td>745/19987071     </td></tr>\n",
              "\t<tr><th scope=row>2</th><td>Afghanistan</td><td>2000</td><td>2666/20595360    </td></tr>\n",
              "\t<tr><th scope=row>3</th><td>Brazil     </td><td>1999</td><td>37737/172006362  </td></tr>\n",
              "\t<tr><th scope=row>4</th><td>Brazil     </td><td>2000</td><td>80488/174504898  </td></tr>\n",
              "\t<tr><th scope=row>5</th><td>China      </td><td>1999</td><td>212258/1272915272</td></tr>\n",
              "\t<tr><th scope=row>6</th><td>China      </td><td>2000</td><td>213766/1280428583</td></tr>\n",
              "</tbody>\n",
              "</table>\n"
            ]
          },
          "metadata": {
            "tags": []
          }
        }
      ]
    },
    {
      "cell_type": "code",
      "metadata": {
        "id": "Q7bmR4Xu465p",
        "colab": {
          "base_uri": "https://localhost:8080/",
          "height": 271
        },
        "outputId": "ddbadac7-cac0-46ce-d9b1-2bfffca6a1f4"
      },
      "source": [
        "table4a %>% pivot_longer(c('1999', '2000'), names_to=\"year\", values_to=\"cases\")"
      ],
      "execution_count": null,
      "outputs": [
        {
          "output_type": "display_data",
          "data": {
            "text/plain": [
              "  country     year cases \n",
              "1 Afghanistan 1999    745\n",
              "2 Afghanistan 2000   2666\n",
              "3 Brazil      1999  37737\n",
              "4 Brazil      2000  80488\n",
              "5 China       1999 212258\n",
              "6 China       2000 213766"
            ],
            "text/latex": "A tibble: 6 × 3\n\\begin{tabular}{lll}\n country & year & cases\\\\\n <chr> & <chr> & <int>\\\\\n\\hline\n\t Afghanistan & 1999 &    745\\\\\n\t Afghanistan & 2000 &   2666\\\\\n\t Brazil      & 1999 &  37737\\\\\n\t Brazil      & 2000 &  80488\\\\\n\t China       & 1999 & 212258\\\\\n\t China       & 2000 & 213766\\\\\n\\end{tabular}\n",
            "text/markdown": "\nA tibble: 6 × 3\n\n| country &lt;chr&gt; | year &lt;chr&gt; | cases &lt;int&gt; |\n|---|---|---|\n| Afghanistan | 1999 |    745 |\n| Afghanistan | 2000 |   2666 |\n| Brazil      | 1999 |  37737 |\n| Brazil      | 2000 |  80488 |\n| China       | 1999 | 212258 |\n| China       | 2000 | 213766 |\n\n",
            "text/html": [
              "<table class=\"dataframe\">\n",
              "<caption>A tibble: 6 × 3</caption>\n",
              "<thead>\n",
              "\t<tr><th scope=col>country</th><th scope=col>year</th><th scope=col>cases</th></tr>\n",
              "\t<tr><th scope=col>&lt;chr&gt;</th><th scope=col>&lt;chr&gt;</th><th scope=col>&lt;int&gt;</th></tr>\n",
              "</thead>\n",
              "<tbody>\n",
              "\t<tr><td>Afghanistan</td><td>1999</td><td>   745</td></tr>\n",
              "\t<tr><td>Afghanistan</td><td>2000</td><td>  2666</td></tr>\n",
              "\t<tr><td>Brazil     </td><td>1999</td><td> 37737</td></tr>\n",
              "\t<tr><td>Brazil     </td><td>2000</td><td> 80488</td></tr>\n",
              "\t<tr><td>China      </td><td>1999</td><td>212258</td></tr>\n",
              "\t<tr><td>China      </td><td>2000</td><td>213766</td></tr>\n",
              "</tbody>\n",
              "</table>\n"
            ]
          },
          "metadata": {
            "tags": []
          }
        }
      ]
    },
    {
      "cell_type": "code",
      "metadata": {
        "id": "JVNBsqJ_468O",
        "colab": {
          "base_uri": "https://localhost:8080/",
          "height": 271
        },
        "outputId": "409d028f-e0a3-4398-e09c-577325adf72e"
      },
      "source": [
        "table4b %>% pivot_longer(c('1999', '2000'), names_to=\"year\", values_to=\"populations\")"
      ],
      "execution_count": null,
      "outputs": [
        {
          "output_type": "display_data",
          "data": {
            "text/plain": [
              "  country     year populations\n",
              "1 Afghanistan 1999   19987071 \n",
              "2 Afghanistan 2000   20595360 \n",
              "3 Brazil      1999  172006362 \n",
              "4 Brazil      2000  174504898 \n",
              "5 China       1999 1272915272 \n",
              "6 China       2000 1280428583 "
            ],
            "text/latex": "A tibble: 6 × 3\n\\begin{tabular}{lll}\n country & year & populations\\\\\n <chr> & <chr> & <int>\\\\\n\\hline\n\t Afghanistan & 1999 &   19987071\\\\\n\t Afghanistan & 2000 &   20595360\\\\\n\t Brazil      & 1999 &  172006362\\\\\n\t Brazil      & 2000 &  174504898\\\\\n\t China       & 1999 & 1272915272\\\\\n\t China       & 2000 & 1280428583\\\\\n\\end{tabular}\n",
            "text/markdown": "\nA tibble: 6 × 3\n\n| country &lt;chr&gt; | year &lt;chr&gt; | populations &lt;int&gt; |\n|---|---|---|\n| Afghanistan | 1999 |   19987071 |\n| Afghanistan | 2000 |   20595360 |\n| Brazil      | 1999 |  172006362 |\n| Brazil      | 2000 |  174504898 |\n| China       | 1999 | 1272915272 |\n| China       | 2000 | 1280428583 |\n\n",
            "text/html": [
              "<table class=\"dataframe\">\n",
              "<caption>A tibble: 6 × 3</caption>\n",
              "<thead>\n",
              "\t<tr><th scope=col>country</th><th scope=col>year</th><th scope=col>populations</th></tr>\n",
              "\t<tr><th scope=col>&lt;chr&gt;</th><th scope=col>&lt;chr&gt;</th><th scope=col>&lt;int&gt;</th></tr>\n",
              "</thead>\n",
              "<tbody>\n",
              "\t<tr><td>Afghanistan</td><td>1999</td><td>  19987071</td></tr>\n",
              "\t<tr><td>Afghanistan</td><td>2000</td><td>  20595360</td></tr>\n",
              "\t<tr><td>Brazil     </td><td>1999</td><td> 172006362</td></tr>\n",
              "\t<tr><td>Brazil     </td><td>2000</td><td> 174504898</td></tr>\n",
              "\t<tr><td>China      </td><td>1999</td><td>1272915272</td></tr>\n",
              "\t<tr><td>China      </td><td>2000</td><td>1280428583</td></tr>\n",
              "</tbody>\n",
              "</table>\n"
            ]
          },
          "metadata": {
            "tags": []
          }
        }
      ]
    },
    {
      "cell_type": "code",
      "metadata": {
        "id": "PTPH1Tfv46-9"
      },
      "source": [
        "a <- table4a %>% pivot_longer(c('1999', '2000'), names_to=\"year\", values_to=\"cases\")"
      ],
      "execution_count": null,
      "outputs": []
    },
    {
      "cell_type": "code",
      "metadata": {
        "id": "liD5G_1E47Bb"
      },
      "source": [
        "b <- table4b %>% pivot_longer(c('1999', '2000'), names_to=\"year\", values_to=\"populations\")"
      ],
      "execution_count": null,
      "outputs": []
    },
    {
      "cell_type": "code",
      "metadata": {
        "id": "9rUt-aal47Dj",
        "colab": {
          "base_uri": "https://localhost:8080/",
          "height": 305
        },
        "outputId": "b38847fd-ef41-4bcb-8342-05fd5b2413a2"
      },
      "source": [
        "left_join(a,b)"
      ],
      "execution_count": null,
      "outputs": [
        {
          "output_type": "stream",
          "text": [
            "Joining, by = c(\"country\", \"year\")\n",
            "\n"
          ],
          "name": "stderr"
        },
        {
          "output_type": "display_data",
          "data": {
            "text/plain": [
              "  country     year cases  populations\n",
              "1 Afghanistan 1999    745   19987071 \n",
              "2 Afghanistan 2000   2666   20595360 \n",
              "3 Brazil      1999  37737  172006362 \n",
              "4 Brazil      2000  80488  174504898 \n",
              "5 China       1999 212258 1272915272 \n",
              "6 China       2000 213766 1280428583 "
            ],
            "text/latex": "A tibble: 6 × 4\n\\begin{tabular}{llll}\n country & year & cases & populations\\\\\n <chr> & <chr> & <int> & <int>\\\\\n\\hline\n\t Afghanistan & 1999 &    745 &   19987071\\\\\n\t Afghanistan & 2000 &   2666 &   20595360\\\\\n\t Brazil      & 1999 &  37737 &  172006362\\\\\n\t Brazil      & 2000 &  80488 &  174504898\\\\\n\t China       & 1999 & 212258 & 1272915272\\\\\n\t China       & 2000 & 213766 & 1280428583\\\\\n\\end{tabular}\n",
            "text/markdown": "\nA tibble: 6 × 4\n\n| country &lt;chr&gt; | year &lt;chr&gt; | cases &lt;int&gt; | populations &lt;int&gt; |\n|---|---|---|---|\n| Afghanistan | 1999 |    745 |   19987071 |\n| Afghanistan | 2000 |   2666 |   20595360 |\n| Brazil      | 1999 |  37737 |  172006362 |\n| Brazil      | 2000 |  80488 |  174504898 |\n| China       | 1999 | 212258 | 1272915272 |\n| China       | 2000 | 213766 | 1280428583 |\n\n",
            "text/html": [
              "<table class=\"dataframe\">\n",
              "<caption>A tibble: 6 × 4</caption>\n",
              "<thead>\n",
              "\t<tr><th scope=col>country</th><th scope=col>year</th><th scope=col>cases</th><th scope=col>populations</th></tr>\n",
              "\t<tr><th scope=col>&lt;chr&gt;</th><th scope=col>&lt;chr&gt;</th><th scope=col>&lt;int&gt;</th><th scope=col>&lt;int&gt;</th></tr>\n",
              "</thead>\n",
              "<tbody>\n",
              "\t<tr><td>Afghanistan</td><td>1999</td><td>   745</td><td>  19987071</td></tr>\n",
              "\t<tr><td>Afghanistan</td><td>2000</td><td>  2666</td><td>  20595360</td></tr>\n",
              "\t<tr><td>Brazil     </td><td>1999</td><td> 37737</td><td> 172006362</td></tr>\n",
              "\t<tr><td>Brazil     </td><td>2000</td><td> 80488</td><td> 174504898</td></tr>\n",
              "\t<tr><td>China      </td><td>1999</td><td>212258</td><td>1272915272</td></tr>\n",
              "\t<tr><td>China      </td><td>2000</td><td>213766</td><td>1280428583</td></tr>\n",
              "</tbody>\n",
              "</table>\n"
            ]
          },
          "metadata": {
            "tags": []
          }
        }
      ]
    },
    {
      "cell_type": "code",
      "metadata": {
        "id": "xX6BY-tV47Fl",
        "colab": {
          "base_uri": "https://localhost:8080/",
          "height": 449
        },
        "outputId": "b3dad548-f333-4e31-f6b6-12306b23bd8e"
      },
      "source": [
        "table2"
      ],
      "execution_count": null,
      "outputs": [
        {
          "output_type": "display_data",
          "data": {
            "text/plain": [
              "   country     year type       count     \n",
              "1  Afghanistan 1999 cases             745\n",
              "2  Afghanistan 1999 population   19987071\n",
              "3  Afghanistan 2000 cases            2666\n",
              "4  Afghanistan 2000 population   20595360\n",
              "5  Brazil      1999 cases           37737\n",
              "6  Brazil      1999 population  172006362\n",
              "7  Brazil      2000 cases           80488\n",
              "8  Brazil      2000 population  174504898\n",
              "9  China       1999 cases          212258\n",
              "10 China       1999 population 1272915272\n",
              "11 China       2000 cases          213766\n",
              "12 China       2000 population 1280428583"
            ],
            "text/latex": "A tibble: 12 × 4\n\\begin{tabular}{llll}\n country & year & type & count\\\\\n <chr> & <int> & <chr> & <int>\\\\\n\\hline\n\t Afghanistan & 1999 & cases      &        745\\\\\n\t Afghanistan & 1999 & population &   19987071\\\\\n\t Afghanistan & 2000 & cases      &       2666\\\\\n\t Afghanistan & 2000 & population &   20595360\\\\\n\t Brazil      & 1999 & cases      &      37737\\\\\n\t Brazil      & 1999 & population &  172006362\\\\\n\t Brazil      & 2000 & cases      &      80488\\\\\n\t Brazil      & 2000 & population &  174504898\\\\\n\t China       & 1999 & cases      &     212258\\\\\n\t China       & 1999 & population & 1272915272\\\\\n\t China       & 2000 & cases      &     213766\\\\\n\t China       & 2000 & population & 1280428583\\\\\n\\end{tabular}\n",
            "text/markdown": "\nA tibble: 12 × 4\n\n| country &lt;chr&gt; | year &lt;int&gt; | type &lt;chr&gt; | count &lt;int&gt; |\n|---|---|---|---|\n| Afghanistan | 1999 | cases      |        745 |\n| Afghanistan | 1999 | population |   19987071 |\n| Afghanistan | 2000 | cases      |       2666 |\n| Afghanistan | 2000 | population |   20595360 |\n| Brazil      | 1999 | cases      |      37737 |\n| Brazil      | 1999 | population |  172006362 |\n| Brazil      | 2000 | cases      |      80488 |\n| Brazil      | 2000 | population |  174504898 |\n| China       | 1999 | cases      |     212258 |\n| China       | 1999 | population | 1272915272 |\n| China       | 2000 | cases      |     213766 |\n| China       | 2000 | population | 1280428583 |\n\n",
            "text/html": [
              "<table class=\"dataframe\">\n",
              "<caption>A tibble: 12 × 4</caption>\n",
              "<thead>\n",
              "\t<tr><th scope=col>country</th><th scope=col>year</th><th scope=col>type</th><th scope=col>count</th></tr>\n",
              "\t<tr><th scope=col>&lt;chr&gt;</th><th scope=col>&lt;int&gt;</th><th scope=col>&lt;chr&gt;</th><th scope=col>&lt;int&gt;</th></tr>\n",
              "</thead>\n",
              "<tbody>\n",
              "\t<tr><td>Afghanistan</td><td>1999</td><td>cases     </td><td>       745</td></tr>\n",
              "\t<tr><td>Afghanistan</td><td>1999</td><td>population</td><td>  19987071</td></tr>\n",
              "\t<tr><td>Afghanistan</td><td>2000</td><td>cases     </td><td>      2666</td></tr>\n",
              "\t<tr><td>Afghanistan</td><td>2000</td><td>population</td><td>  20595360</td></tr>\n",
              "\t<tr><td>Brazil     </td><td>1999</td><td>cases     </td><td>     37737</td></tr>\n",
              "\t<tr><td>Brazil     </td><td>1999</td><td>population</td><td> 172006362</td></tr>\n",
              "\t<tr><td>Brazil     </td><td>2000</td><td>cases     </td><td>     80488</td></tr>\n",
              "\t<tr><td>Brazil     </td><td>2000</td><td>population</td><td> 174504898</td></tr>\n",
              "\t<tr><td>China      </td><td>1999</td><td>cases     </td><td>    212258</td></tr>\n",
              "\t<tr><td>China      </td><td>1999</td><td>population</td><td>1272915272</td></tr>\n",
              "\t<tr><td>China      </td><td>2000</td><td>cases     </td><td>    213766</td></tr>\n",
              "\t<tr><td>China      </td><td>2000</td><td>population</td><td>1280428583</td></tr>\n",
              "</tbody>\n",
              "</table>\n"
            ]
          },
          "metadata": {
            "tags": []
          }
        }
      ]
    },
    {
      "cell_type": "code",
      "metadata": {
        "colab": {
          "base_uri": "https://localhost:8080/",
          "height": 271
        },
        "id": "PzJFznJMBixP",
        "outputId": "4aaa3812-24b8-4209-a4ee-65047fa3318c"
      },
      "source": [
        "table2 %>% pivot_wider(names_from=type, values_from=count)"
      ],
      "execution_count": null,
      "outputs": [
        {
          "output_type": "display_data",
          "data": {
            "text/plain": [
              "  country     year cases  population\n",
              "1 Afghanistan 1999    745   19987071\n",
              "2 Afghanistan 2000   2666   20595360\n",
              "3 Brazil      1999  37737  172006362\n",
              "4 Brazil      2000  80488  174504898\n",
              "5 China       1999 212258 1272915272\n",
              "6 China       2000 213766 1280428583"
            ],
            "text/latex": "A tibble: 6 × 4\n\\begin{tabular}{llll}\n country & year & cases & population\\\\\n <chr> & <int> & <int> & <int>\\\\\n\\hline\n\t Afghanistan & 1999 &    745 &   19987071\\\\\n\t Afghanistan & 2000 &   2666 &   20595360\\\\\n\t Brazil      & 1999 &  37737 &  172006362\\\\\n\t Brazil      & 2000 &  80488 &  174504898\\\\\n\t China       & 1999 & 212258 & 1272915272\\\\\n\t China       & 2000 & 213766 & 1280428583\\\\\n\\end{tabular}\n",
            "text/markdown": "\nA tibble: 6 × 4\n\n| country &lt;chr&gt; | year &lt;int&gt; | cases &lt;int&gt; | population &lt;int&gt; |\n|---|---|---|---|\n| Afghanistan | 1999 |    745 |   19987071 |\n| Afghanistan | 2000 |   2666 |   20595360 |\n| Brazil      | 1999 |  37737 |  172006362 |\n| Brazil      | 2000 |  80488 |  174504898 |\n| China       | 1999 | 212258 | 1272915272 |\n| China       | 2000 | 213766 | 1280428583 |\n\n",
            "text/html": [
              "<table class=\"dataframe\">\n",
              "<caption>A tibble: 6 × 4</caption>\n",
              "<thead>\n",
              "\t<tr><th scope=col>country</th><th scope=col>year</th><th scope=col>cases</th><th scope=col>population</th></tr>\n",
              "\t<tr><th scope=col>&lt;chr&gt;</th><th scope=col>&lt;int&gt;</th><th scope=col>&lt;int&gt;</th><th scope=col>&lt;int&gt;</th></tr>\n",
              "</thead>\n",
              "<tbody>\n",
              "\t<tr><td>Afghanistan</td><td>1999</td><td>   745</td><td>  19987071</td></tr>\n",
              "\t<tr><td>Afghanistan</td><td>2000</td><td>  2666</td><td>  20595360</td></tr>\n",
              "\t<tr><td>Brazil     </td><td>1999</td><td> 37737</td><td> 172006362</td></tr>\n",
              "\t<tr><td>Brazil     </td><td>2000</td><td> 80488</td><td> 174504898</td></tr>\n",
              "\t<tr><td>China      </td><td>1999</td><td>212258</td><td>1272915272</td></tr>\n",
              "\t<tr><td>China      </td><td>2000</td><td>213766</td><td>1280428583</td></tr>\n",
              "</tbody>\n",
              "</table>\n"
            ]
          },
          "metadata": {
            "tags": []
          }
        }
      ]
    },
    {
      "cell_type": "code",
      "metadata": {
        "colab": {
          "base_uri": "https://localhost:8080/",
          "height": 271
        },
        "id": "d8WhTgolBit4",
        "outputId": "97c777e1-2c31-4167-ca0b-bf67b79e81c5"
      },
      "source": [
        "table3"
      ],
      "execution_count": null,
      "outputs": [
        {
          "output_type": "display_data",
          "data": {
            "text/plain": [
              "  country     year rate             \n",
              "1 Afghanistan 1999 745/19987071     \n",
              "2 Afghanistan 2000 2666/20595360    \n",
              "3 Brazil      1999 37737/172006362  \n",
              "4 Brazil      2000 80488/174504898  \n",
              "5 China       1999 212258/1272915272\n",
              "6 China       2000 213766/1280428583"
            ],
            "text/latex": "A tibble: 6 × 3\n\\begin{tabular}{r|lll}\n  & country & year & rate\\\\\n  & <chr> & <int> & <chr>\\\\\n\\hline\n\t1 & Afghanistan & 1999 & 745/19987071     \\\\\n\t2 & Afghanistan & 2000 & 2666/20595360    \\\\\n\t3 & Brazil      & 1999 & 37737/172006362  \\\\\n\t4 & Brazil      & 2000 & 80488/174504898  \\\\\n\t5 & China       & 1999 & 212258/1272915272\\\\\n\t6 & China       & 2000 & 213766/1280428583\\\\\n\\end{tabular}\n",
            "text/markdown": "\nA tibble: 6 × 3\n\n| <!--/--> | country &lt;chr&gt; | year &lt;int&gt; | rate &lt;chr&gt; |\n|---|---|---|---|\n| 1 | Afghanistan | 1999 | 745/19987071      |\n| 2 | Afghanistan | 2000 | 2666/20595360     |\n| 3 | Brazil      | 1999 | 37737/172006362   |\n| 4 | Brazil      | 2000 | 80488/174504898   |\n| 5 | China       | 1999 | 212258/1272915272 |\n| 6 | China       | 2000 | 213766/1280428583 |\n\n",
            "text/html": [
              "<table class=\"dataframe\">\n",
              "<caption>A tibble: 6 × 3</caption>\n",
              "<thead>\n",
              "\t<tr><th></th><th scope=col>country</th><th scope=col>year</th><th scope=col>rate</th></tr>\n",
              "\t<tr><th></th><th scope=col>&lt;chr&gt;</th><th scope=col>&lt;int&gt;</th><th scope=col>&lt;chr&gt;</th></tr>\n",
              "</thead>\n",
              "<tbody>\n",
              "\t<tr><th scope=row>1</th><td>Afghanistan</td><td>1999</td><td>745/19987071     </td></tr>\n",
              "\t<tr><th scope=row>2</th><td>Afghanistan</td><td>2000</td><td>2666/20595360    </td></tr>\n",
              "\t<tr><th scope=row>3</th><td>Brazil     </td><td>1999</td><td>37737/172006362  </td></tr>\n",
              "\t<tr><th scope=row>4</th><td>Brazil     </td><td>2000</td><td>80488/174504898  </td></tr>\n",
              "\t<tr><th scope=row>5</th><td>China      </td><td>1999</td><td>212258/1272915272</td></tr>\n",
              "\t<tr><th scope=row>6</th><td>China      </td><td>2000</td><td>213766/1280428583</td></tr>\n",
              "</tbody>\n",
              "</table>\n"
            ]
          },
          "metadata": {
            "tags": []
          }
        }
      ]
    },
    {
      "cell_type": "code",
      "metadata": {
        "colab": {
          "base_uri": "https://localhost:8080/",
          "height": 271
        },
        "id": "aUZD4ED9BirX",
        "outputId": "b27d7f03-5689-4eb0-b187-76ed0036e7b2"
      },
      "source": [
        "table3 %>% separate(rate, into = c(\"cases\", \"population\"))"
      ],
      "execution_count": null,
      "outputs": [
        {
          "output_type": "display_data",
          "data": {
            "text/plain": [
              "  country     year cases  population\n",
              "1 Afghanistan 1999 745    19987071  \n",
              "2 Afghanistan 2000 2666   20595360  \n",
              "3 Brazil      1999 37737  172006362 \n",
              "4 Brazil      2000 80488  174504898 \n",
              "5 China       1999 212258 1272915272\n",
              "6 China       2000 213766 1280428583"
            ],
            "text/latex": "A tibble: 6 × 4\n\\begin{tabular}{llll}\n country & year & cases & population\\\\\n <chr> & <int> & <chr> & <chr>\\\\\n\\hline\n\t Afghanistan & 1999 & 745    & 19987071  \\\\\n\t Afghanistan & 2000 & 2666   & 20595360  \\\\\n\t Brazil      & 1999 & 37737  & 172006362 \\\\\n\t Brazil      & 2000 & 80488  & 174504898 \\\\\n\t China       & 1999 & 212258 & 1272915272\\\\\n\t China       & 2000 & 213766 & 1280428583\\\\\n\\end{tabular}\n",
            "text/markdown": "\nA tibble: 6 × 4\n\n| country &lt;chr&gt; | year &lt;int&gt; | cases &lt;chr&gt; | population &lt;chr&gt; |\n|---|---|---|---|\n| Afghanistan | 1999 | 745    | 19987071   |\n| Afghanistan | 2000 | 2666   | 20595360   |\n| Brazil      | 1999 | 37737  | 172006362  |\n| Brazil      | 2000 | 80488  | 174504898  |\n| China       | 1999 | 212258 | 1272915272 |\n| China       | 2000 | 213766 | 1280428583 |\n\n",
            "text/html": [
              "<table class=\"dataframe\">\n",
              "<caption>A tibble: 6 × 4</caption>\n",
              "<thead>\n",
              "\t<tr><th scope=col>country</th><th scope=col>year</th><th scope=col>cases</th><th scope=col>population</th></tr>\n",
              "\t<tr><th scope=col>&lt;chr&gt;</th><th scope=col>&lt;int&gt;</th><th scope=col>&lt;chr&gt;</th><th scope=col>&lt;chr&gt;</th></tr>\n",
              "</thead>\n",
              "<tbody>\n",
              "\t<tr><td>Afghanistan</td><td>1999</td><td>745   </td><td>19987071  </td></tr>\n",
              "\t<tr><td>Afghanistan</td><td>2000</td><td>2666  </td><td>20595360  </td></tr>\n",
              "\t<tr><td>Brazil     </td><td>1999</td><td>37737 </td><td>172006362 </td></tr>\n",
              "\t<tr><td>Brazil     </td><td>2000</td><td>80488 </td><td>174504898 </td></tr>\n",
              "\t<tr><td>China      </td><td>1999</td><td>212258</td><td>1272915272</td></tr>\n",
              "\t<tr><td>China      </td><td>2000</td><td>213766</td><td>1280428583</td></tr>\n",
              "</tbody>\n",
              "</table>\n"
            ]
          },
          "metadata": {
            "tags": []
          }
        }
      ]
    },
    {
      "cell_type": "code",
      "metadata": {
        "colab": {
          "base_uri": "https://localhost:8080/",
          "height": 271
        },
        "id": "vmo5F8YsBinm",
        "outputId": "1b42b465-8027-4570-9973-e6e19237d7af"
      },
      "source": [
        "table5"
      ],
      "execution_count": null,
      "outputs": [
        {
          "output_type": "display_data",
          "data": {
            "text/plain": [
              "  country     century year rate             \n",
              "1 Afghanistan 19      99   745/19987071     \n",
              "2 Afghanistan 20      00   2666/20595360    \n",
              "3 Brazil      19      99   37737/172006362  \n",
              "4 Brazil      20      00   80488/174504898  \n",
              "5 China       19      99   212258/1272915272\n",
              "6 China       20      00   213766/1280428583"
            ],
            "text/latex": "A tibble: 6 × 4\n\\begin{tabular}{r|llll}\n  & country & century & year & rate\\\\\n  & <chr> & <chr> & <chr> & <chr>\\\\\n\\hline\n\t1 & Afghanistan & 19 & 99 & 745/19987071     \\\\\n\t2 & Afghanistan & 20 & 00 & 2666/20595360    \\\\\n\t3 & Brazil      & 19 & 99 & 37737/172006362  \\\\\n\t4 & Brazil      & 20 & 00 & 80488/174504898  \\\\\n\t5 & China       & 19 & 99 & 212258/1272915272\\\\\n\t6 & China       & 20 & 00 & 213766/1280428583\\\\\n\\end{tabular}\n",
            "text/markdown": "\nA tibble: 6 × 4\n\n| <!--/--> | country &lt;chr&gt; | century &lt;chr&gt; | year &lt;chr&gt; | rate &lt;chr&gt; |\n|---|---|---|---|---|\n| 1 | Afghanistan | 19 | 99 | 745/19987071      |\n| 2 | Afghanistan | 20 | 00 | 2666/20595360     |\n| 3 | Brazil      | 19 | 99 | 37737/172006362   |\n| 4 | Brazil      | 20 | 00 | 80488/174504898   |\n| 5 | China       | 19 | 99 | 212258/1272915272 |\n| 6 | China       | 20 | 00 | 213766/1280428583 |\n\n",
            "text/html": [
              "<table class=\"dataframe\">\n",
              "<caption>A tibble: 6 × 4</caption>\n",
              "<thead>\n",
              "\t<tr><th></th><th scope=col>country</th><th scope=col>century</th><th scope=col>year</th><th scope=col>rate</th></tr>\n",
              "\t<tr><th></th><th scope=col>&lt;chr&gt;</th><th scope=col>&lt;chr&gt;</th><th scope=col>&lt;chr&gt;</th><th scope=col>&lt;chr&gt;</th></tr>\n",
              "</thead>\n",
              "<tbody>\n",
              "\t<tr><th scope=row>1</th><td>Afghanistan</td><td>19</td><td>99</td><td>745/19987071     </td></tr>\n",
              "\t<tr><th scope=row>2</th><td>Afghanistan</td><td>20</td><td>00</td><td>2666/20595360    </td></tr>\n",
              "\t<tr><th scope=row>3</th><td>Brazil     </td><td>19</td><td>99</td><td>37737/172006362  </td></tr>\n",
              "\t<tr><th scope=row>4</th><td>Brazil     </td><td>20</td><td>00</td><td>80488/174504898  </td></tr>\n",
              "\t<tr><th scope=row>5</th><td>China      </td><td>19</td><td>99</td><td>212258/1272915272</td></tr>\n",
              "\t<tr><th scope=row>6</th><td>China      </td><td>20</td><td>00</td><td>213766/1280428583</td></tr>\n",
              "</tbody>\n",
              "</table>\n"
            ]
          },
          "metadata": {
            "tags": []
          }
        }
      ]
    },
    {
      "cell_type": "code",
      "metadata": {
        "colab": {
          "base_uri": "https://localhost:8080/",
          "height": 271
        },
        "id": "70fVOL8MBikE",
        "outputId": "bf3ec761-9685-456e-c577-0f1bf26ec1ca"
      },
      "source": [
        "table5 %>% unite(full_year, century, year, sep=\"\")"
      ],
      "execution_count": null,
      "outputs": [
        {
          "output_type": "display_data",
          "data": {
            "text/plain": [
              "  country     full_year rate             \n",
              "1 Afghanistan 1999      745/19987071     \n",
              "2 Afghanistan 2000      2666/20595360    \n",
              "3 Brazil      1999      37737/172006362  \n",
              "4 Brazil      2000      80488/174504898  \n",
              "5 China       1999      212258/1272915272\n",
              "6 China       2000      213766/1280428583"
            ],
            "text/latex": "A tibble: 6 × 3\n\\begin{tabular}{lll}\n country & full\\_year & rate\\\\\n <chr> & <chr> & <chr>\\\\\n\\hline\n\t Afghanistan & 1999 & 745/19987071     \\\\\n\t Afghanistan & 2000 & 2666/20595360    \\\\\n\t Brazil      & 1999 & 37737/172006362  \\\\\n\t Brazil      & 2000 & 80488/174504898  \\\\\n\t China       & 1999 & 212258/1272915272\\\\\n\t China       & 2000 & 213766/1280428583\\\\\n\\end{tabular}\n",
            "text/markdown": "\nA tibble: 6 × 3\n\n| country &lt;chr&gt; | full_year &lt;chr&gt; | rate &lt;chr&gt; |\n|---|---|---|\n| Afghanistan | 1999 | 745/19987071      |\n| Afghanistan | 2000 | 2666/20595360     |\n| Brazil      | 1999 | 37737/172006362   |\n| Brazil      | 2000 | 80488/174504898   |\n| China       | 1999 | 212258/1272915272 |\n| China       | 2000 | 213766/1280428583 |\n\n",
            "text/html": [
              "<table class=\"dataframe\">\n",
              "<caption>A tibble: 6 × 3</caption>\n",
              "<thead>\n",
              "\t<tr><th scope=col>country</th><th scope=col>full_year</th><th scope=col>rate</th></tr>\n",
              "\t<tr><th scope=col>&lt;chr&gt;</th><th scope=col>&lt;chr&gt;</th><th scope=col>&lt;chr&gt;</th></tr>\n",
              "</thead>\n",
              "<tbody>\n",
              "\t<tr><td>Afghanistan</td><td>1999</td><td>745/19987071     </td></tr>\n",
              "\t<tr><td>Afghanistan</td><td>2000</td><td>2666/20595360    </td></tr>\n",
              "\t<tr><td>Brazil     </td><td>1999</td><td>37737/172006362  </td></tr>\n",
              "\t<tr><td>Brazil     </td><td>2000</td><td>80488/174504898  </td></tr>\n",
              "\t<tr><td>China      </td><td>1999</td><td>212258/1272915272</td></tr>\n",
              "\t<tr><td>China      </td><td>2000</td><td>213766/1280428583</td></tr>\n",
              "</tbody>\n",
              "</table>\n"
            ]
          },
          "metadata": {
            "tags": []
          }
        }
      ]
    },
    {
      "cell_type": "code",
      "metadata": {
        "id": "s3mUoRvLBifi"
      },
      "source": [
        "res <- tibble(\n",
        "  a = rnorm(10),\n",
        "  b = rnorm(10),\n",
        "  c = rnorm(10),\n",
        "  d = rnorm(10)\n",
        ")"
      ],
      "execution_count": null,
      "outputs": []
    },
    {
      "cell_type": "code",
      "metadata": {
        "colab": {
          "base_uri": "https://localhost:8080/",
          "height": 84
        },
        "id": "M5E-CdnPBibq",
        "outputId": "422e737e-83a5-4578-e741-606a7f5ee273"
      },
      "source": [
        "median(res$a)\n",
        "\n",
        "median(res$b)\n",
        "\n",
        "median(res$c)\n",
        "\n",
        "median(res$d)"
      ],
      "execution_count": null,
      "outputs": [
        {
          "output_type": "display_data",
          "data": {
            "text/plain": [
              "[1] 0.1063773"
            ],
            "text/latex": "0.106377298267027",
            "text/markdown": "0.106377298267027",
            "text/html": [
              "0.106377298267027"
            ]
          },
          "metadata": {
            "tags": []
          }
        },
        {
          "output_type": "display_data",
          "data": {
            "text/plain": [
              "[1] -0.7240062"
            ],
            "text/latex": "-0.724006184301451",
            "text/markdown": "-0.724006184301451",
            "text/html": [
              "-0.724006184301451"
            ]
          },
          "metadata": {
            "tags": []
          }
        },
        {
          "output_type": "display_data",
          "data": {
            "text/plain": [
              "[1] 1.156162"
            ],
            "text/latex": "1.15616186644308",
            "text/markdown": "1.15616186644308",
            "text/html": [
              "1.15616186644308"
            ]
          },
          "metadata": {
            "tags": []
          }
        },
        {
          "output_type": "display_data",
          "data": {
            "text/plain": [
              "[1] -0.3094943"
            ],
            "text/latex": "-0.309494275113068",
            "text/markdown": "-0.309494275113068",
            "text/html": [
              "-0.309494275113068"
            ]
          },
          "metadata": {
            "tags": []
          }
        }
      ]
    },
    {
      "cell_type": "code",
      "metadata": {
        "colab": {
          "base_uri": "https://localhost:8080/",
          "height": 34
        },
        "id": "m_HEa9dDBiYP",
        "outputId": "aab4ee7d-56e6-4db6-dc59-695ab9f13dfe"
      },
      "source": [
        "## create function\n",
        "\n",
        "output <- vector(\"double\", ncol(res))\n",
        "for(i in seq_along(res)){\n",
        "  output[[i]] <- median(res[[i]])\n",
        "}\n",
        "output"
      ],
      "execution_count": null,
      "outputs": [
        {
          "output_type": "display_data",
          "data": {
            "text/plain": [
              "[1]  0.1063773 -0.7240062  1.1561619 -0.3094943"
            ],
            "text/latex": "\\begin{enumerate*}\n\\item 0.106377298267027\n\\item -0.724006184301451\n\\item 1.15616186644308\n\\item -0.309494275113068\n\\end{enumerate*}\n",
            "text/markdown": "1. 0.106377298267027\n2. -0.724006184301451\n3. 1.15616186644308\n4. -0.309494275113068\n\n\n",
            "text/html": [
              "<style>\n",
              ".list-inline {list-style: none; margin:0; padding: 0}\n",
              ".list-inline>li {display: inline-block}\n",
              ".list-inline>li:not(:last-child)::after {content: \"\\00b7\"; padding: 0 .5ex}\n",
              "</style>\n",
              "<ol class=list-inline><li>0.106377298267027</li><li>-0.724006184301451</li><li>1.15616186644308</li><li>-0.309494275113068</li></ol>\n"
            ]
          },
          "metadata": {
            "tags": []
          }
        }
      ]
    },
    {
      "cell_type": "code",
      "metadata": {
        "colab": {
          "base_uri": "https://localhost:8080/",
          "height": 34
        },
        "id": "DVWB_0TNBiUX",
        "outputId": "220fee3b-e6bb-4064-ec8d-c4bfb577281d"
      },
      "source": [
        "output <- c()\n",
        "for(i in seq_along(res)){\n",
        "  output <- c(output, median(res[[i]]))\n",
        "}\n",
        "output"
      ],
      "execution_count": null,
      "outputs": [
        {
          "output_type": "display_data",
          "data": {
            "text/plain": [
              "[1]  0.1063773 -0.7240062  1.1561619 -0.3094943"
            ],
            "text/latex": "\\begin{enumerate*}\n\\item 0.106377298267027\n\\item -0.724006184301451\n\\item 1.15616186644308\n\\item -0.309494275113068\n\\end{enumerate*}\n",
            "text/markdown": "1. 0.106377298267027\n2. -0.724006184301451\n3. 1.15616186644308\n4. -0.309494275113068\n\n\n",
            "text/html": [
              "<style>\n",
              ".list-inline {list-style: none; margin:0; padding: 0}\n",
              ".list-inline>li {display: inline-block}\n",
              ".list-inline>li:not(:last-child)::after {content: \"\\00b7\"; padding: 0 .5ex}\n",
              "</style>\n",
              "<ol class=list-inline><li>0.106377298267027</li><li>-0.724006184301451</li><li>1.15616186644308</li><li>-0.309494275113068</li></ol>\n"
            ]
          },
          "metadata": {
            "tags": []
          }
        }
      ]
    },
    {
      "cell_type": "code",
      "metadata": {
        "id": "J5eA9Y-qBiQu"
      },
      "source": [
        "#install.packages(\"rbenchmark\")\n",
        "library(rbenchmark)"
      ],
      "execution_count": null,
      "outputs": []
    },
    {
      "cell_type": "code",
      "metadata": {
        "id": "1iDcyC5gBiNi"
      },
      "source": [
        " func1 <-function(n){\n",
        "  output <- vector(\"double\", n)\n",
        "  for(i in 1:n)\n",
        "    output[i] = i\n",
        "  return(output)\n",
        "}"
      ],
      "execution_count": null,
      "outputs": []
    },
    {
      "cell_type": "code",
      "metadata": {
        "id": "inJWcMp-BiJN"
      },
      "source": [
        "func2 <- function(n){\n",
        "  output <- c()\n",
        "  for(i in 1:n)\n",
        "    output <- c(output, i)\n",
        "  return(output)\n",
        "}"
      ],
      "execution_count": null,
      "outputs": []
    },
    {
      "cell_type": "code",
      "metadata": {
        "colab": {
          "base_uri": "https://localhost:8080/",
          "height": 34
        },
        "id": "Z7AksT-0BiFh",
        "outputId": "d44724eb-e8d6-418d-ca3e-d0a9a15abff4"
      },
      "source": [
        "func2(10)"
      ],
      "execution_count": null,
      "outputs": [
        {
          "output_type": "display_data",
          "data": {
            "text/plain": [
              " [1]  1  2  3  4  5  6  7  8  9 10"
            ],
            "text/latex": "\\begin{enumerate*}\n\\item 1\n\\item 2\n\\item 3\n\\item 4\n\\item 5\n\\item 6\n\\item 7\n\\item 8\n\\item 9\n\\item 10\n\\end{enumerate*}\n",
            "text/markdown": "1. 1\n2. 2\n3. 3\n4. 4\n5. 5\n6. 6\n7. 7\n8. 8\n9. 9\n10. 10\n\n\n",
            "text/html": [
              "<style>\n",
              ".list-inline {list-style: none; margin:0; padding: 0}\n",
              ".list-inline>li {display: inline-block}\n",
              ".list-inline>li:not(:last-child)::after {content: \"\\00b7\"; padding: 0 .5ex}\n",
              "</style>\n",
              "<ol class=list-inline><li>1</li><li>2</li><li>3</li><li>4</li><li>5</li><li>6</li><li>7</li><li>8</li><li>9</li><li>10</li></ol>\n"
            ]
          },
          "metadata": {
            "tags": []
          }
        }
      ]
    },
    {
      "cell_type": "code",
      "metadata": {
        "colab": {
          "base_uri": "https://localhost:8080/",
          "height": 153
        },
        "id": "rnlfY8COBiCe",
        "outputId": "da1c30a8-7197-41ca-a6d7-d7221b868674"
      },
      "source": [
        "benchmark(\"func1\"=func1(1000),\n",
        "          \"func2\"=func2(1000),\n",
        "          replications=100,\n",
        "          columns=c(\"test\", \"elapsed\", \"replications\"))"
      ],
      "execution_count": null,
      "outputs": [
        {
          "output_type": "display_data",
          "data": {
            "text/plain": [
              "  test  elapsed replications\n",
              "1 func1 0.007   100         \n",
              "2 func2 0.224   100         "
            ],
            "text/latex": "A data.frame: 2 × 3\n\\begin{tabular}{r|lll}\n  & test & elapsed & replications\\\\\n  & <chr> & <dbl> & <int>\\\\\n\\hline\n\t1 & func1 & 0.007 & 100\\\\\n\t2 & func2 & 0.224 & 100\\\\\n\\end{tabular}\n",
            "text/markdown": "\nA data.frame: 2 × 3\n\n| <!--/--> | test &lt;chr&gt; | elapsed &lt;dbl&gt; | replications &lt;int&gt; |\n|---|---|---|---|\n| 1 | func1 | 0.007 | 100 |\n| 2 | func2 | 0.224 | 100 |\n\n",
            "text/html": [
              "<table class=\"dataframe\">\n",
              "<caption>A data.frame: 2 × 3</caption>\n",
              "<thead>\n",
              "\t<tr><th></th><th scope=col>test</th><th scope=col>elapsed</th><th scope=col>replications</th></tr>\n",
              "\t<tr><th></th><th scope=col>&lt;chr&gt;</th><th scope=col>&lt;dbl&gt;</th><th scope=col>&lt;int&gt;</th></tr>\n",
              "</thead>\n",
              "<tbody>\n",
              "\t<tr><th scope=row>1</th><td>func1</td><td>0.007</td><td>100</td></tr>\n",
              "\t<tr><th scope=row>2</th><td>func2</td><td>0.224</td><td>100</td></tr>\n",
              "</tbody>\n",
              "</table>\n"
            ]
          },
          "metadata": {
            "tags": []
          }
        }
      ]
    },
    {
      "cell_type": "code",
      "metadata": {
        "id": "9NYeptXiBh-L"
      },
      "source": [
        "mean_col <- function(df){\n",
        "  res <- vector(\"double\", ncol(df))\n",
        "  for(i in seq_along(df)){\n",
        "    res[[i]] <- mean(df[[i]])\n",
        "  }\n",
        "  res\n",
        "}"
      ],
      "execution_count": null,
      "outputs": []
    },
    {
      "cell_type": "code",
      "metadata": {
        "colab": {
          "base_uri": "https://localhost:8080/",
          "height": 67
        },
        "id": "MOz2unqCBh6q",
        "outputId": "71cbfcfd-d29f-4009-fb88-89ed85a266b9"
      },
      "source": [
        "median_col <- function(df){\n",
        "  res <- vector(\"double\", ncol(df))\n",
        "  for(i in seq_along(df)){\n",
        "    res[[i]] <- median(df[[i]])\n",
        "  }\n",
        "  res\n",
        "}\n",
        "\n",
        "std_col <- function(df){\n",
        "  res <- vector(\"double\", ncol(df))\n",
        "  for(i in seq_along(df)){\n",
        "    res[[i]] <- sd(df[[i]])\n",
        "  }\n",
        "  res\n",
        "}\n",
        "\n",
        "mean_col(res)\n",
        "\n",
        "median_col(res)\n",
        "std_col(res)\n",
        "\n",
        "\n"
      ],
      "execution_count": null,
      "outputs": [
        {
          "output_type": "display_data",
          "data": {
            "text/plain": [
              "[1] -0.09811272 -0.27341163  0.93277783 -0.12699077"
            ],
            "text/latex": "\\begin{enumerate*}\n\\item -0.0981127231710136\n\\item -0.273411631372404\n\\item 0.932777825763385\n\\item -0.126990765625665\n\\end{enumerate*}\n",
            "text/markdown": "1. -0.0981127231710136\n2. -0.273411631372404\n3. 0.932777825763385\n4. -0.126990765625665\n\n\n",
            "text/html": [
              "<style>\n",
              ".list-inline {list-style: none; margin:0; padding: 0}\n",
              ".list-inline>li {display: inline-block}\n",
              ".list-inline>li:not(:last-child)::after {content: \"\\00b7\"; padding: 0 .5ex}\n",
              "</style>\n",
              "<ol class=list-inline><li>-0.0981127231710136</li><li>-0.273411631372404</li><li>0.932777825763385</li><li>-0.126990765625665</li></ol>\n"
            ]
          },
          "metadata": {
            "tags": []
          }
        },
        {
          "output_type": "display_data",
          "data": {
            "text/plain": [
              "[1]  0.1063773 -0.7240062  1.1561619 -0.3094943"
            ],
            "text/latex": "\\begin{enumerate*}\n\\item 0.106377298267027\n\\item -0.724006184301451\n\\item 1.15616186644308\n\\item -0.309494275113068\n\\end{enumerate*}\n",
            "text/markdown": "1. 0.106377298267027\n2. -0.724006184301451\n3. 1.15616186644308\n4. -0.309494275113068\n\n\n",
            "text/html": [
              "<style>\n",
              ".list-inline {list-style: none; margin:0; padding: 0}\n",
              ".list-inline>li {display: inline-block}\n",
              ".list-inline>li:not(:last-child)::after {content: \"\\00b7\"; padding: 0 .5ex}\n",
              "</style>\n",
              "<ol class=list-inline><li>0.106377298267027</li><li>-0.724006184301451</li><li>1.15616186644308</li><li>-0.309494275113068</li></ol>\n"
            ]
          },
          "metadata": {
            "tags": []
          }
        },
        {
          "output_type": "display_data",
          "data": {
            "text/plain": [
              "[1] 1.340755 1.104258 1.402237 1.316773"
            ],
            "text/latex": "\\begin{enumerate*}\n\\item 1.34075520052055\n\\item 1.10425800362327\n\\item 1.40223704100902\n\\item 1.31677291851424\n\\end{enumerate*}\n",
            "text/markdown": "1. 1.34075520052055\n2. 1.10425800362327\n3. 1.40223704100902\n4. 1.31677291851424\n\n\n",
            "text/html": [
              "<style>\n",
              ".list-inline {list-style: none; margin:0; padding: 0}\n",
              ".list-inline>li {display: inline-block}\n",
              ".list-inline>li:not(:last-child)::after {content: \"\\00b7\"; padding: 0 .5ex}\n",
              "</style>\n",
              "<ol class=list-inline><li>1.34075520052055</li><li>1.10425800362327</li><li>1.40223704100902</li><li>1.31677291851424</li></ol>\n"
            ]
          },
          "metadata": {
            "tags": []
          }
        }
      ]
    },
    {
      "cell_type": "code",
      "metadata": {
        "colab": {
          "base_uri": "https://localhost:8080/",
          "height": 34
        },
        "id": "zrFrl05PD9Go",
        "outputId": "9631374b-19b1-4623-9e9e-2163ac63fe81"
      },
      "source": [
        "all_func <- function(df, func){\n",
        "  res <- vector(\"double\", length(df))\n",
        "  for(i in seq_along(df)){\n",
        "    res[i] <- func(df[[i]])\n",
        "  }\n",
        "  res\n",
        "}\n",
        "\n",
        "all_func(res, median)"
      ],
      "execution_count": null,
      "outputs": [
        {
          "output_type": "display_data",
          "data": {
            "text/plain": [
              "[1]  0.1063773 -0.7240062  1.1561619 -0.3094943"
            ],
            "text/latex": "\\begin{enumerate*}\n\\item 0.106377298267027\n\\item -0.724006184301451\n\\item 1.15616186644308\n\\item -0.309494275113068\n\\end{enumerate*}\n",
            "text/markdown": "1. 0.106377298267027\n2. -0.724006184301451\n3. 1.15616186644308\n4. -0.309494275113068\n\n\n",
            "text/html": [
              "<style>\n",
              ".list-inline {list-style: none; margin:0; padding: 0}\n",
              ".list-inline>li {display: inline-block}\n",
              ".list-inline>li:not(:last-child)::after {content: \"\\00b7\"; padding: 0 .5ex}\n",
              "</style>\n",
              "<ol class=list-inline><li>0.106377298267027</li><li>-0.724006184301451</li><li>1.15616186644308</li><li>-0.309494275113068</li></ol>\n"
            ]
          },
          "metadata": {
            "tags": []
          }
        }
      ]
    },
    {
      "cell_type": "code",
      "metadata": {
        "colab": {
          "base_uri": "https://localhost:8080/"
        },
        "id": "tC9zsr0ND9w3",
        "outputId": "b77b5a7d-0dca-4fd8-9922-6e47d360870f"
      },
      "source": [
        "str(res)"
      ],
      "execution_count": null,
      "outputs": [
        {
          "output_type": "stream",
          "text": [
            "tibble [10 × 4] (S3: tbl_df/tbl/data.frame)\n",
            " $ a: num [1:10] 0.269 -1.018 0.454 -2.01 1.058 ...\n",
            " $ b: num [1:10] -0.79 1.936 0.497 -1.156 -0.658 ...\n",
            " $ c: num [1:10] 0.115 1.589 -0.591 1.837 0.179 ...\n",
            " $ d: num [1:10] -2.047 0.234 1.523 -0.853 0.49 ...\n"
          ],
          "name": "stdout"
        }
      ]
    },
    {
      "cell_type": "code",
      "metadata": {
        "colab": {
          "base_uri": "https://localhost:8080/",
          "height": 50
        },
        "id": "SPZk5byED95d",
        "outputId": "e94c4601-8c07-4987-8aff-d535ceb3ef5a"
      },
      "source": [
        "res %>% map_dbl(mean)"
      ],
      "execution_count": null,
      "outputs": [
        {
          "output_type": "display_data",
          "data": {
            "text/plain": [
              "          a           b           c           d \n",
              "-0.09811272 -0.27341163  0.93277783 -0.12699077 "
            ],
            "text/latex": "\\begin{description*}\n\\item[a] -0.0981127231710136\n\\item[b] -0.273411631372404\n\\item[c] 0.932777825763385\n\\item[d] -0.126990765625665\n\\end{description*}\n",
            "text/markdown": "a\n:   -0.0981127231710136b\n:   -0.273411631372404c\n:   0.932777825763385d\n:   -0.126990765625665\n\n",
            "text/html": [
              "<style>\n",
              ".dl-inline {width: auto; margin:0; padding: 0}\n",
              ".dl-inline>dt, .dl-inline>dd {float: none; width: auto; display: inline-block}\n",
              ".dl-inline>dt::after {content: \":\\0020\"; padding-right: .5ex}\n",
              ".dl-inline>dt:not(:first-of-type) {padding-left: .5ex}\n",
              "</style><dl class=dl-inline><dt>a</dt><dd>-0.0981127231710136</dd><dt>b</dt><dd>-0.273411631372404</dd><dt>c</dt><dd>0.932777825763385</dd><dt>d</dt><dd>-0.126990765625665</dd></dl>\n"
            ]
          },
          "metadata": {
            "tags": []
          }
        }
      ]
    },
    {
      "cell_type": "code",
      "metadata": {
        "colab": {
          "base_uri": "https://localhost:8080/",
          "height": 50
        },
        "id": "X7aOB9hID9_2",
        "outputId": "54e27dce-6bdf-4a09-d782-a481374b3113"
      },
      "source": [
        "res %>% map_dbl(median)\n"
      ],
      "execution_count": null,
      "outputs": [
        {
          "output_type": "display_data",
          "data": {
            "text/plain": [
              "         a          b          c          d \n",
              " 0.1063773 -0.7240062  1.1561619 -0.3094943 "
            ],
            "text/latex": "\\begin{description*}\n\\item[a] 0.106377298267027\n\\item[b] -0.724006184301451\n\\item[c] 1.15616186644308\n\\item[d] -0.309494275113068\n\\end{description*}\n",
            "text/markdown": "a\n:   0.106377298267027b\n:   -0.724006184301451c\n:   1.15616186644308d\n:   -0.309494275113068\n\n",
            "text/html": [
              "<style>\n",
              ".dl-inline {width: auto; margin:0; padding: 0}\n",
              ".dl-inline>dt, .dl-inline>dd {float: none; width: auto; display: inline-block}\n",
              ".dl-inline>dt::after {content: \":\\0020\"; padding-right: .5ex}\n",
              ".dl-inline>dt:not(:first-of-type) {padding-left: .5ex}\n",
              "</style><dl class=dl-inline><dt>a</dt><dd>0.106377298267027</dd><dt>b</dt><dd>-0.724006184301451</dd><dt>c</dt><dd>1.15616186644308</dd><dt>d</dt><dd>-0.309494275113068</dd></dl>\n"
            ]
          },
          "metadata": {
            "tags": []
          }
        }
      ]
    },
    {
      "cell_type": "code",
      "metadata": {
        "colab": {
          "base_uri": "https://localhost:8080/",
          "height": 1000
        },
        "id": "CnmdUEIXD-HR",
        "outputId": "74ee0e58-3737-47fa-e61f-30223b61c52b"
      },
      "source": [
        "mtcars %>% split(.$cyl)"
      ],
      "execution_count": null,
      "outputs": [
        {
          "output_type": "display_data",
          "data": {
            "text/plain": [
              "$`4`\n",
              "                mpg cyl  disp  hp drat    wt  qsec vs am gear carb\n",
              "Datsun 710     22.8   4 108.0  93 3.85 2.320 18.61  1  1    4    1\n",
              "Merc 240D      24.4   4 146.7  62 3.69 3.190 20.00  1  0    4    2\n",
              "Merc 230       22.8   4 140.8  95 3.92 3.150 22.90  1  0    4    2\n",
              "Fiat 128       32.4   4  78.7  66 4.08 2.200 19.47  1  1    4    1\n",
              "Honda Civic    30.4   4  75.7  52 4.93 1.615 18.52  1  1    4    2\n",
              "Toyota Corolla 33.9   4  71.1  65 4.22 1.835 19.90  1  1    4    1\n",
              "Toyota Corona  21.5   4 120.1  97 3.70 2.465 20.01  1  0    3    1\n",
              "Fiat X1-9      27.3   4  79.0  66 4.08 1.935 18.90  1  1    4    1\n",
              "Porsche 914-2  26.0   4 120.3  91 4.43 2.140 16.70  0  1    5    2\n",
              "Lotus Europa   30.4   4  95.1 113 3.77 1.513 16.90  1  1    5    2\n",
              "Volvo 142E     21.4   4 121.0 109 4.11 2.780 18.60  1  1    4    2\n",
              "\n",
              "$`6`\n",
              "                mpg cyl  disp  hp drat    wt  qsec vs am gear carb\n",
              "Mazda RX4      21.0   6 160.0 110 3.90 2.620 16.46  0  1    4    4\n",
              "Mazda RX4 Wag  21.0   6 160.0 110 3.90 2.875 17.02  0  1    4    4\n",
              "Hornet 4 Drive 21.4   6 258.0 110 3.08 3.215 19.44  1  0    3    1\n",
              "Valiant        18.1   6 225.0 105 2.76 3.460 20.22  1  0    3    1\n",
              "Merc 280       19.2   6 167.6 123 3.92 3.440 18.30  1  0    4    4\n",
              "Merc 280C      17.8   6 167.6 123 3.92 3.440 18.90  1  0    4    4\n",
              "Ferrari Dino   19.7   6 145.0 175 3.62 2.770 15.50  0  1    5    6\n",
              "\n",
              "$`8`\n",
              "                     mpg cyl  disp  hp drat    wt  qsec vs am gear carb\n",
              "Hornet Sportabout   18.7   8 360.0 175 3.15 3.440 17.02  0  0    3    2\n",
              "Duster 360          14.3   8 360.0 245 3.21 3.570 15.84  0  0    3    4\n",
              "Merc 450SE          16.4   8 275.8 180 3.07 4.070 17.40  0  0    3    3\n",
              "Merc 450SL          17.3   8 275.8 180 3.07 3.730 17.60  0  0    3    3\n",
              "Merc 450SLC         15.2   8 275.8 180 3.07 3.780 18.00  0  0    3    3\n",
              "Cadillac Fleetwood  10.4   8 472.0 205 2.93 5.250 17.98  0  0    3    4\n",
              "Lincoln Continental 10.4   8 460.0 215 3.00 5.424 17.82  0  0    3    4\n",
              "Chrysler Imperial   14.7   8 440.0 230 3.23 5.345 17.42  0  0    3    4\n",
              "Dodge Challenger    15.5   8 318.0 150 2.76 3.520 16.87  0  0    3    2\n",
              "AMC Javelin         15.2   8 304.0 150 3.15 3.435 17.30  0  0    3    2\n",
              "Camaro Z28          13.3   8 350.0 245 3.73 3.840 15.41  0  0    3    4\n",
              "Pontiac Firebird    19.2   8 400.0 175 3.08 3.845 17.05  0  0    3    2\n",
              "Ford Pantera L      15.8   8 351.0 264 4.22 3.170 14.50  0  1    5    4\n",
              "Maserati Bora       15.0   8 301.0 335 3.54 3.570 14.60  0  1    5    8\n"
            ],
            "text/latex": "\\begin{description}\n\\item[\\$`4`] A data.frame: 11 × 11\n\\begin{tabular}{r|lllllllllll}\n  & mpg & cyl & disp & hp & drat & wt & qsec & vs & am & gear & carb\\\\\n  & <dbl> & <dbl> & <dbl> & <dbl> & <dbl> & <dbl> & <dbl> & <dbl> & <dbl> & <dbl> & <dbl>\\\\\n\\hline\n\tDatsun 710 & 22.8 & 4 & 108.0 &  93 & 3.85 & 2.320 & 18.61 & 1 & 1 & 4 & 1\\\\\n\tMerc 240D & 24.4 & 4 & 146.7 &  62 & 3.69 & 3.190 & 20.00 & 1 & 0 & 4 & 2\\\\\n\tMerc 230 & 22.8 & 4 & 140.8 &  95 & 3.92 & 3.150 & 22.90 & 1 & 0 & 4 & 2\\\\\n\tFiat 128 & 32.4 & 4 &  78.7 &  66 & 4.08 & 2.200 & 19.47 & 1 & 1 & 4 & 1\\\\\n\tHonda Civic & 30.4 & 4 &  75.7 &  52 & 4.93 & 1.615 & 18.52 & 1 & 1 & 4 & 2\\\\\n\tToyota Corolla & 33.9 & 4 &  71.1 &  65 & 4.22 & 1.835 & 19.90 & 1 & 1 & 4 & 1\\\\\n\tToyota Corona & 21.5 & 4 & 120.1 &  97 & 3.70 & 2.465 & 20.01 & 1 & 0 & 3 & 1\\\\\n\tFiat X1-9 & 27.3 & 4 &  79.0 &  66 & 4.08 & 1.935 & 18.90 & 1 & 1 & 4 & 1\\\\\n\tPorsche 914-2 & 26.0 & 4 & 120.3 &  91 & 4.43 & 2.140 & 16.70 & 0 & 1 & 5 & 2\\\\\n\tLotus Europa & 30.4 & 4 &  95.1 & 113 & 3.77 & 1.513 & 16.90 & 1 & 1 & 5 & 2\\\\\n\tVolvo 142E & 21.4 & 4 & 121.0 & 109 & 4.11 & 2.780 & 18.60 & 1 & 1 & 4 & 2\\\\\n\\end{tabular}\n\n\\item[\\$`6`] A data.frame: 7 × 11\n\\begin{tabular}{r|lllllllllll}\n  & mpg & cyl & disp & hp & drat & wt & qsec & vs & am & gear & carb\\\\\n  & <dbl> & <dbl> & <dbl> & <dbl> & <dbl> & <dbl> & <dbl> & <dbl> & <dbl> & <dbl> & <dbl>\\\\\n\\hline\n\tMazda RX4 & 21.0 & 6 & 160.0 & 110 & 3.90 & 2.620 & 16.46 & 0 & 1 & 4 & 4\\\\\n\tMazda RX4 Wag & 21.0 & 6 & 160.0 & 110 & 3.90 & 2.875 & 17.02 & 0 & 1 & 4 & 4\\\\\n\tHornet 4 Drive & 21.4 & 6 & 258.0 & 110 & 3.08 & 3.215 & 19.44 & 1 & 0 & 3 & 1\\\\\n\tValiant & 18.1 & 6 & 225.0 & 105 & 2.76 & 3.460 & 20.22 & 1 & 0 & 3 & 1\\\\\n\tMerc 280 & 19.2 & 6 & 167.6 & 123 & 3.92 & 3.440 & 18.30 & 1 & 0 & 4 & 4\\\\\n\tMerc 280C & 17.8 & 6 & 167.6 & 123 & 3.92 & 3.440 & 18.90 & 1 & 0 & 4 & 4\\\\\n\tFerrari Dino & 19.7 & 6 & 145.0 & 175 & 3.62 & 2.770 & 15.50 & 0 & 1 & 5 & 6\\\\\n\\end{tabular}\n\n\\item[\\$`8`] A data.frame: 14 × 11\n\\begin{tabular}{r|lllllllllll}\n  & mpg & cyl & disp & hp & drat & wt & qsec & vs & am & gear & carb\\\\\n  & <dbl> & <dbl> & <dbl> & <dbl> & <dbl> & <dbl> & <dbl> & <dbl> & <dbl> & <dbl> & <dbl>\\\\\n\\hline\n\tHornet Sportabout & 18.7 & 8 & 360.0 & 175 & 3.15 & 3.440 & 17.02 & 0 & 0 & 3 & 2\\\\\n\tDuster 360 & 14.3 & 8 & 360.0 & 245 & 3.21 & 3.570 & 15.84 & 0 & 0 & 3 & 4\\\\\n\tMerc 450SE & 16.4 & 8 & 275.8 & 180 & 3.07 & 4.070 & 17.40 & 0 & 0 & 3 & 3\\\\\n\tMerc 450SL & 17.3 & 8 & 275.8 & 180 & 3.07 & 3.730 & 17.60 & 0 & 0 & 3 & 3\\\\\n\tMerc 450SLC & 15.2 & 8 & 275.8 & 180 & 3.07 & 3.780 & 18.00 & 0 & 0 & 3 & 3\\\\\n\tCadillac Fleetwood & 10.4 & 8 & 472.0 & 205 & 2.93 & 5.250 & 17.98 & 0 & 0 & 3 & 4\\\\\n\tLincoln Continental & 10.4 & 8 & 460.0 & 215 & 3.00 & 5.424 & 17.82 & 0 & 0 & 3 & 4\\\\\n\tChrysler Imperial & 14.7 & 8 & 440.0 & 230 & 3.23 & 5.345 & 17.42 & 0 & 0 & 3 & 4\\\\\n\tDodge Challenger & 15.5 & 8 & 318.0 & 150 & 2.76 & 3.520 & 16.87 & 0 & 0 & 3 & 2\\\\\n\tAMC Javelin & 15.2 & 8 & 304.0 & 150 & 3.15 & 3.435 & 17.30 & 0 & 0 & 3 & 2\\\\\n\tCamaro Z28 & 13.3 & 8 & 350.0 & 245 & 3.73 & 3.840 & 15.41 & 0 & 0 & 3 & 4\\\\\n\tPontiac Firebird & 19.2 & 8 & 400.0 & 175 & 3.08 & 3.845 & 17.05 & 0 & 0 & 3 & 2\\\\\n\tFord Pantera L & 15.8 & 8 & 351.0 & 264 & 4.22 & 3.170 & 14.50 & 0 & 1 & 5 & 4\\\\\n\tMaserati Bora & 15.0 & 8 & 301.0 & 335 & 3.54 & 3.570 & 14.60 & 0 & 1 & 5 & 8\\\\\n\\end{tabular}\n\n\\end{description}\n",
            "text/markdown": "$`4`\n:   \nA data.frame: 11 × 11\n\n| <!--/--> | mpg &lt;dbl&gt; | cyl &lt;dbl&gt; | disp &lt;dbl&gt; | hp &lt;dbl&gt; | drat &lt;dbl&gt; | wt &lt;dbl&gt; | qsec &lt;dbl&gt; | vs &lt;dbl&gt; | am &lt;dbl&gt; | gear &lt;dbl&gt; | carb &lt;dbl&gt; |\n|---|---|---|---|---|---|---|---|---|---|---|---|\n| Datsun 710 | 22.8 | 4 | 108.0 |  93 | 3.85 | 2.320 | 18.61 | 1 | 1 | 4 | 1 |\n| Merc 240D | 24.4 | 4 | 146.7 |  62 | 3.69 | 3.190 | 20.00 | 1 | 0 | 4 | 2 |\n| Merc 230 | 22.8 | 4 | 140.8 |  95 | 3.92 | 3.150 | 22.90 | 1 | 0 | 4 | 2 |\n| Fiat 128 | 32.4 | 4 |  78.7 |  66 | 4.08 | 2.200 | 19.47 | 1 | 1 | 4 | 1 |\n| Honda Civic | 30.4 | 4 |  75.7 |  52 | 4.93 | 1.615 | 18.52 | 1 | 1 | 4 | 2 |\n| Toyota Corolla | 33.9 | 4 |  71.1 |  65 | 4.22 | 1.835 | 19.90 | 1 | 1 | 4 | 1 |\n| Toyota Corona | 21.5 | 4 | 120.1 |  97 | 3.70 | 2.465 | 20.01 | 1 | 0 | 3 | 1 |\n| Fiat X1-9 | 27.3 | 4 |  79.0 |  66 | 4.08 | 1.935 | 18.90 | 1 | 1 | 4 | 1 |\n| Porsche 914-2 | 26.0 | 4 | 120.3 |  91 | 4.43 | 2.140 | 16.70 | 0 | 1 | 5 | 2 |\n| Lotus Europa | 30.4 | 4 |  95.1 | 113 | 3.77 | 1.513 | 16.90 | 1 | 1 | 5 | 2 |\n| Volvo 142E | 21.4 | 4 | 121.0 | 109 | 4.11 | 2.780 | 18.60 | 1 | 1 | 4 | 2 |\n\n\n$`6`\n:   \nA data.frame: 7 × 11\n\n| <!--/--> | mpg &lt;dbl&gt; | cyl &lt;dbl&gt; | disp &lt;dbl&gt; | hp &lt;dbl&gt; | drat &lt;dbl&gt; | wt &lt;dbl&gt; | qsec &lt;dbl&gt; | vs &lt;dbl&gt; | am &lt;dbl&gt; | gear &lt;dbl&gt; | carb &lt;dbl&gt; |\n|---|---|---|---|---|---|---|---|---|---|---|---|\n| Mazda RX4 | 21.0 | 6 | 160.0 | 110 | 3.90 | 2.620 | 16.46 | 0 | 1 | 4 | 4 |\n| Mazda RX4 Wag | 21.0 | 6 | 160.0 | 110 | 3.90 | 2.875 | 17.02 | 0 | 1 | 4 | 4 |\n| Hornet 4 Drive | 21.4 | 6 | 258.0 | 110 | 3.08 | 3.215 | 19.44 | 1 | 0 | 3 | 1 |\n| Valiant | 18.1 | 6 | 225.0 | 105 | 2.76 | 3.460 | 20.22 | 1 | 0 | 3 | 1 |\n| Merc 280 | 19.2 | 6 | 167.6 | 123 | 3.92 | 3.440 | 18.30 | 1 | 0 | 4 | 4 |\n| Merc 280C | 17.8 | 6 | 167.6 | 123 | 3.92 | 3.440 | 18.90 | 1 | 0 | 4 | 4 |\n| Ferrari Dino | 19.7 | 6 | 145.0 | 175 | 3.62 | 2.770 | 15.50 | 0 | 1 | 5 | 6 |\n\n\n$`8`\n:   \nA data.frame: 14 × 11\n\n| <!--/--> | mpg &lt;dbl&gt; | cyl &lt;dbl&gt; | disp &lt;dbl&gt; | hp &lt;dbl&gt; | drat &lt;dbl&gt; | wt &lt;dbl&gt; | qsec &lt;dbl&gt; | vs &lt;dbl&gt; | am &lt;dbl&gt; | gear &lt;dbl&gt; | carb &lt;dbl&gt; |\n|---|---|---|---|---|---|---|---|---|---|---|---|\n| Hornet Sportabout | 18.7 | 8 | 360.0 | 175 | 3.15 | 3.440 | 17.02 | 0 | 0 | 3 | 2 |\n| Duster 360 | 14.3 | 8 | 360.0 | 245 | 3.21 | 3.570 | 15.84 | 0 | 0 | 3 | 4 |\n| Merc 450SE | 16.4 | 8 | 275.8 | 180 | 3.07 | 4.070 | 17.40 | 0 | 0 | 3 | 3 |\n| Merc 450SL | 17.3 | 8 | 275.8 | 180 | 3.07 | 3.730 | 17.60 | 0 | 0 | 3 | 3 |\n| Merc 450SLC | 15.2 | 8 | 275.8 | 180 | 3.07 | 3.780 | 18.00 | 0 | 0 | 3 | 3 |\n| Cadillac Fleetwood | 10.4 | 8 | 472.0 | 205 | 2.93 | 5.250 | 17.98 | 0 | 0 | 3 | 4 |\n| Lincoln Continental | 10.4 | 8 | 460.0 | 215 | 3.00 | 5.424 | 17.82 | 0 | 0 | 3 | 4 |\n| Chrysler Imperial | 14.7 | 8 | 440.0 | 230 | 3.23 | 5.345 | 17.42 | 0 | 0 | 3 | 4 |\n| Dodge Challenger | 15.5 | 8 | 318.0 | 150 | 2.76 | 3.520 | 16.87 | 0 | 0 | 3 | 2 |\n| AMC Javelin | 15.2 | 8 | 304.0 | 150 | 3.15 | 3.435 | 17.30 | 0 | 0 | 3 | 2 |\n| Camaro Z28 | 13.3 | 8 | 350.0 | 245 | 3.73 | 3.840 | 15.41 | 0 | 0 | 3 | 4 |\n| Pontiac Firebird | 19.2 | 8 | 400.0 | 175 | 3.08 | 3.845 | 17.05 | 0 | 0 | 3 | 2 |\n| Ford Pantera L | 15.8 | 8 | 351.0 | 264 | 4.22 | 3.170 | 14.50 | 0 | 1 | 5 | 4 |\n| Maserati Bora | 15.0 | 8 | 301.0 | 335 | 3.54 | 3.570 | 14.60 | 0 | 1 | 5 | 8 |\n\n\n\n\n",
            "text/html": [
              "<dl>\n",
              "\t<dt>$`4`</dt>\n",
              "\t\t<dd><table class=\"dataframe\">\n",
              "<caption>A data.frame: 11 × 11</caption>\n",
              "<thead>\n",
              "\t<tr><th></th><th scope=col>mpg</th><th scope=col>cyl</th><th scope=col>disp</th><th scope=col>hp</th><th scope=col>drat</th><th scope=col>wt</th><th scope=col>qsec</th><th scope=col>vs</th><th scope=col>am</th><th scope=col>gear</th><th scope=col>carb</th></tr>\n",
              "\t<tr><th></th><th scope=col>&lt;dbl&gt;</th><th scope=col>&lt;dbl&gt;</th><th scope=col>&lt;dbl&gt;</th><th scope=col>&lt;dbl&gt;</th><th scope=col>&lt;dbl&gt;</th><th scope=col>&lt;dbl&gt;</th><th scope=col>&lt;dbl&gt;</th><th scope=col>&lt;dbl&gt;</th><th scope=col>&lt;dbl&gt;</th><th scope=col>&lt;dbl&gt;</th><th scope=col>&lt;dbl&gt;</th></tr>\n",
              "</thead>\n",
              "<tbody>\n",
              "\t<tr><th scope=row>Datsun 710</th><td>22.8</td><td>4</td><td>108.0</td><td> 93</td><td>3.85</td><td>2.320</td><td>18.61</td><td>1</td><td>1</td><td>4</td><td>1</td></tr>\n",
              "\t<tr><th scope=row>Merc 240D</th><td>24.4</td><td>4</td><td>146.7</td><td> 62</td><td>3.69</td><td>3.190</td><td>20.00</td><td>1</td><td>0</td><td>4</td><td>2</td></tr>\n",
              "\t<tr><th scope=row>Merc 230</th><td>22.8</td><td>4</td><td>140.8</td><td> 95</td><td>3.92</td><td>3.150</td><td>22.90</td><td>1</td><td>0</td><td>4</td><td>2</td></tr>\n",
              "\t<tr><th scope=row>Fiat 128</th><td>32.4</td><td>4</td><td> 78.7</td><td> 66</td><td>4.08</td><td>2.200</td><td>19.47</td><td>1</td><td>1</td><td>4</td><td>1</td></tr>\n",
              "\t<tr><th scope=row>Honda Civic</th><td>30.4</td><td>4</td><td> 75.7</td><td> 52</td><td>4.93</td><td>1.615</td><td>18.52</td><td>1</td><td>1</td><td>4</td><td>2</td></tr>\n",
              "\t<tr><th scope=row>Toyota Corolla</th><td>33.9</td><td>4</td><td> 71.1</td><td> 65</td><td>4.22</td><td>1.835</td><td>19.90</td><td>1</td><td>1</td><td>4</td><td>1</td></tr>\n",
              "\t<tr><th scope=row>Toyota Corona</th><td>21.5</td><td>4</td><td>120.1</td><td> 97</td><td>3.70</td><td>2.465</td><td>20.01</td><td>1</td><td>0</td><td>3</td><td>1</td></tr>\n",
              "\t<tr><th scope=row>Fiat X1-9</th><td>27.3</td><td>4</td><td> 79.0</td><td> 66</td><td>4.08</td><td>1.935</td><td>18.90</td><td>1</td><td>1</td><td>4</td><td>1</td></tr>\n",
              "\t<tr><th scope=row>Porsche 914-2</th><td>26.0</td><td>4</td><td>120.3</td><td> 91</td><td>4.43</td><td>2.140</td><td>16.70</td><td>0</td><td>1</td><td>5</td><td>2</td></tr>\n",
              "\t<tr><th scope=row>Lotus Europa</th><td>30.4</td><td>4</td><td> 95.1</td><td>113</td><td>3.77</td><td>1.513</td><td>16.90</td><td>1</td><td>1</td><td>5</td><td>2</td></tr>\n",
              "\t<tr><th scope=row>Volvo 142E</th><td>21.4</td><td>4</td><td>121.0</td><td>109</td><td>4.11</td><td>2.780</td><td>18.60</td><td>1</td><td>1</td><td>4</td><td>2</td></tr>\n",
              "</tbody>\n",
              "</table>\n",
              "</dd>\n",
              "\t<dt>$`6`</dt>\n",
              "\t\t<dd><table class=\"dataframe\">\n",
              "<caption>A data.frame: 7 × 11</caption>\n",
              "<thead>\n",
              "\t<tr><th></th><th scope=col>mpg</th><th scope=col>cyl</th><th scope=col>disp</th><th scope=col>hp</th><th scope=col>drat</th><th scope=col>wt</th><th scope=col>qsec</th><th scope=col>vs</th><th scope=col>am</th><th scope=col>gear</th><th scope=col>carb</th></tr>\n",
              "\t<tr><th></th><th scope=col>&lt;dbl&gt;</th><th scope=col>&lt;dbl&gt;</th><th scope=col>&lt;dbl&gt;</th><th scope=col>&lt;dbl&gt;</th><th scope=col>&lt;dbl&gt;</th><th scope=col>&lt;dbl&gt;</th><th scope=col>&lt;dbl&gt;</th><th scope=col>&lt;dbl&gt;</th><th scope=col>&lt;dbl&gt;</th><th scope=col>&lt;dbl&gt;</th><th scope=col>&lt;dbl&gt;</th></tr>\n",
              "</thead>\n",
              "<tbody>\n",
              "\t<tr><th scope=row>Mazda RX4</th><td>21.0</td><td>6</td><td>160.0</td><td>110</td><td>3.90</td><td>2.620</td><td>16.46</td><td>0</td><td>1</td><td>4</td><td>4</td></tr>\n",
              "\t<tr><th scope=row>Mazda RX4 Wag</th><td>21.0</td><td>6</td><td>160.0</td><td>110</td><td>3.90</td><td>2.875</td><td>17.02</td><td>0</td><td>1</td><td>4</td><td>4</td></tr>\n",
              "\t<tr><th scope=row>Hornet 4 Drive</th><td>21.4</td><td>6</td><td>258.0</td><td>110</td><td>3.08</td><td>3.215</td><td>19.44</td><td>1</td><td>0</td><td>3</td><td>1</td></tr>\n",
              "\t<tr><th scope=row>Valiant</th><td>18.1</td><td>6</td><td>225.0</td><td>105</td><td>2.76</td><td>3.460</td><td>20.22</td><td>1</td><td>0</td><td>3</td><td>1</td></tr>\n",
              "\t<tr><th scope=row>Merc 280</th><td>19.2</td><td>6</td><td>167.6</td><td>123</td><td>3.92</td><td>3.440</td><td>18.30</td><td>1</td><td>0</td><td>4</td><td>4</td></tr>\n",
              "\t<tr><th scope=row>Merc 280C</th><td>17.8</td><td>6</td><td>167.6</td><td>123</td><td>3.92</td><td>3.440</td><td>18.90</td><td>1</td><td>0</td><td>4</td><td>4</td></tr>\n",
              "\t<tr><th scope=row>Ferrari Dino</th><td>19.7</td><td>6</td><td>145.0</td><td>175</td><td>3.62</td><td>2.770</td><td>15.50</td><td>0</td><td>1</td><td>5</td><td>6</td></tr>\n",
              "</tbody>\n",
              "</table>\n",
              "</dd>\n",
              "\t<dt>$`8`</dt>\n",
              "\t\t<dd><table class=\"dataframe\">\n",
              "<caption>A data.frame: 14 × 11</caption>\n",
              "<thead>\n",
              "\t<tr><th></th><th scope=col>mpg</th><th scope=col>cyl</th><th scope=col>disp</th><th scope=col>hp</th><th scope=col>drat</th><th scope=col>wt</th><th scope=col>qsec</th><th scope=col>vs</th><th scope=col>am</th><th scope=col>gear</th><th scope=col>carb</th></tr>\n",
              "\t<tr><th></th><th scope=col>&lt;dbl&gt;</th><th scope=col>&lt;dbl&gt;</th><th scope=col>&lt;dbl&gt;</th><th scope=col>&lt;dbl&gt;</th><th scope=col>&lt;dbl&gt;</th><th scope=col>&lt;dbl&gt;</th><th scope=col>&lt;dbl&gt;</th><th scope=col>&lt;dbl&gt;</th><th scope=col>&lt;dbl&gt;</th><th scope=col>&lt;dbl&gt;</th><th scope=col>&lt;dbl&gt;</th></tr>\n",
              "</thead>\n",
              "<tbody>\n",
              "\t<tr><th scope=row>Hornet Sportabout</th><td>18.7</td><td>8</td><td>360.0</td><td>175</td><td>3.15</td><td>3.440</td><td>17.02</td><td>0</td><td>0</td><td>3</td><td>2</td></tr>\n",
              "\t<tr><th scope=row>Duster 360</th><td>14.3</td><td>8</td><td>360.0</td><td>245</td><td>3.21</td><td>3.570</td><td>15.84</td><td>0</td><td>0</td><td>3</td><td>4</td></tr>\n",
              "\t<tr><th scope=row>Merc 450SE</th><td>16.4</td><td>8</td><td>275.8</td><td>180</td><td>3.07</td><td>4.070</td><td>17.40</td><td>0</td><td>0</td><td>3</td><td>3</td></tr>\n",
              "\t<tr><th scope=row>Merc 450SL</th><td>17.3</td><td>8</td><td>275.8</td><td>180</td><td>3.07</td><td>3.730</td><td>17.60</td><td>0</td><td>0</td><td>3</td><td>3</td></tr>\n",
              "\t<tr><th scope=row>Merc 450SLC</th><td>15.2</td><td>8</td><td>275.8</td><td>180</td><td>3.07</td><td>3.780</td><td>18.00</td><td>0</td><td>0</td><td>3</td><td>3</td></tr>\n",
              "\t<tr><th scope=row>Cadillac Fleetwood</th><td>10.4</td><td>8</td><td>472.0</td><td>205</td><td>2.93</td><td>5.250</td><td>17.98</td><td>0</td><td>0</td><td>3</td><td>4</td></tr>\n",
              "\t<tr><th scope=row>Lincoln Continental</th><td>10.4</td><td>8</td><td>460.0</td><td>215</td><td>3.00</td><td>5.424</td><td>17.82</td><td>0</td><td>0</td><td>3</td><td>4</td></tr>\n",
              "\t<tr><th scope=row>Chrysler Imperial</th><td>14.7</td><td>8</td><td>440.0</td><td>230</td><td>3.23</td><td>5.345</td><td>17.42</td><td>0</td><td>0</td><td>3</td><td>4</td></tr>\n",
              "\t<tr><th scope=row>Dodge Challenger</th><td>15.5</td><td>8</td><td>318.0</td><td>150</td><td>2.76</td><td>3.520</td><td>16.87</td><td>0</td><td>0</td><td>3</td><td>2</td></tr>\n",
              "\t<tr><th scope=row>AMC Javelin</th><td>15.2</td><td>8</td><td>304.0</td><td>150</td><td>3.15</td><td>3.435</td><td>17.30</td><td>0</td><td>0</td><td>3</td><td>2</td></tr>\n",
              "\t<tr><th scope=row>Camaro Z28</th><td>13.3</td><td>8</td><td>350.0</td><td>245</td><td>3.73</td><td>3.840</td><td>15.41</td><td>0</td><td>0</td><td>3</td><td>4</td></tr>\n",
              "\t<tr><th scope=row>Pontiac Firebird</th><td>19.2</td><td>8</td><td>400.0</td><td>175</td><td>3.08</td><td>3.845</td><td>17.05</td><td>0</td><td>0</td><td>3</td><td>2</td></tr>\n",
              "\t<tr><th scope=row>Ford Pantera L</th><td>15.8</td><td>8</td><td>351.0</td><td>264</td><td>4.22</td><td>3.170</td><td>14.50</td><td>0</td><td>1</td><td>5</td><td>4</td></tr>\n",
              "\t<tr><th scope=row>Maserati Bora</th><td>15.0</td><td>8</td><td>301.0</td><td>335</td><td>3.54</td><td>3.570</td><td>14.60</td><td>0</td><td>1</td><td>5</td><td>8</td></tr>\n",
              "</tbody>\n",
              "</table>\n",
              "</dd>\n",
              "</dl>\n"
            ]
          },
          "metadata": {
            "tags": []
          }
        }
      ]
    },
    {
      "cell_type": "code",
      "metadata": {
        "colab": {
          "base_uri": "https://localhost:8080/",
          "height": 504
        },
        "id": "TeTiXYKID-Rq",
        "outputId": "8f6696ba-dfed-4d2c-971b-11e73b78b52f"
      },
      "source": [
        "mtcars %>% split(.$cyl) %>% map(function(res) lm(mpg~wt, data=res))"
      ],
      "execution_count": null,
      "outputs": [
        {
          "output_type": "display_data",
          "data": {
            "text/plain": [
              "$`4`\n",
              "\n",
              "Call:\n",
              "lm(formula = mpg ~ wt, data = res)\n",
              "\n",
              "Coefficients:\n",
              "(Intercept)           wt  \n",
              "     39.571       -5.647  \n",
              "\n",
              "\n",
              "$`6`\n",
              "\n",
              "Call:\n",
              "lm(formula = mpg ~ wt, data = res)\n",
              "\n",
              "Coefficients:\n",
              "(Intercept)           wt  \n",
              "      28.41        -2.78  \n",
              "\n",
              "\n",
              "$`8`\n",
              "\n",
              "Call:\n",
              "lm(formula = mpg ~ wt, data = res)\n",
              "\n",
              "Coefficients:\n",
              "(Intercept)           wt  \n",
              "     23.868       -2.192  \n",
              "\n"
            ]
          },
          "metadata": {
            "tags": []
          }
        }
      ]
    },
    {
      "cell_type": "code",
      "metadata": {
        "colab": {
          "base_uri": "https://localhost:8080/",
          "height": 504
        },
        "id": "uiK3VZYyD-cQ",
        "outputId": "0ba383ed-bb53-41c3-e374-223dff3fff4a"
      },
      "source": [
        "f1 <- function(res){\n",
        "  lm(mpg~wt, data = res)\n",
        "}\n",
        "\n",
        "mtcars %>% split(.$cyl) %>% map(f1)"
      ],
      "execution_count": null,
      "outputs": [
        {
          "output_type": "display_data",
          "data": {
            "text/plain": [
              "$`4`\n",
              "\n",
              "Call:\n",
              "lm(formula = mpg ~ wt, data = res)\n",
              "\n",
              "Coefficients:\n",
              "(Intercept)           wt  \n",
              "     39.571       -5.647  \n",
              "\n",
              "\n",
              "$`6`\n",
              "\n",
              "Call:\n",
              "lm(formula = mpg ~ wt, data = res)\n",
              "\n",
              "Coefficients:\n",
              "(Intercept)           wt  \n",
              "      28.41        -2.78  \n",
              "\n",
              "\n",
              "$`8`\n",
              "\n",
              "Call:\n",
              "lm(formula = mpg ~ wt, data = res)\n",
              "\n",
              "Coefficients:\n",
              "(Intercept)           wt  \n",
              "     23.868       -2.192  \n",
              "\n"
            ]
          },
          "metadata": {
            "tags": []
          }
        }
      ]
    },
    {
      "cell_type": "code",
      "metadata": {
        "colab": {
          "base_uri": "https://localhost:8080/",
          "height": 504
        },
        "id": "5GBgWGvhD-mx",
        "outputId": "5db576be-db9c-436f-a33d-9d2a44820f93"
      },
      "source": [
        "mtcars %>% split(.$cyl) %>% map(~lm(mpg~wt, data=.))"
      ],
      "execution_count": null,
      "outputs": [
        {
          "output_type": "display_data",
          "data": {
            "text/plain": [
              "$`4`\n",
              "\n",
              "Call:\n",
              "lm(formula = mpg ~ wt, data = .)\n",
              "\n",
              "Coefficients:\n",
              "(Intercept)           wt  \n",
              "     39.571       -5.647  \n",
              "\n",
              "\n",
              "$`6`\n",
              "\n",
              "Call:\n",
              "lm(formula = mpg ~ wt, data = .)\n",
              "\n",
              "Coefficients:\n",
              "(Intercept)           wt  \n",
              "      28.41        -2.78  \n",
              "\n",
              "\n",
              "$`8`\n",
              "\n",
              "Call:\n",
              "lm(formula = mpg ~ wt, data = .)\n",
              "\n",
              "Coefficients:\n",
              "(Intercept)           wt  \n",
              "     23.868       -2.192  \n",
              "\n"
            ]
          },
          "metadata": {
            "tags": []
          }
        }
      ]
    },
    {
      "cell_type": "code",
      "metadata": {
        "colab": {
          "base_uri": "https://localhost:8080/",
          "height": 34
        },
        "id": "DqC11vsrD-uf",
        "outputId": "0657ae5d-0609-40d1-e8c3-e46eb8e56693"
      },
      "source": [
        "mtcars %>% split(.$cyl) %>% map(~lm(mpg~wt, data=.)) %>% map(summary) %>% map_dbl(~.$r.squared)"
      ],
      "execution_count": null,
      "outputs": [
        {
          "output_type": "display_data",
          "data": {
            "text/plain": [
              "        4         6         8 \n",
              "0.5086326 0.4645102 0.4229655 "
            ],
            "text/latex": "\\begin{description*}\n\\item[4] 0.50863259632314\n\\item[6] 0.464510150550548\n\\item[8] 0.422965536496111\n\\end{description*}\n",
            "text/markdown": "4\n:   0.508632596323146\n:   0.4645101505505488\n:   0.422965536496111\n\n",
            "text/html": [
              "<style>\n",
              ".dl-inline {width: auto; margin:0; padding: 0}\n",
              ".dl-inline>dt, .dl-inline>dd {float: none; width: auto; display: inline-block}\n",
              ".dl-inline>dt::after {content: \":\\0020\"; padding-right: .5ex}\n",
              ".dl-inline>dt:not(:first-of-type) {padding-left: .5ex}\n",
              "</style><dl class=dl-inline><dt>4</dt><dd>0.50863259632314</dd><dt>6</dt><dd>0.464510150550548</dd><dt>8</dt><dd>0.422965536496111</dd></dl>\n"
            ]
          },
          "metadata": {
            "tags": []
          }
        }
      ]
    },
    {
      "cell_type": "code",
      "metadata": {
        "colab": {
          "base_uri": "https://localhost:8080/",
          "height": 34
        },
        "id": "APLn5fl7Bh3A",
        "outputId": "1d58ca25-fa79-482c-c540-9041aefeffa3"
      },
      "source": [
        "x <- list(list(1,2,3), list(4,5,6), list(7,8,9))\n",
        "x %>% map_dbl(2)"
      ],
      "execution_count": null,
      "outputs": [
        {
          "output_type": "display_data",
          "data": {
            "text/plain": [
              "[1] 2 5 8"
            ],
            "text/latex": "\\begin{enumerate*}\n\\item 2\n\\item 5\n\\item 8\n\\end{enumerate*}\n",
            "text/markdown": "1. 2\n2. 5\n3. 8\n\n\n",
            "text/html": [
              "<style>\n",
              ".list-inline {list-style: none; margin:0; padding: 0}\n",
              ".list-inline>li {display: inline-block}\n",
              ".list-inline>li:not(:last-child)::after {content: \"\\00b7\"; padding: 0 .5ex}\n",
              "</style>\n",
              "<ol class=list-inline><li>2</li><li>5</li><li>8</li></ol>\n"
            ]
          },
          "metadata": {
            "tags": []
          }
        }
      ]
    },
    {
      "cell_type": "code",
      "metadata": {
        "colab": {
          "base_uri": "https://localhost:8080/",
          "height": 549
        },
        "id": "roEU-MUXBhy7",
        "outputId": "984fd9db-18ca-49ec-dff6-28c9736880a8"
      },
      "source": [
        "len1 = 10\n",
        "\n",
        "rep(10, len1) %>% map(~rnorm(.))"
      ],
      "execution_count": null,
      "outputs": [
        {
          "output_type": "display_data",
          "data": {
            "text/plain": [
              "[[1]]\n",
              " [1] -0.74560216  0.39796152  1.41814886  0.22665099 -0.07889664 -0.46235098\n",
              " [7] -1.26878924  0.61782274  0.61368880  0.20893259\n",
              "\n",
              "[[2]]\n",
              " [1]  0.4257718  0.2545962 -0.7818657 -1.5303577 -0.4112810  0.7952294\n",
              " [7]  0.1520233 -0.1263064 -2.3348463  1.9651390\n",
              "\n",
              "[[3]]\n",
              " [1] -1.7301583  0.3439739  0.3809384  0.5784903  1.5437833  1.0606269\n",
              " [7] -0.2957129 -0.1379249 -0.4010401  2.0915810\n",
              "\n",
              "[[4]]\n",
              " [1]  0.3747356  0.5634052 -0.3135373 -2.0170860 -0.8213353  1.4403155\n",
              " [7] -0.7267198 -1.0237799 -0.9670718  0.8972398\n",
              "\n",
              "[[5]]\n",
              " [1] -1.2802658598 -0.7038292123  1.0211610906 -1.0222303046 -0.3094614869\n",
              " [6]  0.9495269380  1.6554361935  0.1166915606  0.0005554353 -0.0254197776\n",
              "\n",
              "[[6]]\n",
              " [1]  0.48903368  0.65466495 -1.70151764  0.83959523 -0.33039320 -1.81562613\n",
              " [7]  0.02807544 -0.49919508  1.05166849  1.20766051\n",
              "\n",
              "[[7]]\n",
              " [1] -0.106668574  0.595184410 -0.051274604 -1.392559589  0.443979997\n",
              " [6]  0.118742420 -0.005672885  1.513513376 -0.437802035  1.839431438\n",
              "\n",
              "[[8]]\n",
              " [1] -2.1288425 -0.2021144 -0.8701574 -0.2741489 -0.5448698  1.1498213\n",
              " [7] -1.7211840 -0.4132349 -1.7255548  1.6167787\n",
              "\n",
              "[[9]]\n",
              " [1] -2.13027271  1.08232352  0.55228005 -0.49121173 -0.31738763 -0.02241544\n",
              " [7] -1.73668944  0.67326822  0.05737184  1.66122332\n",
              "\n",
              "[[10]]\n",
              " [1] -0.1385536  1.1698590 -1.3451466 -0.4775159 -0.1505861 -1.5725265\n",
              " [7] -1.1867755 -1.3076850  0.5004613 -1.0262163\n"
            ],
            "text/latex": "\\begin{enumerate}\n\\item \\begin{enumerate*}\n\\item -0.745602164542101\n\\item 0.397961516991871\n\\item 1.41814885730645\n\\item 0.226650988660353\n\\item -0.0788966350568732\n\\item -0.462350978011818\n\\item -1.2687892358782\n\\item 0.617822737195866\n\\item 0.613688799040407\n\\item 0.208932590760221\n\\end{enumerate*}\n\n\\item \\begin{enumerate*}\n\\item 0.425771807849904\n\\item 0.254596154018412\n\\item -0.781865698098327\n\\item -1.53035765622708\n\\item -0.411280983033011\n\\item 0.795229417925629\n\\item 0.152023333436273\n\\item -0.126306407998286\n\\item -2.33484630200091\n\\item 1.96513904924537\n\\end{enumerate*}\n\n\\item \\begin{enumerate*}\n\\item -1.73015828669705\n\\item 0.343973855349796\n\\item 0.380938382434799\n\\item 0.578490319812634\n\\item 1.54378331872163\n\\item 1.06062690977742\n\\item -0.295712851216015\n\\item -0.137924894422197\n\\item -0.401040080868721\n\\item 2.09158098956933\n\\end{enumerate*}\n\n\\item \\begin{enumerate*}\n\\item 0.374735561881698\n\\item 0.563405220148371\n\\item -0.313537335639214\n\\item -2.01708601369746\n\\item -0.821335336684228\n\\item 1.4403154698434\n\\item -0.7267197530819\n\\item -1.02377991337524\n\\item -0.967071765900157\n\\item 0.897239817265129\n\\end{enumerate*}\n\n\\item \\begin{enumerate*}\n\\item -1.28026585978464\n\\item -0.70382921231262\n\\item 1.02116109058862\n\\item -1.02223030455631\n\\item -0.309461486877831\n\\item 0.949526938013064\n\\item 1.65543619346766\n\\item 0.116691560614474\n\\item 0.000555435257735824\n\\item -0.0254197776391602\n\\end{enumerate*}\n\n\\item \\begin{enumerate*}\n\\item 0.489033679015437\n\\item 0.654664954772144\n\\item -1.70151763678656\n\\item 0.839595225115315\n\\item -0.330393201053999\n\\item -1.81562613478872\n\\item 0.0280754352934395\n\\item -0.499195079781478\n\\item 1.05166848644706\n\\item 1.20766050667842\n\\end{enumerate*}\n\n\\item \\begin{enumerate*}\n\\item -0.10666857371461\n\\item 0.595184410499938\n\\item -0.0512746044220892\n\\item -1.39255958855942\n\\item 0.443979996747867\n\\item 0.118742420247462\n\\item -0.00567288466013745\n\\item 1.51351337588065\n\\item -0.437802035162969\n\\item 1.83943143836956\n\\end{enumerate*}\n\n\\item \\begin{enumerate*}\n\\item -2.12884254243873\n\\item -0.202114362320603\n\\item -0.870157353391548\n\\item -0.274148909636971\n\\item -0.544869758316577\n\\item 1.14982127788476\n\\item -1.72118400970923\n\\item -0.413234928529369\n\\item -1.7255547792397\n\\item 1.61677865427067\n\\end{enumerate*}\n\n\\item \\begin{enumerate*}\n\\item -2.13027270501909\n\\item 1.0823235160454\n\\item 0.552280049591495\n\\item -0.491211727337479\n\\item -0.317387625586524\n\\item -0.0224154379398411\n\\item -1.73668943540234\n\\item 0.67326822067905\n\\item 0.0573718355550224\n\\item 1.66122332446903\n\\end{enumerate*}\n\n\\item \\begin{enumerate*}\n\\item -0.138553621090978\n\\item 1.1698589840194\n\\item -1.34514661822366\n\\item -0.47751586831555\n\\item -0.150586109752966\n\\item -1.57252648214146\n\\item -1.18677547104874\n\\item -1.30768503495142\n\\item 0.500461344106135\n\\item -1.02621628150739\n\\end{enumerate*}\n\n\\end{enumerate}\n",
            "text/markdown": "1. 1. -0.745602164542101\n2. 0.397961516991871\n3. 1.41814885730645\n4. 0.226650988660353\n5. -0.0788966350568732\n6. -0.462350978011818\n7. -1.2687892358782\n8. 0.617822737195866\n9. 0.613688799040407\n10. 0.208932590760221\n\n\n\n2. 1. 0.425771807849904\n2. 0.254596154018412\n3. -0.781865698098327\n4. -1.53035765622708\n5. -0.411280983033011\n6. 0.795229417925629\n7. 0.152023333436273\n8. -0.126306407998286\n9. -2.33484630200091\n10. 1.96513904924537\n\n\n\n3. 1. -1.73015828669705\n2. 0.343973855349796\n3. 0.380938382434799\n4. 0.578490319812634\n5. 1.54378331872163\n6. 1.06062690977742\n7. -0.295712851216015\n8. -0.137924894422197\n9. -0.401040080868721\n10. 2.09158098956933\n\n\n\n4. 1. 0.374735561881698\n2. 0.563405220148371\n3. -0.313537335639214\n4. -2.01708601369746\n5. -0.821335336684228\n6. 1.4403154698434\n7. -0.7267197530819\n8. -1.02377991337524\n9. -0.967071765900157\n10. 0.897239817265129\n\n\n\n5. 1. -1.28026585978464\n2. -0.70382921231262\n3. 1.02116109058862\n4. -1.02223030455631\n5. -0.309461486877831\n6. 0.949526938013064\n7. 1.65543619346766\n8. 0.116691560614474\n9. 0.000555435257735824\n10. -0.0254197776391602\n\n\n\n6. 1. 0.489033679015437\n2. 0.654664954772144\n3. -1.70151763678656\n4. 0.839595225115315\n5. -0.330393201053999\n6. -1.81562613478872\n7. 0.0280754352934395\n8. -0.499195079781478\n9. 1.05166848644706\n10. 1.20766050667842\n\n\n\n7. 1. -0.10666857371461\n2. 0.595184410499938\n3. -0.0512746044220892\n4. -1.39255958855942\n5. 0.443979996747867\n6. 0.118742420247462\n7. -0.00567288466013745\n8. 1.51351337588065\n9. -0.437802035162969\n10. 1.83943143836956\n\n\n\n8. 1. -2.12884254243873\n2. -0.202114362320603\n3. -0.870157353391548\n4. -0.274148909636971\n5. -0.544869758316577\n6. 1.14982127788476\n7. -1.72118400970923\n8. -0.413234928529369\n9. -1.7255547792397\n10. 1.61677865427067\n\n\n\n9. 1. -2.13027270501909\n2. 1.0823235160454\n3. 0.552280049591495\n4. -0.491211727337479\n5. -0.317387625586524\n6. -0.0224154379398411\n7. -1.73668943540234\n8. 0.67326822067905\n9. 0.0573718355550224\n10. 1.66122332446903\n\n\n\n10. 1. -0.138553621090978\n2. 1.1698589840194\n3. -1.34514661822366\n4. -0.47751586831555\n5. -0.150586109752966\n6. -1.57252648214146\n7. -1.18677547104874\n8. -1.30768503495142\n9. 0.500461344106135\n10. -1.02621628150739\n\n\n\n\n\n",
            "text/html": [
              "<ol>\n",
              "\t<li><style>\n",
              ".list-inline {list-style: none; margin:0; padding: 0}\n",
              ".list-inline>li {display: inline-block}\n",
              ".list-inline>li:not(:last-child)::after {content: \"\\00b7\"; padding: 0 .5ex}\n",
              "</style>\n",
              "<ol class=list-inline><li>-0.745602164542101</li><li>0.397961516991871</li><li>1.41814885730645</li><li>0.226650988660353</li><li>-0.0788966350568732</li><li>-0.462350978011818</li><li>-1.2687892358782</li><li>0.617822737195866</li><li>0.613688799040407</li><li>0.208932590760221</li></ol>\n",
              "</li>\n",
              "\t<li><style>\n",
              ".list-inline {list-style: none; margin:0; padding: 0}\n",
              ".list-inline>li {display: inline-block}\n",
              ".list-inline>li:not(:last-child)::after {content: \"\\00b7\"; padding: 0 .5ex}\n",
              "</style>\n",
              "<ol class=list-inline><li>0.425771807849904</li><li>0.254596154018412</li><li>-0.781865698098327</li><li>-1.53035765622708</li><li>-0.411280983033011</li><li>0.795229417925629</li><li>0.152023333436273</li><li>-0.126306407998286</li><li>-2.33484630200091</li><li>1.96513904924537</li></ol>\n",
              "</li>\n",
              "\t<li><style>\n",
              ".list-inline {list-style: none; margin:0; padding: 0}\n",
              ".list-inline>li {display: inline-block}\n",
              ".list-inline>li:not(:last-child)::after {content: \"\\00b7\"; padding: 0 .5ex}\n",
              "</style>\n",
              "<ol class=list-inline><li>-1.73015828669705</li><li>0.343973855349796</li><li>0.380938382434799</li><li>0.578490319812634</li><li>1.54378331872163</li><li>1.06062690977742</li><li>-0.295712851216015</li><li>-0.137924894422197</li><li>-0.401040080868721</li><li>2.09158098956933</li></ol>\n",
              "</li>\n",
              "\t<li><style>\n",
              ".list-inline {list-style: none; margin:0; padding: 0}\n",
              ".list-inline>li {display: inline-block}\n",
              ".list-inline>li:not(:last-child)::after {content: \"\\00b7\"; padding: 0 .5ex}\n",
              "</style>\n",
              "<ol class=list-inline><li>0.374735561881698</li><li>0.563405220148371</li><li>-0.313537335639214</li><li>-2.01708601369746</li><li>-0.821335336684228</li><li>1.4403154698434</li><li>-0.7267197530819</li><li>-1.02377991337524</li><li>-0.967071765900157</li><li>0.897239817265129</li></ol>\n",
              "</li>\n",
              "\t<li><style>\n",
              ".list-inline {list-style: none; margin:0; padding: 0}\n",
              ".list-inline>li {display: inline-block}\n",
              ".list-inline>li:not(:last-child)::after {content: \"\\00b7\"; padding: 0 .5ex}\n",
              "</style>\n",
              "<ol class=list-inline><li>-1.28026585978464</li><li>-0.70382921231262</li><li>1.02116109058862</li><li>-1.02223030455631</li><li>-0.309461486877831</li><li>0.949526938013064</li><li>1.65543619346766</li><li>0.116691560614474</li><li>0.000555435257735824</li><li>-0.0254197776391602</li></ol>\n",
              "</li>\n",
              "\t<li><style>\n",
              ".list-inline {list-style: none; margin:0; padding: 0}\n",
              ".list-inline>li {display: inline-block}\n",
              ".list-inline>li:not(:last-child)::after {content: \"\\00b7\"; padding: 0 .5ex}\n",
              "</style>\n",
              "<ol class=list-inline><li>0.489033679015437</li><li>0.654664954772144</li><li>-1.70151763678656</li><li>0.839595225115315</li><li>-0.330393201053999</li><li>-1.81562613478872</li><li>0.0280754352934395</li><li>-0.499195079781478</li><li>1.05166848644706</li><li>1.20766050667842</li></ol>\n",
              "</li>\n",
              "\t<li><style>\n",
              ".list-inline {list-style: none; margin:0; padding: 0}\n",
              ".list-inline>li {display: inline-block}\n",
              ".list-inline>li:not(:last-child)::after {content: \"\\00b7\"; padding: 0 .5ex}\n",
              "</style>\n",
              "<ol class=list-inline><li>-0.10666857371461</li><li>0.595184410499938</li><li>-0.0512746044220892</li><li>-1.39255958855942</li><li>0.443979996747867</li><li>0.118742420247462</li><li>-0.00567288466013745</li><li>1.51351337588065</li><li>-0.437802035162969</li><li>1.83943143836956</li></ol>\n",
              "</li>\n",
              "\t<li><style>\n",
              ".list-inline {list-style: none; margin:0; padding: 0}\n",
              ".list-inline>li {display: inline-block}\n",
              ".list-inline>li:not(:last-child)::after {content: \"\\00b7\"; padding: 0 .5ex}\n",
              "</style>\n",
              "<ol class=list-inline><li>-2.12884254243873</li><li>-0.202114362320603</li><li>-0.870157353391548</li><li>-0.274148909636971</li><li>-0.544869758316577</li><li>1.14982127788476</li><li>-1.72118400970923</li><li>-0.413234928529369</li><li>-1.7255547792397</li><li>1.61677865427067</li></ol>\n",
              "</li>\n",
              "\t<li><style>\n",
              ".list-inline {list-style: none; margin:0; padding: 0}\n",
              ".list-inline>li {display: inline-block}\n",
              ".list-inline>li:not(:last-child)::after {content: \"\\00b7\"; padding: 0 .5ex}\n",
              "</style>\n",
              "<ol class=list-inline><li>-2.13027270501909</li><li>1.0823235160454</li><li>0.552280049591495</li><li>-0.491211727337479</li><li>-0.317387625586524</li><li>-0.0224154379398411</li><li>-1.73668943540234</li><li>0.67326822067905</li><li>0.0573718355550224</li><li>1.66122332446903</li></ol>\n",
              "</li>\n",
              "\t<li><style>\n",
              ".list-inline {list-style: none; margin:0; padding: 0}\n",
              ".list-inline>li {display: inline-block}\n",
              ".list-inline>li:not(:last-child)::after {content: \"\\00b7\"; padding: 0 .5ex}\n",
              "</style>\n",
              "<ol class=list-inline><li>-0.138553621090978</li><li>1.1698589840194</li><li>-1.34514661822366</li><li>-0.47751586831555</li><li>-0.150586109752966</li><li>-1.57252648214146</li><li>-1.18677547104874</li><li>-1.30768503495142</li><li>0.500461344106135</li><li>-1.02621628150739</li></ol>\n",
              "</li>\n",
              "</ol>\n"
            ]
          },
          "metadata": {
            "tags": []
          }
        }
      ]
    },
    {
      "cell_type": "code",
      "metadata": {
        "colab": {
          "base_uri": "https://localhost:8080/",
          "height": 549
        },
        "id": "g1Q0kQQWBhvf",
        "outputId": "2891015e-24b9-4b29-ee05-960278113e4c"
      },
      "source": [
        "res2 <- vector(mode=\"list\", length=len1)\n",
        "for(i in 1:len1)\n",
        "  res2[[i]] <- rnorm(10)\n",
        "\n",
        "res2"
      ],
      "execution_count": null,
      "outputs": [
        {
          "output_type": "display_data",
          "data": {
            "text/plain": [
              "[[1]]\n",
              " [1] -0.25429129 -0.07200543  0.70935068  0.42338437 -0.31218054  1.21391532\n",
              " [7] -0.31165466 -0.32796809  0.39409290  0.02746745\n",
              "\n",
              "[[2]]\n",
              " [1]  0.13657510  1.03383728  0.94984443  1.02790321  0.36894258 -0.54602058\n",
              " [7] -0.09921838  0.94460180 -0.35468269 -2.03976717\n",
              "\n",
              "[[3]]\n",
              " [1] -1.824979230 -0.065202051  1.586506120  0.672979336  1.397904956\n",
              " [6] -2.564991068  1.143750521  0.520237520 -1.704976843 -0.003870512\n",
              "\n",
              "[[4]]\n",
              " [1]  0.07384964 -0.68352800 -0.92264471  0.35899697 -0.80578740  0.32356271\n",
              " [7] -0.04443893 -0.34046364  1.49984485  0.54969525\n",
              "\n",
              "[[5]]\n",
              " [1]  1.54029335  0.09679183  0.28095004  1.78097990  0.34299716  1.60854218\n",
              " [7]  1.78897761  0.29905704 -0.49080517 -0.74656197\n",
              "\n",
              "[[6]]\n",
              " [1] -0.1616635 -2.4997382  0.3666552  0.4230455 -1.3417206  0.5826937\n",
              " [7] -0.7325096  0.1402813  0.9471450  1.7993755\n",
              "\n",
              "[[7]]\n",
              " [1] -1.9878204 -0.7241115  0.6322770 -0.9798274  0.6223380  1.0177213\n",
              " [7]  0.9171211 -0.2461414 -0.4644279 -1.5442861\n",
              "\n",
              "[[8]]\n",
              " [1] -1.13328052  0.80916300  0.08067375 -0.44051505 -0.26100916  1.47442900\n",
              " [7]  0.25990947  1.93695592  0.92668986  0.30045536\n",
              "\n",
              "[[9]]\n",
              " [1]  1.36599028 -0.92052998  2.19530216 -0.19328936 -0.42245007  0.06189667\n",
              " [7]  0.93971566  0.72780479 -0.10621098  0.59473734\n",
              "\n",
              "[[10]]\n",
              " [1]  0.8164161 -1.5519745  2.4327034  2.6830455 -0.6881665 -0.8869526\n",
              " [7]  0.4876196 -0.7937331  1.3156583 -0.8413201\n"
            ],
            "text/latex": "\\begin{enumerate}\n\\item \\begin{enumerate*}\n\\item -0.254291288902687\n\\item -0.0720054261662428\n\\item 0.709350675269392\n\\item 0.423384369939016\n\\item -0.312180544625373\n\\item 1.21391532205858\n\\item -0.311654662609112\n\\item -0.327968094368899\n\\item 0.394092900725599\n\\item 0.0274674498617188\n\\end{enumerate*}\n\n\\item \\begin{enumerate*}\n\\item 0.136575103622636\n\\item 1.03383727509291\n\\item 0.949844433631436\n\\item 1.02790320841783\n\\item 0.368942579507203\n\\item -0.546020578012662\n\\item -0.0992183798747769\n\\item 0.94460180030185\n\\item -0.354682690526556\n\\item -2.03976716566118\n\\end{enumerate*}\n\n\\item \\begin{enumerate*}\n\\item -1.82497923046575\n\\item -0.0652020511623225\n\\item 1.58650612043521\n\\item 0.672979335681779\n\\item 1.39790495619501\n\\item -2.56499106761872\n\\item 1.14375052099786\n\\item 0.520237519655524\n\\item -1.70497684318767\n\\item -0.00387051175919689\n\\end{enumerate*}\n\n\\item \\begin{enumerate*}\n\\item 0.0738496429032322\n\\item -0.68352799755952\n\\item -0.922644708333506\n\\item 0.358996972565394\n\\item -0.805787396623649\n\\item 0.323562709411666\n\\item -0.0444389265423917\n\\item -0.340463638935604\n\\item 1.49984485309077\n\\item 0.549695246173614\n\\end{enumerate*}\n\n\\item \\begin{enumerate*}\n\\item 1.54029335410471\n\\item 0.0967918313067107\n\\item 0.280950041377774\n\\item 1.78097989504315\n\\item 0.342997159474466\n\\item 1.6085421787986\n\\item 1.78897761240703\n\\item 0.299057041632544\n\\item -0.490805165138484\n\\item -0.746561969086113\n\\end{enumerate*}\n\n\\item \\begin{enumerate*}\n\\item -0.161663542999406\n\\item -2.49973819918259\n\\item 0.366655186003562\n\\item 0.42304548694644\n\\item -1.34172059165206\n\\item 0.582693746248869\n\\item -0.732509562041927\n\\item 0.140281343367134\n\\item 0.947144980447848\n\\item 1.79937545473013\n\\end{enumerate*}\n\n\\item \\begin{enumerate*}\n\\item -1.98782035890683\n\\item -0.724111530567621\n\\item 0.632277004911262\n\\item -0.979827434076566\n\\item 0.622338042299603\n\\item 1.0177212746004\n\\item 0.917121134816954\n\\item -0.246141416968211\n\\item -0.464427932250714\n\\item -1.54428606614635\n\\end{enumerate*}\n\n\\item \\begin{enumerate*}\n\\item -1.13328052216964\n\\item 0.809163001868567\n\\item 0.0806737486221403\n\\item -0.440515051080064\n\\item -0.261009160597779\n\\item 1.47442899757792\n\\item 0.259909467318781\n\\item 1.93695591873342\n\\item 0.926689862390741\n\\item 0.300455355716952\n\\end{enumerate*}\n\n\\item \\begin{enumerate*}\n\\item 1.36599027529317\n\\item -0.920529975579731\n\\item 2.1953021630527\n\\item -0.193289356968698\n\\item -0.422450070449833\n\\item 0.0618966705954335\n\\item 0.939715662837317\n\\item 0.727804785824179\n\\item -0.106210980656128\n\\item 0.594737344808743\n\\end{enumerate*}\n\n\\item \\begin{enumerate*}\n\\item 0.816416108169813\n\\item -1.55197452005983\n\\item 2.43270337857777\n\\item 2.68304546644446\n\\item -0.688166511747103\n\\item -0.886952627480784\n\\item 0.487619643911859\n\\item -0.793733143854815\n\\item 1.31565830344591\n\\item -0.841320118257733\n\\end{enumerate*}\n\n\\end{enumerate}\n",
            "text/markdown": "1. 1. -0.254291288902687\n2. -0.0720054261662428\n3. 0.709350675269392\n4. 0.423384369939016\n5. -0.312180544625373\n6. 1.21391532205858\n7. -0.311654662609112\n8. -0.327968094368899\n9. 0.394092900725599\n10. 0.0274674498617188\n\n\n\n2. 1. 0.136575103622636\n2. 1.03383727509291\n3. 0.949844433631436\n4. 1.02790320841783\n5. 0.368942579507203\n6. -0.546020578012662\n7. -0.0992183798747769\n8. 0.94460180030185\n9. -0.354682690526556\n10. -2.03976716566118\n\n\n\n3. 1. -1.82497923046575\n2. -0.0652020511623225\n3. 1.58650612043521\n4. 0.672979335681779\n5. 1.39790495619501\n6. -2.56499106761872\n7. 1.14375052099786\n8. 0.520237519655524\n9. -1.70497684318767\n10. -0.00387051175919689\n\n\n\n4. 1. 0.0738496429032322\n2. -0.68352799755952\n3. -0.922644708333506\n4. 0.358996972565394\n5. -0.805787396623649\n6. 0.323562709411666\n7. -0.0444389265423917\n8. -0.340463638935604\n9. 1.49984485309077\n10. 0.549695246173614\n\n\n\n5. 1. 1.54029335410471\n2. 0.0967918313067107\n3. 0.280950041377774\n4. 1.78097989504315\n5. 0.342997159474466\n6. 1.6085421787986\n7. 1.78897761240703\n8. 0.299057041632544\n9. -0.490805165138484\n10. -0.746561969086113\n\n\n\n6. 1. -0.161663542999406\n2. -2.49973819918259\n3. 0.366655186003562\n4. 0.42304548694644\n5. -1.34172059165206\n6. 0.582693746248869\n7. -0.732509562041927\n8. 0.140281343367134\n9. 0.947144980447848\n10. 1.79937545473013\n\n\n\n7. 1. -1.98782035890683\n2. -0.724111530567621\n3. 0.632277004911262\n4. -0.979827434076566\n5. 0.622338042299603\n6. 1.0177212746004\n7. 0.917121134816954\n8. -0.246141416968211\n9. -0.464427932250714\n10. -1.54428606614635\n\n\n\n8. 1. -1.13328052216964\n2. 0.809163001868567\n3. 0.0806737486221403\n4. -0.440515051080064\n5. -0.261009160597779\n6. 1.47442899757792\n7. 0.259909467318781\n8. 1.93695591873342\n9. 0.926689862390741\n10. 0.300455355716952\n\n\n\n9. 1. 1.36599027529317\n2. -0.920529975579731\n3. 2.1953021630527\n4. -0.193289356968698\n5. -0.422450070449833\n6. 0.0618966705954335\n7. 0.939715662837317\n8. 0.727804785824179\n9. -0.106210980656128\n10. 0.594737344808743\n\n\n\n10. 1. 0.816416108169813\n2. -1.55197452005983\n3. 2.43270337857777\n4. 2.68304546644446\n5. -0.688166511747103\n6. -0.886952627480784\n7. 0.487619643911859\n8. -0.793733143854815\n9. 1.31565830344591\n10. -0.841320118257733\n\n\n\n\n\n",
            "text/html": [
              "<ol>\n",
              "\t<li><style>\n",
              ".list-inline {list-style: none; margin:0; padding: 0}\n",
              ".list-inline>li {display: inline-block}\n",
              ".list-inline>li:not(:last-child)::after {content: \"\\00b7\"; padding: 0 .5ex}\n",
              "</style>\n",
              "<ol class=list-inline><li>-0.254291288902687</li><li>-0.0720054261662428</li><li>0.709350675269392</li><li>0.423384369939016</li><li>-0.312180544625373</li><li>1.21391532205858</li><li>-0.311654662609112</li><li>-0.327968094368899</li><li>0.394092900725599</li><li>0.0274674498617188</li></ol>\n",
              "</li>\n",
              "\t<li><style>\n",
              ".list-inline {list-style: none; margin:0; padding: 0}\n",
              ".list-inline>li {display: inline-block}\n",
              ".list-inline>li:not(:last-child)::after {content: \"\\00b7\"; padding: 0 .5ex}\n",
              "</style>\n",
              "<ol class=list-inline><li>0.136575103622636</li><li>1.03383727509291</li><li>0.949844433631436</li><li>1.02790320841783</li><li>0.368942579507203</li><li>-0.546020578012662</li><li>-0.0992183798747769</li><li>0.94460180030185</li><li>-0.354682690526556</li><li>-2.03976716566118</li></ol>\n",
              "</li>\n",
              "\t<li><style>\n",
              ".list-inline {list-style: none; margin:0; padding: 0}\n",
              ".list-inline>li {display: inline-block}\n",
              ".list-inline>li:not(:last-child)::after {content: \"\\00b7\"; padding: 0 .5ex}\n",
              "</style>\n",
              "<ol class=list-inline><li>-1.82497923046575</li><li>-0.0652020511623225</li><li>1.58650612043521</li><li>0.672979335681779</li><li>1.39790495619501</li><li>-2.56499106761872</li><li>1.14375052099786</li><li>0.520237519655524</li><li>-1.70497684318767</li><li>-0.00387051175919689</li></ol>\n",
              "</li>\n",
              "\t<li><style>\n",
              ".list-inline {list-style: none; margin:0; padding: 0}\n",
              ".list-inline>li {display: inline-block}\n",
              ".list-inline>li:not(:last-child)::after {content: \"\\00b7\"; padding: 0 .5ex}\n",
              "</style>\n",
              "<ol class=list-inline><li>0.0738496429032322</li><li>-0.68352799755952</li><li>-0.922644708333506</li><li>0.358996972565394</li><li>-0.805787396623649</li><li>0.323562709411666</li><li>-0.0444389265423917</li><li>-0.340463638935604</li><li>1.49984485309077</li><li>0.549695246173614</li></ol>\n",
              "</li>\n",
              "\t<li><style>\n",
              ".list-inline {list-style: none; margin:0; padding: 0}\n",
              ".list-inline>li {display: inline-block}\n",
              ".list-inline>li:not(:last-child)::after {content: \"\\00b7\"; padding: 0 .5ex}\n",
              "</style>\n",
              "<ol class=list-inline><li>1.54029335410471</li><li>0.0967918313067107</li><li>0.280950041377774</li><li>1.78097989504315</li><li>0.342997159474466</li><li>1.6085421787986</li><li>1.78897761240703</li><li>0.299057041632544</li><li>-0.490805165138484</li><li>-0.746561969086113</li></ol>\n",
              "</li>\n",
              "\t<li><style>\n",
              ".list-inline {list-style: none; margin:0; padding: 0}\n",
              ".list-inline>li {display: inline-block}\n",
              ".list-inline>li:not(:last-child)::after {content: \"\\00b7\"; padding: 0 .5ex}\n",
              "</style>\n",
              "<ol class=list-inline><li>-0.161663542999406</li><li>-2.49973819918259</li><li>0.366655186003562</li><li>0.42304548694644</li><li>-1.34172059165206</li><li>0.582693746248869</li><li>-0.732509562041927</li><li>0.140281343367134</li><li>0.947144980447848</li><li>1.79937545473013</li></ol>\n",
              "</li>\n",
              "\t<li><style>\n",
              ".list-inline {list-style: none; margin:0; padding: 0}\n",
              ".list-inline>li {display: inline-block}\n",
              ".list-inline>li:not(:last-child)::after {content: \"\\00b7\"; padding: 0 .5ex}\n",
              "</style>\n",
              "<ol class=list-inline><li>-1.98782035890683</li><li>-0.724111530567621</li><li>0.632277004911262</li><li>-0.979827434076566</li><li>0.622338042299603</li><li>1.0177212746004</li><li>0.917121134816954</li><li>-0.246141416968211</li><li>-0.464427932250714</li><li>-1.54428606614635</li></ol>\n",
              "</li>\n",
              "\t<li><style>\n",
              ".list-inline {list-style: none; margin:0; padding: 0}\n",
              ".list-inline>li {display: inline-block}\n",
              ".list-inline>li:not(:last-child)::after {content: \"\\00b7\"; padding: 0 .5ex}\n",
              "</style>\n",
              "<ol class=list-inline><li>-1.13328052216964</li><li>0.809163001868567</li><li>0.0806737486221403</li><li>-0.440515051080064</li><li>-0.261009160597779</li><li>1.47442899757792</li><li>0.259909467318781</li><li>1.93695591873342</li><li>0.926689862390741</li><li>0.300455355716952</li></ol>\n",
              "</li>\n",
              "\t<li><style>\n",
              ".list-inline {list-style: none; margin:0; padding: 0}\n",
              ".list-inline>li {display: inline-block}\n",
              ".list-inline>li:not(:last-child)::after {content: \"\\00b7\"; padding: 0 .5ex}\n",
              "</style>\n",
              "<ol class=list-inline><li>1.36599027529317</li><li>-0.920529975579731</li><li>2.1953021630527</li><li>-0.193289356968698</li><li>-0.422450070449833</li><li>0.0618966705954335</li><li>0.939715662837317</li><li>0.727804785824179</li><li>-0.106210980656128</li><li>0.594737344808743</li></ol>\n",
              "</li>\n",
              "\t<li><style>\n",
              ".list-inline {list-style: none; margin:0; padding: 0}\n",
              ".list-inline>li {display: inline-block}\n",
              ".list-inline>li:not(:last-child)::after {content: \"\\00b7\"; padding: 0 .5ex}\n",
              "</style>\n",
              "<ol class=list-inline><li>0.816416108169813</li><li>-1.55197452005983</li><li>2.43270337857777</li><li>2.68304546644446</li><li>-0.688166511747103</li><li>-0.886952627480784</li><li>0.487619643911859</li><li>-0.793733143854815</li><li>1.31565830344591</li><li>-0.841320118257733</li></ol>\n",
              "</li>\n",
              "</ol>\n"
            ]
          },
          "metadata": {
            "tags": []
          }
        }
      ]
    },
    {
      "cell_type": "code",
      "metadata": {
        "id": "8H5qZnfBBhpN"
      },
      "source": [
        "gen1 <- function(len1){\n",
        "  rep(10, len1) %>% map(~rnorm(.))\n",
        "}"
      ],
      "execution_count": null,
      "outputs": []
    },
    {
      "cell_type": "code",
      "metadata": {
        "id": "ghBsZwENBhjX"
      },
      "source": [
        "gen2 <- function(len1){\n",
        "  res2 <- vector(mode=\"list\", length=len1)\n",
        "  for(i in 1:len1)\n",
        "    res2[[i]] <- rnorm(10)\n",
        "  res2\n",
        "}"
      ],
      "execution_count": null,
      "outputs": []
    },
    {
      "cell_type": "code",
      "metadata": {
        "colab": {
          "base_uri": "https://localhost:8080/",
          "height": 297
        },
        "id": "yTpTaMUkBhWg",
        "outputId": "c3095121-02cc-4050-e779-46f816ebb895"
      },
      "source": [
        "gen1(5)"
      ],
      "execution_count": null,
      "outputs": [
        {
          "output_type": "display_data",
          "data": {
            "text/plain": [
              "[[1]]\n",
              " [1] -1.6898108 -0.6384007 -0.8472997 -1.5771375  0.1058358 -0.6198423\n",
              " [7] -0.7274692 -1.1641523  0.5408976 -1.4169862\n",
              "\n",
              "[[2]]\n",
              " [1]  0.4566425 -1.1303778 -0.8593314 -0.1551022 -0.1349024 -0.3466825\n",
              " [7]  0.6719190 -1.0560371 -0.5149488 -2.1524948\n",
              "\n",
              "[[3]]\n",
              " [1]  0.45817656 -0.32916343  1.04464000 -0.75830950 -0.56329881 -0.81934120\n",
              " [7] -0.48151172 -0.57908861 -0.06119474 -1.62624838\n",
              "\n",
              "[[4]]\n",
              " [1] -0.92155605 -1.60060639 -0.06595134 -0.86375326  1.10103802 -1.91385396\n",
              " [7]  1.47066675  1.06623398  0.29963014 -0.11123698\n",
              "\n",
              "[[5]]\n",
              " [1] -0.4961586 -0.8836236  1.4227898 -0.9611508 -1.1281954  0.6960125\n",
              " [7] -0.2459185  0.1459337  0.2561775  0.9279143\n"
            ],
            "text/latex": "\\begin{enumerate}\n\\item \\begin{enumerate*}\n\\item -1.6898108369085\n\\item -0.638400698583079\n\\item -0.847299654267876\n\\item -1.57713750269435\n\\item 0.105835804097962\n\\item -0.61984231141664\n\\item -0.727469228820199\n\\item -1.16415229033372\n\\item 0.54089759033054\n\\item -1.41698623741503\n\\end{enumerate*}\n\n\\item \\begin{enumerate*}\n\\item 0.456642527620089\n\\item -1.13037782989716\n\\item -0.859331438053718\n\\item -0.155102222047112\n\\item -0.134902443254832\n\\item -0.346682498853549\n\\item 0.671919016538202\n\\item -1.05603708745613\n\\item -0.514948801151327\n\\item -2.15249479477843\n\\end{enumerate*}\n\n\\item \\begin{enumerate*}\n\\item 0.458176563593186\n\\item -0.32916343475332\n\\item 1.04464000395637\n\\item -0.758309497163933\n\\item -0.563298806409975\n\\item -0.819341202267628\n\\item -0.48151171875258\n\\item -0.579088611748743\n\\item -0.0611947389247803\n\\item -1.626248375504\n\\end{enumerate*}\n\n\\item \\begin{enumerate*}\n\\item -0.921556047227593\n\\item -1.60060639233845\n\\item -0.0659513397128486\n\\item -0.863753257312926\n\\item 1.10103801644041\n\\item -1.91385396244465\n\\item 1.47066674590786\n\\item 1.06623397550347\n\\item 0.299630142397772\n\\item -0.111236981769448\n\\end{enumerate*}\n\n\\item \\begin{enumerate*}\n\\item -0.496158615128154\n\\item -0.883623573076576\n\\item 1.42278975392201\n\\item -0.96115078391367\n\\item -1.12819543989243\n\\item 0.696012535523257\n\\item -0.245918532827865\n\\item 0.145933695967296\n\\item 0.256177530763671\n\\item 0.927914348639263\n\\end{enumerate*}\n\n\\end{enumerate}\n",
            "text/markdown": "1. 1. -1.6898108369085\n2. -0.638400698583079\n3. -0.847299654267876\n4. -1.57713750269435\n5. 0.105835804097962\n6. -0.61984231141664\n7. -0.727469228820199\n8. -1.16415229033372\n9. 0.54089759033054\n10. -1.41698623741503\n\n\n\n2. 1. 0.456642527620089\n2. -1.13037782989716\n3. -0.859331438053718\n4. -0.155102222047112\n5. -0.134902443254832\n6. -0.346682498853549\n7. 0.671919016538202\n8. -1.05603708745613\n9. -0.514948801151327\n10. -2.15249479477843\n\n\n\n3. 1. 0.458176563593186\n2. -0.32916343475332\n3. 1.04464000395637\n4. -0.758309497163933\n5. -0.563298806409975\n6. -0.819341202267628\n7. -0.48151171875258\n8. -0.579088611748743\n9. -0.0611947389247803\n10. -1.626248375504\n\n\n\n4. 1. -0.921556047227593\n2. -1.60060639233845\n3. -0.0659513397128486\n4. -0.863753257312926\n5. 1.10103801644041\n6. -1.91385396244465\n7. 1.47066674590786\n8. 1.06623397550347\n9. 0.299630142397772\n10. -0.111236981769448\n\n\n\n5. 1. -0.496158615128154\n2. -0.883623573076576\n3. 1.42278975392201\n4. -0.96115078391367\n5. -1.12819543989243\n6. 0.696012535523257\n7. -0.245918532827865\n8. 0.145933695967296\n9. 0.256177530763671\n10. 0.927914348639263\n\n\n\n\n\n",
            "text/html": [
              "<ol>\n",
              "\t<li><style>\n",
              ".list-inline {list-style: none; margin:0; padding: 0}\n",
              ".list-inline>li {display: inline-block}\n",
              ".list-inline>li:not(:last-child)::after {content: \"\\00b7\"; padding: 0 .5ex}\n",
              "</style>\n",
              "<ol class=list-inline><li>-1.6898108369085</li><li>-0.638400698583079</li><li>-0.847299654267876</li><li>-1.57713750269435</li><li>0.105835804097962</li><li>-0.61984231141664</li><li>-0.727469228820199</li><li>-1.16415229033372</li><li>0.54089759033054</li><li>-1.41698623741503</li></ol>\n",
              "</li>\n",
              "\t<li><style>\n",
              ".list-inline {list-style: none; margin:0; padding: 0}\n",
              ".list-inline>li {display: inline-block}\n",
              ".list-inline>li:not(:last-child)::after {content: \"\\00b7\"; padding: 0 .5ex}\n",
              "</style>\n",
              "<ol class=list-inline><li>0.456642527620089</li><li>-1.13037782989716</li><li>-0.859331438053718</li><li>-0.155102222047112</li><li>-0.134902443254832</li><li>-0.346682498853549</li><li>0.671919016538202</li><li>-1.05603708745613</li><li>-0.514948801151327</li><li>-2.15249479477843</li></ol>\n",
              "</li>\n",
              "\t<li><style>\n",
              ".list-inline {list-style: none; margin:0; padding: 0}\n",
              ".list-inline>li {display: inline-block}\n",
              ".list-inline>li:not(:last-child)::after {content: \"\\00b7\"; padding: 0 .5ex}\n",
              "</style>\n",
              "<ol class=list-inline><li>0.458176563593186</li><li>-0.32916343475332</li><li>1.04464000395637</li><li>-0.758309497163933</li><li>-0.563298806409975</li><li>-0.819341202267628</li><li>-0.48151171875258</li><li>-0.579088611748743</li><li>-0.0611947389247803</li><li>-1.626248375504</li></ol>\n",
              "</li>\n",
              "\t<li><style>\n",
              ".list-inline {list-style: none; margin:0; padding: 0}\n",
              ".list-inline>li {display: inline-block}\n",
              ".list-inline>li:not(:last-child)::after {content: \"\\00b7\"; padding: 0 .5ex}\n",
              "</style>\n",
              "<ol class=list-inline><li>-0.921556047227593</li><li>-1.60060639233845</li><li>-0.0659513397128486</li><li>-0.863753257312926</li><li>1.10103801644041</li><li>-1.91385396244465</li><li>1.47066674590786</li><li>1.06623397550347</li><li>0.299630142397772</li><li>-0.111236981769448</li></ol>\n",
              "</li>\n",
              "\t<li><style>\n",
              ".list-inline {list-style: none; margin:0; padding: 0}\n",
              ".list-inline>li {display: inline-block}\n",
              ".list-inline>li:not(:last-child)::after {content: \"\\00b7\"; padding: 0 .5ex}\n",
              "</style>\n",
              "<ol class=list-inline><li>-0.496158615128154</li><li>-0.883623573076576</li><li>1.42278975392201</li><li>-0.96115078391367</li><li>-1.12819543989243</li><li>0.696012535523257</li><li>-0.245918532827865</li><li>0.145933695967296</li><li>0.256177530763671</li><li>0.927914348639263</li></ol>\n",
              "</li>\n",
              "</ol>\n"
            ]
          },
          "metadata": {
            "tags": []
          }
        }
      ]
    },
    {
      "cell_type": "code",
      "metadata": {
        "colab": {
          "base_uri": "https://localhost:8080/",
          "height": 297
        },
        "id": "8yxpbmi1G0av",
        "outputId": "38a120d6-9b9b-46cb-d783-dc9aa40890da"
      },
      "source": [
        "gen2(5)"
      ],
      "execution_count": null,
      "outputs": [
        {
          "output_type": "display_data",
          "data": {
            "text/plain": [
              "[[1]]\n",
              " [1]  0.6020061  0.5794032 -0.3191634  1.8953478  1.5306089 -1.5939136\n",
              " [7]  0.8549578 -1.6076849  0.3916399  0.5229298\n",
              "\n",
              "[[2]]\n",
              " [1] -1.0730762 -0.4818784 -2.2109419 -1.1720415 -1.0677651  0.9445273\n",
              " [7] -0.2058040 -0.2726446  0.0896851 -0.7823221\n",
              "\n",
              "[[3]]\n",
              " [1]  2.00791286  0.98393251 -2.23045914 -1.26047000 -2.52742618 -0.33722244\n",
              " [7] -0.09000589  0.56459846 -0.05647432  0.70948983\n",
              "\n",
              "[[4]]\n",
              " [1] -1.14414709  2.84156798 -1.12134009 -0.24532454 -0.03503418 -0.26256096\n",
              " [7] -0.80758555  0.28550081  0.42771607 -1.44114415\n",
              "\n",
              "[[5]]\n",
              " [1]  0.7372857  0.5743523  0.5923338 -0.7712799 -0.6841694  0.9196344\n",
              " [7]  1.2655841  0.8635432  1.1271592  0.4900882\n"
            ],
            "text/latex": "\\begin{enumerate}\n\\item \\begin{enumerate*}\n\\item 0.602006107689367\n\\item 0.579403170383973\n\\item -0.319163382238193\n\\item 1.89534784789821\n\\item 1.53060889253749\n\\item -1.59391355862379\n\\item 0.85495782743431\n\\item -1.60768486530123\n\\item 0.391639947409546\n\\item 0.522929825974093\n\\end{enumerate*}\n\n\\item \\begin{enumerate*}\n\\item -1.07307618617078\n\\item -0.48187838494932\n\\item -2.21094191970103\n\\item -1.17204147398389\n\\item -1.06776513035711\n\\item 0.944527348720217\n\\item -0.205804004175636\n\\item -0.272644625595425\n\\item 0.0896851046417634\n\\item -0.782322089175905\n\\end{enumerate*}\n\n\\item \\begin{enumerate*}\n\\item 2.00791285998113\n\\item 0.983932507304352\n\\item -2.23045913571989\n\\item -1.26046999800449\n\\item -2.52742618100157\n\\item -0.337222444027752\n\\item -0.090005888026246\n\\item 0.564598455128809\n\\item -0.0564743180963223\n\\item 0.709489827658379\n\\end{enumerate*}\n\n\\item \\begin{enumerate*}\n\\item -1.1441470902695\n\\item 2.84156798274317\n\\item -1.12134008675769\n\\item -0.245324541853049\n\\item -0.0350341840069987\n\\item -0.262560959534787\n\\item -0.807585548990879\n\\item 0.285500805296912\n\\item 0.427716071442106\n\\item -1.44114415319719\n\\end{enumerate*}\n\n\\item \\begin{enumerate*}\n\\item 0.737285677099675\n\\item 0.574352348891766\n\\item 0.592333758406354\n\\item -0.771279884692955\n\\item -0.684169359956362\n\\item 0.919634419957294\n\\item 1.26558411682554\n\\item 0.863543248236039\n\\item 1.12715923315549\n\\item 0.490088194009895\n\\end{enumerate*}\n\n\\end{enumerate}\n",
            "text/markdown": "1. 1. 0.602006107689367\n2. 0.579403170383973\n3. -0.319163382238193\n4. 1.89534784789821\n5. 1.53060889253749\n6. -1.59391355862379\n7. 0.85495782743431\n8. -1.60768486530123\n9. 0.391639947409546\n10. 0.522929825974093\n\n\n\n2. 1. -1.07307618617078\n2. -0.48187838494932\n3. -2.21094191970103\n4. -1.17204147398389\n5. -1.06776513035711\n6. 0.944527348720217\n7. -0.205804004175636\n8. -0.272644625595425\n9. 0.0896851046417634\n10. -0.782322089175905\n\n\n\n3. 1. 2.00791285998113\n2. 0.983932507304352\n3. -2.23045913571989\n4. -1.26046999800449\n5. -2.52742618100157\n6. -0.337222444027752\n7. -0.090005888026246\n8. 0.564598455128809\n9. -0.0564743180963223\n10. 0.709489827658379\n\n\n\n4. 1. -1.1441470902695\n2. 2.84156798274317\n3. -1.12134008675769\n4. -0.245324541853049\n5. -0.0350341840069987\n6. -0.262560959534787\n7. -0.807585548990879\n8. 0.285500805296912\n9. 0.427716071442106\n10. -1.44114415319719\n\n\n\n5. 1. 0.737285677099675\n2. 0.574352348891766\n3. 0.592333758406354\n4. -0.771279884692955\n5. -0.684169359956362\n6. 0.919634419957294\n7. 1.26558411682554\n8. 0.863543248236039\n9. 1.12715923315549\n10. 0.490088194009895\n\n\n\n\n\n",
            "text/html": [
              "<ol>\n",
              "\t<li><style>\n",
              ".list-inline {list-style: none; margin:0; padding: 0}\n",
              ".list-inline>li {display: inline-block}\n",
              ".list-inline>li:not(:last-child)::after {content: \"\\00b7\"; padding: 0 .5ex}\n",
              "</style>\n",
              "<ol class=list-inline><li>0.602006107689367</li><li>0.579403170383973</li><li>-0.319163382238193</li><li>1.89534784789821</li><li>1.53060889253749</li><li>-1.59391355862379</li><li>0.85495782743431</li><li>-1.60768486530123</li><li>0.391639947409546</li><li>0.522929825974093</li></ol>\n",
              "</li>\n",
              "\t<li><style>\n",
              ".list-inline {list-style: none; margin:0; padding: 0}\n",
              ".list-inline>li {display: inline-block}\n",
              ".list-inline>li:not(:last-child)::after {content: \"\\00b7\"; padding: 0 .5ex}\n",
              "</style>\n",
              "<ol class=list-inline><li>-1.07307618617078</li><li>-0.48187838494932</li><li>-2.21094191970103</li><li>-1.17204147398389</li><li>-1.06776513035711</li><li>0.944527348720217</li><li>-0.205804004175636</li><li>-0.272644625595425</li><li>0.0896851046417634</li><li>-0.782322089175905</li></ol>\n",
              "</li>\n",
              "\t<li><style>\n",
              ".list-inline {list-style: none; margin:0; padding: 0}\n",
              ".list-inline>li {display: inline-block}\n",
              ".list-inline>li:not(:last-child)::after {content: \"\\00b7\"; padding: 0 .5ex}\n",
              "</style>\n",
              "<ol class=list-inline><li>2.00791285998113</li><li>0.983932507304352</li><li>-2.23045913571989</li><li>-1.26046999800449</li><li>-2.52742618100157</li><li>-0.337222444027752</li><li>-0.090005888026246</li><li>0.564598455128809</li><li>-0.0564743180963223</li><li>0.709489827658379</li></ol>\n",
              "</li>\n",
              "\t<li><style>\n",
              ".list-inline {list-style: none; margin:0; padding: 0}\n",
              ".list-inline>li {display: inline-block}\n",
              ".list-inline>li:not(:last-child)::after {content: \"\\00b7\"; padding: 0 .5ex}\n",
              "</style>\n",
              "<ol class=list-inline><li>-1.1441470902695</li><li>2.84156798274317</li><li>-1.12134008675769</li><li>-0.245324541853049</li><li>-0.0350341840069987</li><li>-0.262560959534787</li><li>-0.807585548990879</li><li>0.285500805296912</li><li>0.427716071442106</li><li>-1.44114415319719</li></ol>\n",
              "</li>\n",
              "\t<li><style>\n",
              ".list-inline {list-style: none; margin:0; padding: 0}\n",
              ".list-inline>li {display: inline-block}\n",
              ".list-inline>li:not(:last-child)::after {content: \"\\00b7\"; padding: 0 .5ex}\n",
              "</style>\n",
              "<ol class=list-inline><li>0.737285677099675</li><li>0.574352348891766</li><li>0.592333758406354</li><li>-0.771279884692955</li><li>-0.684169359956362</li><li>0.919634419957294</li><li>1.26558411682554</li><li>0.863543248236039</li><li>1.12715923315549</li><li>0.490088194009895</li></ol>\n",
              "</li>\n",
              "</ol>\n"
            ]
          },
          "metadata": {
            "tags": []
          }
        }
      ]
    },
    {
      "cell_type": "code",
      "metadata": {
        "id": "Pv1T9ow_G8SJ"
      },
      "source": [
        "gen3 <- function(len1){\n",
        "  lapply(rep(10, len1), rnorm)\n",
        "}"
      ],
      "execution_count": null,
      "outputs": []
    },
    {
      "cell_type": "code",
      "metadata": {
        "colab": {
          "base_uri": "https://localhost:8080/",
          "height": 182
        },
        "id": "L2H9qY5NG0WW",
        "outputId": "0db80988-3cf0-4999-ca47-d45c3f690ba3"
      },
      "source": [
        "benchmark(\"func1\" = gen1(1000),\n",
        "          \"func2\" = gen2(1000),\n",
        "          \"func3\" = gen3(1000),\n",
        "          replications=100,\n",
        "          columns= c(\"test\", \"elapsed\", \"replications\"))"
      ],
      "execution_count": null,
      "outputs": [
        {
          "output_type": "display_data",
          "data": {
            "text/plain": [
              "  test  elapsed replications\n",
              "1 func1 0.581   100         \n",
              "2 func2 0.401   100         \n",
              "3 func3 0.546   100         "
            ],
            "text/latex": "A data.frame: 3 × 3\n\\begin{tabular}{r|lll}\n  & test & elapsed & replications\\\\\n  & <chr> & <dbl> & <int>\\\\\n\\hline\n\t1 & func1 & 0.581 & 100\\\\\n\t2 & func2 & 0.401 & 100\\\\\n\t3 & func3 & 0.546 & 100\\\\\n\\end{tabular}\n",
            "text/markdown": "\nA data.frame: 3 × 3\n\n| <!--/--> | test &lt;chr&gt; | elapsed &lt;dbl&gt; | replications &lt;int&gt; |\n|---|---|---|---|\n| 1 | func1 | 0.581 | 100 |\n| 2 | func2 | 0.401 | 100 |\n| 3 | func3 | 0.546 | 100 |\n\n",
            "text/html": [
              "<table class=\"dataframe\">\n",
              "<caption>A data.frame: 3 × 3</caption>\n",
              "<thead>\n",
              "\t<tr><th></th><th scope=col>test</th><th scope=col>elapsed</th><th scope=col>replications</th></tr>\n",
              "\t<tr><th></th><th scope=col>&lt;chr&gt;</th><th scope=col>&lt;dbl&gt;</th><th scope=col>&lt;int&gt;</th></tr>\n",
              "</thead>\n",
              "<tbody>\n",
              "\t<tr><th scope=row>1</th><td>func1</td><td>0.581</td><td>100</td></tr>\n",
              "\t<tr><th scope=row>2</th><td>func2</td><td>0.401</td><td>100</td></tr>\n",
              "\t<tr><th scope=row>3</th><td>func3</td><td>0.546</td><td>100</td></tr>\n",
              "</tbody>\n",
              "</table>\n"
            ]
          },
          "metadata": {
            "tags": []
          }
        }
      ]
    },
    {
      "cell_type": "code",
      "metadata": {
        "colab": {
          "base_uri": "https://localhost:8080/",
          "height": 1000
        },
        "id": "8pPxeo0NG0Q8",
        "outputId": "fa2427e0-55d2-4664-cb10-6d4841cd6afb"
      },
      "source": [
        "diamonds"
      ],
      "execution_count": null,
      "outputs": [
        {
          "output_type": "display_data",
          "data": {
            "text/plain": [
              "      carat cut       color clarity depth table price x    y    z   \n",
              "1     0.23  Ideal     E     SI2     61.5  55    326   3.95 3.98 2.43\n",
              "2     0.21  Premium   E     SI1     59.8  61    326   3.89 3.84 2.31\n",
              "3     0.23  Good      E     VS1     56.9  65    327   4.05 4.07 2.31\n",
              "4     0.29  Premium   I     VS2     62.4  58    334   4.20 4.23 2.63\n",
              "5     0.31  Good      J     SI2     63.3  58    335   4.34 4.35 2.75\n",
              "6     0.24  Very Good J     VVS2    62.8  57    336   3.94 3.96 2.48\n",
              "7     0.24  Very Good I     VVS1    62.3  57    336   3.95 3.98 2.47\n",
              "8     0.26  Very Good H     SI1     61.9  55    337   4.07 4.11 2.53\n",
              "9     0.22  Fair      E     VS2     65.1  61    337   3.87 3.78 2.49\n",
              "10    0.23  Very Good H     VS1     59.4  61    338   4.00 4.05 2.39\n",
              "11    0.30  Good      J     SI1     64.0  55    339   4.25 4.28 2.73\n",
              "12    0.23  Ideal     J     VS1     62.8  56    340   3.93 3.90 2.46\n",
              "13    0.22  Premium   F     SI1     60.4  61    342   3.88 3.84 2.33\n",
              "14    0.31  Ideal     J     SI2     62.2  54    344   4.35 4.37 2.71\n",
              "15    0.20  Premium   E     SI2     60.2  62    345   3.79 3.75 2.27\n",
              "16    0.32  Premium   E     I1      60.9  58    345   4.38 4.42 2.68\n",
              "17    0.30  Ideal     I     SI2     62.0  54    348   4.31 4.34 2.68\n",
              "18    0.30  Good      J     SI1     63.4  54    351   4.23 4.29 2.70\n",
              "19    0.30  Good      J     SI1     63.8  56    351   4.23 4.26 2.71\n",
              "20    0.30  Very Good J     SI1     62.7  59    351   4.21 4.27 2.66\n",
              "21    0.30  Good      I     SI2     63.3  56    351   4.26 4.30 2.71\n",
              "22    0.23  Very Good E     VS2     63.8  55    352   3.85 3.92 2.48\n",
              "23    0.23  Very Good H     VS1     61.0  57    353   3.94 3.96 2.41\n",
              "24    0.31  Very Good J     SI1     59.4  62    353   4.39 4.43 2.62\n",
              "25    0.31  Very Good J     SI1     58.1  62    353   4.44 4.47 2.59\n",
              "26    0.23  Very Good G     VVS2    60.4  58    354   3.97 4.01 2.41\n",
              "27    0.24  Premium   I     VS1     62.5  57    355   3.97 3.94 2.47\n",
              "28    0.30  Very Good J     VS2     62.2  57    357   4.28 4.30 2.67\n",
              "29    0.23  Very Good D     VS2     60.5  61    357   3.96 3.97 2.40\n",
              "30    0.23  Very Good F     VS1     60.9  57    357   3.96 3.99 2.42\n",
              "⋮     ⋮     ⋮         ⋮     ⋮       ⋮     ⋮     ⋮     ⋮    ⋮    ⋮   \n",
              "53911 0.70  Premium   E     SI1     60.5  58    2753  5.74 5.77 3.48\n",
              "53912 0.57  Premium   E     IF      59.8  60    2753  5.43 5.38 3.23\n",
              "53913 0.61  Premium   F     VVS1    61.8  59    2753  5.48 5.40 3.36\n",
              "53914 0.80  Good      G     VS2     64.2  58    2753  5.84 5.81 3.74\n",
              "53915 0.84  Good      I     VS1     63.7  59    2753  5.94 5.90 3.77\n",
              "53916 0.77  Ideal     E     SI2     62.1  56    2753  5.84 5.86 3.63\n",
              "53917 0.74  Good      D     SI1     63.1  59    2753  5.71 5.74 3.61\n",
              "53918 0.90  Very Good J     SI1     63.2  60    2753  6.12 6.09 3.86\n",
              "53919 0.76  Premium   I     VS1     59.3  62    2753  5.93 5.85 3.49\n",
              "53920 0.76  Ideal     I     VVS1    62.2  55    2753  5.89 5.87 3.66\n",
              "53921 0.70  Very Good E     VS2     62.4  60    2755  5.57 5.61 3.49\n",
              "53922 0.70  Very Good E     VS2     62.8  60    2755  5.59 5.65 3.53\n",
              "53923 0.70  Very Good D     VS1     63.1  59    2755  5.67 5.58 3.55\n",
              "53924 0.73  Ideal     I     VS2     61.3  56    2756  5.80 5.84 3.57\n",
              "53925 0.73  Ideal     I     VS2     61.6  55    2756  5.82 5.84 3.59\n",
              "53926 0.79  Ideal     I     SI1     61.6  56    2756  5.95 5.97 3.67\n",
              "53927 0.71  Ideal     E     SI1     61.9  56    2756  5.71 5.73 3.54\n",
              "53928 0.79  Good      F     SI1     58.1  59    2756  6.06 6.13 3.54\n",
              "53929 0.79  Premium   E     SI2     61.4  58    2756  6.03 5.96 3.68\n",
              "53930 0.71  Ideal     G     VS1     61.4  56    2756  5.76 5.73 3.53\n",
              "53931 0.71  Premium   E     SI1     60.5  55    2756  5.79 5.74 3.49\n",
              "53932 0.71  Premium   F     SI1     59.8  62    2756  5.74 5.73 3.43\n",
              "53933 0.70  Very Good E     VS2     60.5  59    2757  5.71 5.76 3.47\n",
              "53934 0.70  Very Good E     VS2     61.2  59    2757  5.69 5.72 3.49\n",
              "53935 0.72  Premium   D     SI1     62.7  59    2757  5.69 5.73 3.58\n",
              "53936 0.72  Ideal     D     SI1     60.8  57    2757  5.75 5.76 3.50\n",
              "53937 0.72  Good      D     SI1     63.1  55    2757  5.69 5.75 3.61\n",
              "53938 0.70  Very Good D     SI1     62.8  60    2757  5.66 5.68 3.56\n",
              "53939 0.86  Premium   H     SI2     61.0  58    2757  6.15 6.12 3.74\n",
              "53940 0.75  Ideal     D     SI2     62.2  55    2757  5.83 5.87 3.64"
            ],
            "text/latex": "A tibble: 53940 × 10\n\\begin{tabular}{llllllllll}\n carat & cut & color & clarity & depth & table & price & x & y & z\\\\\n <dbl> & <ord> & <ord> & <ord> & <dbl> & <dbl> & <int> & <dbl> & <dbl> & <dbl>\\\\\n\\hline\n\t 0.23 & Ideal     & E & SI2  & 61.5 & 55 & 326 & 3.95 & 3.98 & 2.43\\\\\n\t 0.21 & Premium   & E & SI1  & 59.8 & 61 & 326 & 3.89 & 3.84 & 2.31\\\\\n\t 0.23 & Good      & E & VS1  & 56.9 & 65 & 327 & 4.05 & 4.07 & 2.31\\\\\n\t 0.29 & Premium   & I & VS2  & 62.4 & 58 & 334 & 4.20 & 4.23 & 2.63\\\\\n\t 0.31 & Good      & J & SI2  & 63.3 & 58 & 335 & 4.34 & 4.35 & 2.75\\\\\n\t 0.24 & Very Good & J & VVS2 & 62.8 & 57 & 336 & 3.94 & 3.96 & 2.48\\\\\n\t 0.24 & Very Good & I & VVS1 & 62.3 & 57 & 336 & 3.95 & 3.98 & 2.47\\\\\n\t 0.26 & Very Good & H & SI1  & 61.9 & 55 & 337 & 4.07 & 4.11 & 2.53\\\\\n\t 0.22 & Fair      & E & VS2  & 65.1 & 61 & 337 & 3.87 & 3.78 & 2.49\\\\\n\t 0.23 & Very Good & H & VS1  & 59.4 & 61 & 338 & 4.00 & 4.05 & 2.39\\\\\n\t 0.30 & Good      & J & SI1  & 64.0 & 55 & 339 & 4.25 & 4.28 & 2.73\\\\\n\t 0.23 & Ideal     & J & VS1  & 62.8 & 56 & 340 & 3.93 & 3.90 & 2.46\\\\\n\t 0.22 & Premium   & F & SI1  & 60.4 & 61 & 342 & 3.88 & 3.84 & 2.33\\\\\n\t 0.31 & Ideal     & J & SI2  & 62.2 & 54 & 344 & 4.35 & 4.37 & 2.71\\\\\n\t 0.20 & Premium   & E & SI2  & 60.2 & 62 & 345 & 3.79 & 3.75 & 2.27\\\\\n\t 0.32 & Premium   & E & I1   & 60.9 & 58 & 345 & 4.38 & 4.42 & 2.68\\\\\n\t 0.30 & Ideal     & I & SI2  & 62.0 & 54 & 348 & 4.31 & 4.34 & 2.68\\\\\n\t 0.30 & Good      & J & SI1  & 63.4 & 54 & 351 & 4.23 & 4.29 & 2.70\\\\\n\t 0.30 & Good      & J & SI1  & 63.8 & 56 & 351 & 4.23 & 4.26 & 2.71\\\\\n\t 0.30 & Very Good & J & SI1  & 62.7 & 59 & 351 & 4.21 & 4.27 & 2.66\\\\\n\t 0.30 & Good      & I & SI2  & 63.3 & 56 & 351 & 4.26 & 4.30 & 2.71\\\\\n\t 0.23 & Very Good & E & VS2  & 63.8 & 55 & 352 & 3.85 & 3.92 & 2.48\\\\\n\t 0.23 & Very Good & H & VS1  & 61.0 & 57 & 353 & 3.94 & 3.96 & 2.41\\\\\n\t 0.31 & Very Good & J & SI1  & 59.4 & 62 & 353 & 4.39 & 4.43 & 2.62\\\\\n\t 0.31 & Very Good & J & SI1  & 58.1 & 62 & 353 & 4.44 & 4.47 & 2.59\\\\\n\t 0.23 & Very Good & G & VVS2 & 60.4 & 58 & 354 & 3.97 & 4.01 & 2.41\\\\\n\t 0.24 & Premium   & I & VS1  & 62.5 & 57 & 355 & 3.97 & 3.94 & 2.47\\\\\n\t 0.30 & Very Good & J & VS2  & 62.2 & 57 & 357 & 4.28 & 4.30 & 2.67\\\\\n\t 0.23 & Very Good & D & VS2  & 60.5 & 61 & 357 & 3.96 & 3.97 & 2.40\\\\\n\t 0.23 & Very Good & F & VS1  & 60.9 & 57 & 357 & 3.96 & 3.99 & 2.42\\\\\n\t ⋮ & ⋮ & ⋮ & ⋮ & ⋮ & ⋮ & ⋮ & ⋮ & ⋮ & ⋮\\\\\n\t 0.70 & Premium   & E & SI1  & 60.5 & 58 & 2753 & 5.74 & 5.77 & 3.48\\\\\n\t 0.57 & Premium   & E & IF   & 59.8 & 60 & 2753 & 5.43 & 5.38 & 3.23\\\\\n\t 0.61 & Premium   & F & VVS1 & 61.8 & 59 & 2753 & 5.48 & 5.40 & 3.36\\\\\n\t 0.80 & Good      & G & VS2  & 64.2 & 58 & 2753 & 5.84 & 5.81 & 3.74\\\\\n\t 0.84 & Good      & I & VS1  & 63.7 & 59 & 2753 & 5.94 & 5.90 & 3.77\\\\\n\t 0.77 & Ideal     & E & SI2  & 62.1 & 56 & 2753 & 5.84 & 5.86 & 3.63\\\\\n\t 0.74 & Good      & D & SI1  & 63.1 & 59 & 2753 & 5.71 & 5.74 & 3.61\\\\\n\t 0.90 & Very Good & J & SI1  & 63.2 & 60 & 2753 & 6.12 & 6.09 & 3.86\\\\\n\t 0.76 & Premium   & I & VS1  & 59.3 & 62 & 2753 & 5.93 & 5.85 & 3.49\\\\\n\t 0.76 & Ideal     & I & VVS1 & 62.2 & 55 & 2753 & 5.89 & 5.87 & 3.66\\\\\n\t 0.70 & Very Good & E & VS2  & 62.4 & 60 & 2755 & 5.57 & 5.61 & 3.49\\\\\n\t 0.70 & Very Good & E & VS2  & 62.8 & 60 & 2755 & 5.59 & 5.65 & 3.53\\\\\n\t 0.70 & Very Good & D & VS1  & 63.1 & 59 & 2755 & 5.67 & 5.58 & 3.55\\\\\n\t 0.73 & Ideal     & I & VS2  & 61.3 & 56 & 2756 & 5.80 & 5.84 & 3.57\\\\\n\t 0.73 & Ideal     & I & VS2  & 61.6 & 55 & 2756 & 5.82 & 5.84 & 3.59\\\\\n\t 0.79 & Ideal     & I & SI1  & 61.6 & 56 & 2756 & 5.95 & 5.97 & 3.67\\\\\n\t 0.71 & Ideal     & E & SI1  & 61.9 & 56 & 2756 & 5.71 & 5.73 & 3.54\\\\\n\t 0.79 & Good      & F & SI1  & 58.1 & 59 & 2756 & 6.06 & 6.13 & 3.54\\\\\n\t 0.79 & Premium   & E & SI2  & 61.4 & 58 & 2756 & 6.03 & 5.96 & 3.68\\\\\n\t 0.71 & Ideal     & G & VS1  & 61.4 & 56 & 2756 & 5.76 & 5.73 & 3.53\\\\\n\t 0.71 & Premium   & E & SI1  & 60.5 & 55 & 2756 & 5.79 & 5.74 & 3.49\\\\\n\t 0.71 & Premium   & F & SI1  & 59.8 & 62 & 2756 & 5.74 & 5.73 & 3.43\\\\\n\t 0.70 & Very Good & E & VS2  & 60.5 & 59 & 2757 & 5.71 & 5.76 & 3.47\\\\\n\t 0.70 & Very Good & E & VS2  & 61.2 & 59 & 2757 & 5.69 & 5.72 & 3.49\\\\\n\t 0.72 & Premium   & D & SI1  & 62.7 & 59 & 2757 & 5.69 & 5.73 & 3.58\\\\\n\t 0.72 & Ideal     & D & SI1  & 60.8 & 57 & 2757 & 5.75 & 5.76 & 3.50\\\\\n\t 0.72 & Good      & D & SI1  & 63.1 & 55 & 2757 & 5.69 & 5.75 & 3.61\\\\\n\t 0.70 & Very Good & D & SI1  & 62.8 & 60 & 2757 & 5.66 & 5.68 & 3.56\\\\\n\t 0.86 & Premium   & H & SI2  & 61.0 & 58 & 2757 & 6.15 & 6.12 & 3.74\\\\\n\t 0.75 & Ideal     & D & SI2  & 62.2 & 55 & 2757 & 5.83 & 5.87 & 3.64\\\\\n\\end{tabular}\n",
            "text/markdown": "\nA tibble: 53940 × 10\n\n| carat &lt;dbl&gt; | cut &lt;ord&gt; | color &lt;ord&gt; | clarity &lt;ord&gt; | depth &lt;dbl&gt; | table &lt;dbl&gt; | price &lt;int&gt; | x &lt;dbl&gt; | y &lt;dbl&gt; | z &lt;dbl&gt; |\n|---|---|---|---|---|---|---|---|---|---|\n| 0.23 | Ideal     | E | SI2  | 61.5 | 55 | 326 | 3.95 | 3.98 | 2.43 |\n| 0.21 | Premium   | E | SI1  | 59.8 | 61 | 326 | 3.89 | 3.84 | 2.31 |\n| 0.23 | Good      | E | VS1  | 56.9 | 65 | 327 | 4.05 | 4.07 | 2.31 |\n| 0.29 | Premium   | I | VS2  | 62.4 | 58 | 334 | 4.20 | 4.23 | 2.63 |\n| 0.31 | Good      | J | SI2  | 63.3 | 58 | 335 | 4.34 | 4.35 | 2.75 |\n| 0.24 | Very Good | J | VVS2 | 62.8 | 57 | 336 | 3.94 | 3.96 | 2.48 |\n| 0.24 | Very Good | I | VVS1 | 62.3 | 57 | 336 | 3.95 | 3.98 | 2.47 |\n| 0.26 | Very Good | H | SI1  | 61.9 | 55 | 337 | 4.07 | 4.11 | 2.53 |\n| 0.22 | Fair      | E | VS2  | 65.1 | 61 | 337 | 3.87 | 3.78 | 2.49 |\n| 0.23 | Very Good | H | VS1  | 59.4 | 61 | 338 | 4.00 | 4.05 | 2.39 |\n| 0.30 | Good      | J | SI1  | 64.0 | 55 | 339 | 4.25 | 4.28 | 2.73 |\n| 0.23 | Ideal     | J | VS1  | 62.8 | 56 | 340 | 3.93 | 3.90 | 2.46 |\n| 0.22 | Premium   | F | SI1  | 60.4 | 61 | 342 | 3.88 | 3.84 | 2.33 |\n| 0.31 | Ideal     | J | SI2  | 62.2 | 54 | 344 | 4.35 | 4.37 | 2.71 |\n| 0.20 | Premium   | E | SI2  | 60.2 | 62 | 345 | 3.79 | 3.75 | 2.27 |\n| 0.32 | Premium   | E | I1   | 60.9 | 58 | 345 | 4.38 | 4.42 | 2.68 |\n| 0.30 | Ideal     | I | SI2  | 62.0 | 54 | 348 | 4.31 | 4.34 | 2.68 |\n| 0.30 | Good      | J | SI1  | 63.4 | 54 | 351 | 4.23 | 4.29 | 2.70 |\n| 0.30 | Good      | J | SI1  | 63.8 | 56 | 351 | 4.23 | 4.26 | 2.71 |\n| 0.30 | Very Good | J | SI1  | 62.7 | 59 | 351 | 4.21 | 4.27 | 2.66 |\n| 0.30 | Good      | I | SI2  | 63.3 | 56 | 351 | 4.26 | 4.30 | 2.71 |\n| 0.23 | Very Good | E | VS2  | 63.8 | 55 | 352 | 3.85 | 3.92 | 2.48 |\n| 0.23 | Very Good | H | VS1  | 61.0 | 57 | 353 | 3.94 | 3.96 | 2.41 |\n| 0.31 | Very Good | J | SI1  | 59.4 | 62 | 353 | 4.39 | 4.43 | 2.62 |\n| 0.31 | Very Good | J | SI1  | 58.1 | 62 | 353 | 4.44 | 4.47 | 2.59 |\n| 0.23 | Very Good | G | VVS2 | 60.4 | 58 | 354 | 3.97 | 4.01 | 2.41 |\n| 0.24 | Premium   | I | VS1  | 62.5 | 57 | 355 | 3.97 | 3.94 | 2.47 |\n| 0.30 | Very Good | J | VS2  | 62.2 | 57 | 357 | 4.28 | 4.30 | 2.67 |\n| 0.23 | Very Good | D | VS2  | 60.5 | 61 | 357 | 3.96 | 3.97 | 2.40 |\n| 0.23 | Very Good | F | VS1  | 60.9 | 57 | 357 | 3.96 | 3.99 | 2.42 |\n| ⋮ | ⋮ | ⋮ | ⋮ | ⋮ | ⋮ | ⋮ | ⋮ | ⋮ | ⋮ |\n| 0.70 | Premium   | E | SI1  | 60.5 | 58 | 2753 | 5.74 | 5.77 | 3.48 |\n| 0.57 | Premium   | E | IF   | 59.8 | 60 | 2753 | 5.43 | 5.38 | 3.23 |\n| 0.61 | Premium   | F | VVS1 | 61.8 | 59 | 2753 | 5.48 | 5.40 | 3.36 |\n| 0.80 | Good      | G | VS2  | 64.2 | 58 | 2753 | 5.84 | 5.81 | 3.74 |\n| 0.84 | Good      | I | VS1  | 63.7 | 59 | 2753 | 5.94 | 5.90 | 3.77 |\n| 0.77 | Ideal     | E | SI2  | 62.1 | 56 | 2753 | 5.84 | 5.86 | 3.63 |\n| 0.74 | Good      | D | SI1  | 63.1 | 59 | 2753 | 5.71 | 5.74 | 3.61 |\n| 0.90 | Very Good | J | SI1  | 63.2 | 60 | 2753 | 6.12 | 6.09 | 3.86 |\n| 0.76 | Premium   | I | VS1  | 59.3 | 62 | 2753 | 5.93 | 5.85 | 3.49 |\n| 0.76 | Ideal     | I | VVS1 | 62.2 | 55 | 2753 | 5.89 | 5.87 | 3.66 |\n| 0.70 | Very Good | E | VS2  | 62.4 | 60 | 2755 | 5.57 | 5.61 | 3.49 |\n| 0.70 | Very Good | E | VS2  | 62.8 | 60 | 2755 | 5.59 | 5.65 | 3.53 |\n| 0.70 | Very Good | D | VS1  | 63.1 | 59 | 2755 | 5.67 | 5.58 | 3.55 |\n| 0.73 | Ideal     | I | VS2  | 61.3 | 56 | 2756 | 5.80 | 5.84 | 3.57 |\n| 0.73 | Ideal     | I | VS2  | 61.6 | 55 | 2756 | 5.82 | 5.84 | 3.59 |\n| 0.79 | Ideal     | I | SI1  | 61.6 | 56 | 2756 | 5.95 | 5.97 | 3.67 |\n| 0.71 | Ideal     | E | SI1  | 61.9 | 56 | 2756 | 5.71 | 5.73 | 3.54 |\n| 0.79 | Good      | F | SI1  | 58.1 | 59 | 2756 | 6.06 | 6.13 | 3.54 |\n| 0.79 | Premium   | E | SI2  | 61.4 | 58 | 2756 | 6.03 | 5.96 | 3.68 |\n| 0.71 | Ideal     | G | VS1  | 61.4 | 56 | 2756 | 5.76 | 5.73 | 3.53 |\n| 0.71 | Premium   | E | SI1  | 60.5 | 55 | 2756 | 5.79 | 5.74 | 3.49 |\n| 0.71 | Premium   | F | SI1  | 59.8 | 62 | 2756 | 5.74 | 5.73 | 3.43 |\n| 0.70 | Very Good | E | VS2  | 60.5 | 59 | 2757 | 5.71 | 5.76 | 3.47 |\n| 0.70 | Very Good | E | VS2  | 61.2 | 59 | 2757 | 5.69 | 5.72 | 3.49 |\n| 0.72 | Premium   | D | SI1  | 62.7 | 59 | 2757 | 5.69 | 5.73 | 3.58 |\n| 0.72 | Ideal     | D | SI1  | 60.8 | 57 | 2757 | 5.75 | 5.76 | 3.50 |\n| 0.72 | Good      | D | SI1  | 63.1 | 55 | 2757 | 5.69 | 5.75 | 3.61 |\n| 0.70 | Very Good | D | SI1  | 62.8 | 60 | 2757 | 5.66 | 5.68 | 3.56 |\n| 0.86 | Premium   | H | SI2  | 61.0 | 58 | 2757 | 6.15 | 6.12 | 3.74 |\n| 0.75 | Ideal     | D | SI2  | 62.2 | 55 | 2757 | 5.83 | 5.87 | 3.64 |\n\n",
            "text/html": [
              "<table class=\"dataframe\">\n",
              "<caption>A tibble: 53940 × 10</caption>\n",
              "<thead>\n",
              "\t<tr><th scope=col>carat</th><th scope=col>cut</th><th scope=col>color</th><th scope=col>clarity</th><th scope=col>depth</th><th scope=col>table</th><th scope=col>price</th><th scope=col>x</th><th scope=col>y</th><th scope=col>z</th></tr>\n",
              "\t<tr><th scope=col>&lt;dbl&gt;</th><th scope=col>&lt;ord&gt;</th><th scope=col>&lt;ord&gt;</th><th scope=col>&lt;ord&gt;</th><th scope=col>&lt;dbl&gt;</th><th scope=col>&lt;dbl&gt;</th><th scope=col>&lt;int&gt;</th><th scope=col>&lt;dbl&gt;</th><th scope=col>&lt;dbl&gt;</th><th scope=col>&lt;dbl&gt;</th></tr>\n",
              "</thead>\n",
              "<tbody>\n",
              "\t<tr><td>0.23</td><td>Ideal    </td><td>E</td><td>SI2 </td><td>61.5</td><td>55</td><td>326</td><td>3.95</td><td>3.98</td><td>2.43</td></tr>\n",
              "\t<tr><td>0.21</td><td>Premium  </td><td>E</td><td>SI1 </td><td>59.8</td><td>61</td><td>326</td><td>3.89</td><td>3.84</td><td>2.31</td></tr>\n",
              "\t<tr><td>0.23</td><td>Good     </td><td>E</td><td>VS1 </td><td>56.9</td><td>65</td><td>327</td><td>4.05</td><td>4.07</td><td>2.31</td></tr>\n",
              "\t<tr><td>0.29</td><td>Premium  </td><td>I</td><td>VS2 </td><td>62.4</td><td>58</td><td>334</td><td>4.20</td><td>4.23</td><td>2.63</td></tr>\n",
              "\t<tr><td>0.31</td><td>Good     </td><td>J</td><td>SI2 </td><td>63.3</td><td>58</td><td>335</td><td>4.34</td><td>4.35</td><td>2.75</td></tr>\n",
              "\t<tr><td>0.24</td><td>Very Good</td><td>J</td><td>VVS2</td><td>62.8</td><td>57</td><td>336</td><td>3.94</td><td>3.96</td><td>2.48</td></tr>\n",
              "\t<tr><td>0.24</td><td>Very Good</td><td>I</td><td>VVS1</td><td>62.3</td><td>57</td><td>336</td><td>3.95</td><td>3.98</td><td>2.47</td></tr>\n",
              "\t<tr><td>0.26</td><td>Very Good</td><td>H</td><td>SI1 </td><td>61.9</td><td>55</td><td>337</td><td>4.07</td><td>4.11</td><td>2.53</td></tr>\n",
              "\t<tr><td>0.22</td><td>Fair     </td><td>E</td><td>VS2 </td><td>65.1</td><td>61</td><td>337</td><td>3.87</td><td>3.78</td><td>2.49</td></tr>\n",
              "\t<tr><td>0.23</td><td>Very Good</td><td>H</td><td>VS1 </td><td>59.4</td><td>61</td><td>338</td><td>4.00</td><td>4.05</td><td>2.39</td></tr>\n",
              "\t<tr><td>0.30</td><td>Good     </td><td>J</td><td>SI1 </td><td>64.0</td><td>55</td><td>339</td><td>4.25</td><td>4.28</td><td>2.73</td></tr>\n",
              "\t<tr><td>0.23</td><td>Ideal    </td><td>J</td><td>VS1 </td><td>62.8</td><td>56</td><td>340</td><td>3.93</td><td>3.90</td><td>2.46</td></tr>\n",
              "\t<tr><td>0.22</td><td>Premium  </td><td>F</td><td>SI1 </td><td>60.4</td><td>61</td><td>342</td><td>3.88</td><td>3.84</td><td>2.33</td></tr>\n",
              "\t<tr><td>0.31</td><td>Ideal    </td><td>J</td><td>SI2 </td><td>62.2</td><td>54</td><td>344</td><td>4.35</td><td>4.37</td><td>2.71</td></tr>\n",
              "\t<tr><td>0.20</td><td>Premium  </td><td>E</td><td>SI2 </td><td>60.2</td><td>62</td><td>345</td><td>3.79</td><td>3.75</td><td>2.27</td></tr>\n",
              "\t<tr><td>0.32</td><td>Premium  </td><td>E</td><td>I1  </td><td>60.9</td><td>58</td><td>345</td><td>4.38</td><td>4.42</td><td>2.68</td></tr>\n",
              "\t<tr><td>0.30</td><td>Ideal    </td><td>I</td><td>SI2 </td><td>62.0</td><td>54</td><td>348</td><td>4.31</td><td>4.34</td><td>2.68</td></tr>\n",
              "\t<tr><td>0.30</td><td>Good     </td><td>J</td><td>SI1 </td><td>63.4</td><td>54</td><td>351</td><td>4.23</td><td>4.29</td><td>2.70</td></tr>\n",
              "\t<tr><td>0.30</td><td>Good     </td><td>J</td><td>SI1 </td><td>63.8</td><td>56</td><td>351</td><td>4.23</td><td>4.26</td><td>2.71</td></tr>\n",
              "\t<tr><td>0.30</td><td>Very Good</td><td>J</td><td>SI1 </td><td>62.7</td><td>59</td><td>351</td><td>4.21</td><td>4.27</td><td>2.66</td></tr>\n",
              "\t<tr><td>0.30</td><td>Good     </td><td>I</td><td>SI2 </td><td>63.3</td><td>56</td><td>351</td><td>4.26</td><td>4.30</td><td>2.71</td></tr>\n",
              "\t<tr><td>0.23</td><td>Very Good</td><td>E</td><td>VS2 </td><td>63.8</td><td>55</td><td>352</td><td>3.85</td><td>3.92</td><td>2.48</td></tr>\n",
              "\t<tr><td>0.23</td><td>Very Good</td><td>H</td><td>VS1 </td><td>61.0</td><td>57</td><td>353</td><td>3.94</td><td>3.96</td><td>2.41</td></tr>\n",
              "\t<tr><td>0.31</td><td>Very Good</td><td>J</td><td>SI1 </td><td>59.4</td><td>62</td><td>353</td><td>4.39</td><td>4.43</td><td>2.62</td></tr>\n",
              "\t<tr><td>0.31</td><td>Very Good</td><td>J</td><td>SI1 </td><td>58.1</td><td>62</td><td>353</td><td>4.44</td><td>4.47</td><td>2.59</td></tr>\n",
              "\t<tr><td>0.23</td><td>Very Good</td><td>G</td><td>VVS2</td><td>60.4</td><td>58</td><td>354</td><td>3.97</td><td>4.01</td><td>2.41</td></tr>\n",
              "\t<tr><td>0.24</td><td>Premium  </td><td>I</td><td>VS1 </td><td>62.5</td><td>57</td><td>355</td><td>3.97</td><td>3.94</td><td>2.47</td></tr>\n",
              "\t<tr><td>0.30</td><td>Very Good</td><td>J</td><td>VS2 </td><td>62.2</td><td>57</td><td>357</td><td>4.28</td><td>4.30</td><td>2.67</td></tr>\n",
              "\t<tr><td>0.23</td><td>Very Good</td><td>D</td><td>VS2 </td><td>60.5</td><td>61</td><td>357</td><td>3.96</td><td>3.97</td><td>2.40</td></tr>\n",
              "\t<tr><td>0.23</td><td>Very Good</td><td>F</td><td>VS1 </td><td>60.9</td><td>57</td><td>357</td><td>3.96</td><td>3.99</td><td>2.42</td></tr>\n",
              "\t<tr><td>⋮</td><td>⋮</td><td>⋮</td><td>⋮</td><td>⋮</td><td>⋮</td><td>⋮</td><td>⋮</td><td>⋮</td><td>⋮</td></tr>\n",
              "\t<tr><td>0.70</td><td>Premium  </td><td>E</td><td>SI1 </td><td>60.5</td><td>58</td><td>2753</td><td>5.74</td><td>5.77</td><td>3.48</td></tr>\n",
              "\t<tr><td>0.57</td><td>Premium  </td><td>E</td><td>IF  </td><td>59.8</td><td>60</td><td>2753</td><td>5.43</td><td>5.38</td><td>3.23</td></tr>\n",
              "\t<tr><td>0.61</td><td>Premium  </td><td>F</td><td>VVS1</td><td>61.8</td><td>59</td><td>2753</td><td>5.48</td><td>5.40</td><td>3.36</td></tr>\n",
              "\t<tr><td>0.80</td><td>Good     </td><td>G</td><td>VS2 </td><td>64.2</td><td>58</td><td>2753</td><td>5.84</td><td>5.81</td><td>3.74</td></tr>\n",
              "\t<tr><td>0.84</td><td>Good     </td><td>I</td><td>VS1 </td><td>63.7</td><td>59</td><td>2753</td><td>5.94</td><td>5.90</td><td>3.77</td></tr>\n",
              "\t<tr><td>0.77</td><td>Ideal    </td><td>E</td><td>SI2 </td><td>62.1</td><td>56</td><td>2753</td><td>5.84</td><td>5.86</td><td>3.63</td></tr>\n",
              "\t<tr><td>0.74</td><td>Good     </td><td>D</td><td>SI1 </td><td>63.1</td><td>59</td><td>2753</td><td>5.71</td><td>5.74</td><td>3.61</td></tr>\n",
              "\t<tr><td>0.90</td><td>Very Good</td><td>J</td><td>SI1 </td><td>63.2</td><td>60</td><td>2753</td><td>6.12</td><td>6.09</td><td>3.86</td></tr>\n",
              "\t<tr><td>0.76</td><td>Premium  </td><td>I</td><td>VS1 </td><td>59.3</td><td>62</td><td>2753</td><td>5.93</td><td>5.85</td><td>3.49</td></tr>\n",
              "\t<tr><td>0.76</td><td>Ideal    </td><td>I</td><td>VVS1</td><td>62.2</td><td>55</td><td>2753</td><td>5.89</td><td>5.87</td><td>3.66</td></tr>\n",
              "\t<tr><td>0.70</td><td>Very Good</td><td>E</td><td>VS2 </td><td>62.4</td><td>60</td><td>2755</td><td>5.57</td><td>5.61</td><td>3.49</td></tr>\n",
              "\t<tr><td>0.70</td><td>Very Good</td><td>E</td><td>VS2 </td><td>62.8</td><td>60</td><td>2755</td><td>5.59</td><td>5.65</td><td>3.53</td></tr>\n",
              "\t<tr><td>0.70</td><td>Very Good</td><td>D</td><td>VS1 </td><td>63.1</td><td>59</td><td>2755</td><td>5.67</td><td>5.58</td><td>3.55</td></tr>\n",
              "\t<tr><td>0.73</td><td>Ideal    </td><td>I</td><td>VS2 </td><td>61.3</td><td>56</td><td>2756</td><td>5.80</td><td>5.84</td><td>3.57</td></tr>\n",
              "\t<tr><td>0.73</td><td>Ideal    </td><td>I</td><td>VS2 </td><td>61.6</td><td>55</td><td>2756</td><td>5.82</td><td>5.84</td><td>3.59</td></tr>\n",
              "\t<tr><td>0.79</td><td>Ideal    </td><td>I</td><td>SI1 </td><td>61.6</td><td>56</td><td>2756</td><td>5.95</td><td>5.97</td><td>3.67</td></tr>\n",
              "\t<tr><td>0.71</td><td>Ideal    </td><td>E</td><td>SI1 </td><td>61.9</td><td>56</td><td>2756</td><td>5.71</td><td>5.73</td><td>3.54</td></tr>\n",
              "\t<tr><td>0.79</td><td>Good     </td><td>F</td><td>SI1 </td><td>58.1</td><td>59</td><td>2756</td><td>6.06</td><td>6.13</td><td>3.54</td></tr>\n",
              "\t<tr><td>0.79</td><td>Premium  </td><td>E</td><td>SI2 </td><td>61.4</td><td>58</td><td>2756</td><td>6.03</td><td>5.96</td><td>3.68</td></tr>\n",
              "\t<tr><td>0.71</td><td>Ideal    </td><td>G</td><td>VS1 </td><td>61.4</td><td>56</td><td>2756</td><td>5.76</td><td>5.73</td><td>3.53</td></tr>\n",
              "\t<tr><td>0.71</td><td>Premium  </td><td>E</td><td>SI1 </td><td>60.5</td><td>55</td><td>2756</td><td>5.79</td><td>5.74</td><td>3.49</td></tr>\n",
              "\t<tr><td>0.71</td><td>Premium  </td><td>F</td><td>SI1 </td><td>59.8</td><td>62</td><td>2756</td><td>5.74</td><td>5.73</td><td>3.43</td></tr>\n",
              "\t<tr><td>0.70</td><td>Very Good</td><td>E</td><td>VS2 </td><td>60.5</td><td>59</td><td>2757</td><td>5.71</td><td>5.76</td><td>3.47</td></tr>\n",
              "\t<tr><td>0.70</td><td>Very Good</td><td>E</td><td>VS2 </td><td>61.2</td><td>59</td><td>2757</td><td>5.69</td><td>5.72</td><td>3.49</td></tr>\n",
              "\t<tr><td>0.72</td><td>Premium  </td><td>D</td><td>SI1 </td><td>62.7</td><td>59</td><td>2757</td><td>5.69</td><td>5.73</td><td>3.58</td></tr>\n",
              "\t<tr><td>0.72</td><td>Ideal    </td><td>D</td><td>SI1 </td><td>60.8</td><td>57</td><td>2757</td><td>5.75</td><td>5.76</td><td>3.50</td></tr>\n",
              "\t<tr><td>0.72</td><td>Good     </td><td>D</td><td>SI1 </td><td>63.1</td><td>55</td><td>2757</td><td>5.69</td><td>5.75</td><td>3.61</td></tr>\n",
              "\t<tr><td>0.70</td><td>Very Good</td><td>D</td><td>SI1 </td><td>62.8</td><td>60</td><td>2757</td><td>5.66</td><td>5.68</td><td>3.56</td></tr>\n",
              "\t<tr><td>0.86</td><td>Premium  </td><td>H</td><td>SI2 </td><td>61.0</td><td>58</td><td>2757</td><td>6.15</td><td>6.12</td><td>3.74</td></tr>\n",
              "\t<tr><td>0.75</td><td>Ideal    </td><td>D</td><td>SI2 </td><td>62.2</td><td>55</td><td>2757</td><td>5.83</td><td>5.87</td><td>3.64</td></tr>\n",
              "</tbody>\n",
              "</table>\n"
            ]
          },
          "metadata": {
            "tags": []
          }
        }
      ]
    },
    {
      "cell_type": "code",
      "metadata": {
        "colab": {
          "base_uri": "https://localhost:8080/",
          "height": 437
        },
        "id": "8Ui2keUHG0NQ",
        "outputId": "900a27fe-c712-4981-a364-956510d50c29"
      },
      "source": [
        "diamonds %>% ggplot(aes(cut, price)) + geom_boxplot()"
      ],
      "execution_count": null,
      "outputs": [
        {
          "output_type": "display_data",
          "data": {
            "image/png": "[encoded data removed]",
            "text/plain": [
              "plot without title"
            ]
          },
          "metadata": {
            "tags": [],
            "image/png": {
              "width": 420,
              "height": 420
            }
          }
        }
      ]
    },
    {
      "cell_type": "code",
      "metadata": {
        "colab": {
          "base_uri": "https://localhost:8080/",
          "height": 437
        },
        "id": "yXQxefM_G0Jn",
        "outputId": "6a3c1c58-3d63-4734-b587-4f8c8a7ebb93"
      },
      "source": [
        "diamonds %>% ggplot(aes(cut, price)) + geom_violin()"
      ],
      "execution_count": null,
      "outputs": [
        {
          "output_type": "display_data",
          "data": {
            "image/png": "[encoded data removed]",
            "text/plain": [
              "plot without title"
            ]
          },
          "metadata": {
            "tags": [],
            "image/png": {
              "width": 420,
              "height": 420
            }
          }
        }
      ]
    },
    {
      "cell_type": "code",
      "metadata": {
        "id": "7od_4dZ2G0Fx"
      },
      "source": [
        ""
      ],
      "execution_count": null,
      "outputs": []
    },
    {
      "cell_type": "code",
      "metadata": {
        "id": "PGLrz0KbG0B2"
      },
      "source": [
        ""
      ],
      "execution_count": null,
      "outputs": []
    },
    {
      "cell_type": "code",
      "metadata": {
        "id": "Y0bL-eQKGz9q"
      },
      "source": [
        ""
      ],
      "execution_count": null,
      "outputs": []
    },
    {
      "cell_type": "code",
      "metadata": {
        "id": "C3XeXt6kGz5f"
      },
      "source": [
        ""
      ],
      "execution_count": null,
      "outputs": []
    },
    {
      "cell_type": "code",
      "metadata": {
        "id": "p1zDmB8WGz1P"
      },
      "source": [
        ""
      ],
      "execution_count": null,
      "outputs": []
    },
    {
      "cell_type": "code",
      "metadata": {
        "id": "REsZ3JXoGzxt"
      },
      "source": [
        ""
      ],
      "execution_count": null,
      "outputs": []
    },
    {
      "cell_type": "code",
      "metadata": {
        "id": "ySQazph1Gzt0"
      },
      "source": [
        ""
      ],
      "execution_count": null,
      "outputs": []
    },
    {
      "cell_type": "code",
      "metadata": {
        "id": "nZiW7HYqGznD"
      },
      "source": [
        ""
      ],
      "execution_count": null,
      "outputs": []
    }
  ]
}