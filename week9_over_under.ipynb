{
  "nbformat": 4,
  "nbformat_minor": 0,
  "metadata": {
    "colab": {
      "name": "week9_over_under.ipynb",
      "provenance": [],
      "collapsed_sections": [],
      "authorship_tag": "ABX9TyP8B87t5rgbfrcYOzzwyLEK",
      "include_colab_link": true
    },
    "kernelspec": {
      "name": "python3",
      "display_name": "Python 3"
    },
    "language_info": {
      "name": "python"
    },
    "accelerator": "GPU"
  },
  "cells": [
    {
      "cell_type": "markdown",
      "metadata": {
        "id": "view-in-github",
        "colab_type": "text"
      },
      "source": [
        "<a href=\"https://colab.research.google.com/github/JungMYEONG-jin/Stats_Project/blob/window/week9_over_under.ipynb\" target=\"_parent\"><img src=\"https://colab.research.google.com/assets/colab-badge.svg\" alt=\"Open In Colab\"/></a>"
      ]
    },
    {
      "cell_type": "code",
      "metadata": {
        "colab": {
          "base_uri": "https://localhost:8080/"
        },
        "id": "9ES-mxsZXTog",
        "outputId": "bd0653cf-5973-4030-acd3-e71cf383dd86"
      },
      "source": [
        "import numpy as np\n",
        "from tensorflow.keras.datasets import imdb\n",
        "\n",
        "(train_data, train_labels), (test_data, test_labels) = imdb.load_data(num_words=10000)\n",
        "\n",
        "def seq_to_vec(seq, dim=10000):\n",
        "  res = np.zeros((len(seq), dim))\n",
        "  for i, s in enumerate(seq):\n",
        "    res[i,s] = 1.\n",
        "  return res\n",
        "\n",
        "train_x = seq_to_vec(train_data)\n",
        "test_x = seq_to_vec(test_data)\n",
        "\n",
        "train_y = np.asarray(train_labels).astype(\"float32\")\n",
        "test_y = np.asarray(test_labels).astype(\"float32\")"
      ],
      "execution_count": 2,
      "outputs": [
        {
          "output_type": "stream",
          "text": [
            "<string>:6: VisibleDeprecationWarning: Creating an ndarray from ragged nested sequences (which is a list-or-tuple of lists-or-tuples-or ndarrays with different lengths or shapes) is deprecated. If you meant to do this, you must specify 'dtype=object' when creating the ndarray\n",
            "/usr/local/lib/python3.7/dist-packages/tensorflow/python/keras/datasets/imdb.py:159: VisibleDeprecationWarning: Creating an ndarray from ragged nested sequences (which is a list-or-tuple of lists-or-tuples-or ndarrays with different lengths or shapes) is deprecated. If you meant to do this, you must specify 'dtype=object' when creating the ndarray\n",
            "  x_train, y_train = np.array(xs[:idx]), np.array(labels[:idx])\n",
            "/usr/local/lib/python3.7/dist-packages/tensorflow/python/keras/datasets/imdb.py:160: VisibleDeprecationWarning: Creating an ndarray from ragged nested sequences (which is a list-or-tuple of lists-or-tuples-or ndarrays with different lengths or shapes) is deprecated. If you meant to do this, you must specify 'dtype=object' when creating the ndarray\n",
            "  x_test, y_test = np.array(xs[idx:]), np.array(labels[idx:])\n"
          ],
          "name": "stderr"
        }
      ]
    },
    {
      "cell_type": "markdown",
      "metadata": {
        "id": "I5TRwfJQYcFM"
      },
      "source": [
        "# 오버피팅 해결하기\n",
        "## Reducing the network's size\n",
        "\n",
        "가장 간단하게 해결하는법은 모델 사이즈를 줄이는것이다. 딥러닝에서 훈련가능한 패러미터는 capacity라고 언급된다. 패러미터가 많을수록 모델은 자연스럽게 memorization capacity를 더 갖게된다. 딥러닝에서 가장 중요한것은 트레이닝에 피팅하는게 아니라 제너럴하게 피팅이 되게 하는것이다. 다른 말로 말해 네트워크가 제한된 메모라이제이션 자원을 갖는다면 매핑을 쉽게 배우지 못할것이다. 불행히도 어떤게 최적의 레이어 수인지 공식적으로 나온게 없다. 너는 평가해야 한다 다른 아키텍트를 적절한 모델 사이즈를 찾기 위해 검증셋으로 테스트 셋이 아니라! 가장 기본적인 방법은 적은 레이어에서 출발해 점점 늘려나가는것이다."
      ]
    },
    {
      "cell_type": "code",
      "metadata": {
        "id": "PqCaoXSoYGU_"
      },
      "source": [
        "from tensorflow.keras import models\n",
        "from tensorflow.keras import layers\n",
        "\n",
        "model = models.Sequential()\n",
        "model.add(layers.Dense(16, activation=\"relu\", input_shape=(10000,)))\n",
        "model.add(layers.Dense(16, activation=\"relu\"))\n",
        "model.add(layers.Dense(1, activation=\"sigmoid\"))\n",
        "\n",
        "model.compile(optimizer=\"rmsprop\", loss=\"binary_crossentropy\", metrics=[\"acc\"])"
      ],
      "execution_count": 3,
      "outputs": []
    },
    {
      "cell_type": "markdown",
      "metadata": {
        "id": "4GBl0Bv7aVJV"
      },
      "source": [
        "## Small model"
      ]
    },
    {
      "cell_type": "code",
      "metadata": {
        "id": "_xwxmBbWaM0Z"
      },
      "source": [
        "smodel = models.Sequential()\n",
        "smodel.add(layers.Dense(4, activation=\"relu\", input_shape=(10000,)))\n",
        "smodel.add(layers.Dense(4, activation=\"relu\"))\n",
        "smodel.add(layers.Dense(1, activation=\"sigmoid\"))\n",
        "\n",
        "smodel.compile(optimizer=\"rmsprop\", loss=\"binary_crossentropy\", metrics=[\"acc\"])"
      ],
      "execution_count": 4,
      "outputs": []
    },
    {
      "cell_type": "code",
      "metadata": {
        "colab": {
          "base_uri": "https://localhost:8080/"
        },
        "id": "tCzYkicfabjA",
        "outputId": "272e01ba-fc5e-458d-bbe0-7ba619a97bb2"
      },
      "source": [
        "hist = model.fit(train_x, train_y, epochs=20, batch_size=512, validation_data=(test_x, test_y))"
      ],
      "execution_count": 5,
      "outputs": [
        {
          "output_type": "stream",
          "text": [
            "Epoch 1/20\n",
            "49/49 [==============================] - 5s 41ms/step - loss: 0.5637 - acc: 0.7267 - val_loss: 0.3421 - val_acc: 0.8818\n",
            "Epoch 2/20\n",
            "49/49 [==============================] - 1s 26ms/step - loss: 0.2793 - acc: 0.9077 - val_loss: 0.3052 - val_acc: 0.8778\n",
            "Epoch 3/20\n",
            "49/49 [==============================] - 1s 24ms/step - loss: 0.2041 - acc: 0.9307 - val_loss: 0.2816 - val_acc: 0.8877\n",
            "Epoch 4/20\n",
            "49/49 [==============================] - 1s 24ms/step - loss: 0.1625 - acc: 0.9446 - val_loss: 0.2958 - val_acc: 0.8814\n",
            "Epoch 5/20\n",
            "49/49 [==============================] - 1s 25ms/step - loss: 0.1431 - acc: 0.9526 - val_loss: 0.3122 - val_acc: 0.8774\n",
            "Epoch 6/20\n",
            "49/49 [==============================] - 1s 25ms/step - loss: 0.1236 - acc: 0.9605 - val_loss: 0.3394 - val_acc: 0.8727\n",
            "Epoch 7/20\n",
            "49/49 [==============================] - 1s 24ms/step - loss: 0.1075 - acc: 0.9650 - val_loss: 0.3490 - val_acc: 0.8732\n",
            "Epoch 8/20\n",
            "49/49 [==============================] - 1s 25ms/step - loss: 0.0945 - acc: 0.9696 - val_loss: 0.4086 - val_acc: 0.8611\n",
            "Epoch 9/20\n",
            "49/49 [==============================] - 1s 24ms/step - loss: 0.0826 - acc: 0.9743 - val_loss: 0.4110 - val_acc: 0.8633\n",
            "Epoch 10/20\n",
            "49/49 [==============================] - 1s 25ms/step - loss: 0.0699 - acc: 0.9794 - val_loss: 0.4184 - val_acc: 0.8652\n",
            "Epoch 11/20\n",
            "49/49 [==============================] - 1s 24ms/step - loss: 0.0587 - acc: 0.9836 - val_loss: 0.4770 - val_acc: 0.8596\n",
            "Epoch 12/20\n",
            "49/49 [==============================] - 1s 25ms/step - loss: 0.0571 - acc: 0.9839 - val_loss: 0.4804 - val_acc: 0.8599\n",
            "Epoch 13/20\n",
            "49/49 [==============================] - 1s 25ms/step - loss: 0.0438 - acc: 0.9893 - val_loss: 0.5097 - val_acc: 0.8585\n",
            "Epoch 14/20\n",
            "49/49 [==============================] - 1s 24ms/step - loss: 0.0364 - acc: 0.9909 - val_loss: 0.5526 - val_acc: 0.8557\n",
            "Epoch 15/20\n",
            "49/49 [==============================] - 1s 25ms/step - loss: 0.0339 - acc: 0.9923 - val_loss: 0.6587 - val_acc: 0.8427\n",
            "Epoch 16/20\n",
            "49/49 [==============================] - 1s 25ms/step - loss: 0.0264 - acc: 0.9943 - val_loss: 0.6030 - val_acc: 0.8542\n",
            "Epoch 17/20\n",
            "49/49 [==============================] - 1s 24ms/step - loss: 0.0195 - acc: 0.9962 - val_loss: 0.6394 - val_acc: 0.8534\n",
            "Epoch 18/20\n",
            "49/49 [==============================] - 1s 24ms/step - loss: 0.0180 - acc: 0.9963 - val_loss: 0.7803 - val_acc: 0.8389\n",
            "Epoch 19/20\n",
            "49/49 [==============================] - 1s 24ms/step - loss: 0.0139 - acc: 0.9974 - val_loss: 0.7047 - val_acc: 0.8517\n",
            "Epoch 20/20\n",
            "49/49 [==============================] - 1s 25ms/step - loss: 0.0101 - acc: 0.9986 - val_loss: 0.7767 - val_acc: 0.8493\n"
          ],
          "name": "stdout"
        }
      ]
    },
    {
      "cell_type": "code",
      "metadata": {
        "colab": {
          "base_uri": "https://localhost:8080/"
        },
        "id": "8CHIA6WoajJn",
        "outputId": "594d0b62-4044-4689-8af3-09770946f241"
      },
      "source": [
        "shist = smodel.fit(train_x, train_y, epochs=20, batch_size=512, validation_data=(test_x, test_y))"
      ],
      "execution_count": 6,
      "outputs": [
        {
          "output_type": "stream",
          "text": [
            "Epoch 1/20\n",
            "49/49 [==============================] - 3s 39ms/step - loss: 0.5977 - acc: 0.7442 - val_loss: 0.4440 - val_acc: 0.8606\n",
            "Epoch 2/20\n",
            "49/49 [==============================] - 1s 25ms/step - loss: 0.3861 - acc: 0.8903 - val_loss: 0.3475 - val_acc: 0.8799\n",
            "Epoch 3/20\n",
            "49/49 [==============================] - 1s 25ms/step - loss: 0.2860 - acc: 0.9111 - val_loss: 0.3032 - val_acc: 0.8866\n",
            "Epoch 4/20\n",
            "49/49 [==============================] - 1s 25ms/step - loss: 0.2371 - acc: 0.9225 - val_loss: 0.2916 - val_acc: 0.8851\n",
            "Epoch 5/20\n",
            "49/49 [==============================] - 1s 24ms/step - loss: 0.2018 - acc: 0.9333 - val_loss: 0.2907 - val_acc: 0.8823\n",
            "Epoch 6/20\n",
            "49/49 [==============================] - 1s 25ms/step - loss: 0.1790 - acc: 0.9408 - val_loss: 0.2803 - val_acc: 0.8892\n",
            "Epoch 7/20\n",
            "49/49 [==============================] - 1s 23ms/step - loss: 0.1584 - acc: 0.9480 - val_loss: 0.2845 - val_acc: 0.8862\n",
            "Epoch 8/20\n",
            "49/49 [==============================] - 1s 24ms/step - loss: 0.1400 - acc: 0.9537 - val_loss: 0.2930 - val_acc: 0.8831\n",
            "Epoch 9/20\n",
            "49/49 [==============================] - 1s 25ms/step - loss: 0.1295 - acc: 0.9590 - val_loss: 0.3024 - val_acc: 0.8818\n",
            "Epoch 10/20\n",
            "49/49 [==============================] - 1s 23ms/step - loss: 0.1258 - acc: 0.9595 - val_loss: 0.3165 - val_acc: 0.8788\n",
            "Epoch 11/20\n",
            "49/49 [==============================] - 1s 24ms/step - loss: 0.1110 - acc: 0.9661 - val_loss: 0.3286 - val_acc: 0.8758\n",
            "Epoch 12/20\n",
            "49/49 [==============================] - 1s 25ms/step - loss: 0.1042 - acc: 0.9663 - val_loss: 0.3404 - val_acc: 0.8747\n",
            "Epoch 13/20\n",
            "49/49 [==============================] - 1s 24ms/step - loss: 0.0965 - acc: 0.9700 - val_loss: 0.3555 - val_acc: 0.8724\n",
            "Epoch 14/20\n",
            "49/49 [==============================] - 1s 25ms/step - loss: 0.0895 - acc: 0.9724 - val_loss: 0.3727 - val_acc: 0.8695\n",
            "Epoch 15/20\n",
            "49/49 [==============================] - 1s 25ms/step - loss: 0.0819 - acc: 0.9761 - val_loss: 0.3855 - val_acc: 0.8690\n",
            "Epoch 16/20\n",
            "49/49 [==============================] - 1s 25ms/step - loss: 0.0758 - acc: 0.9773 - val_loss: 0.4040 - val_acc: 0.8675\n",
            "Epoch 17/20\n",
            "49/49 [==============================] - 1s 25ms/step - loss: 0.0737 - acc: 0.9786 - val_loss: 0.4229 - val_acc: 0.8646\n",
            "Epoch 18/20\n",
            "49/49 [==============================] - 1s 25ms/step - loss: 0.0711 - acc: 0.9792 - val_loss: 0.4396 - val_acc: 0.8640\n",
            "Epoch 19/20\n",
            "49/49 [==============================] - 1s 24ms/step - loss: 0.0636 - acc: 0.9838 - val_loss: 0.4633 - val_acc: 0.8626\n",
            "Epoch 20/20\n",
            "49/49 [==============================] - 1s 24ms/step - loss: 0.0582 - acc: 0.9845 - val_loss: 0.4790 - val_acc: 0.8591\n"
          ],
          "name": "stdout"
        }
      ]
    },
    {
      "cell_type": "code",
      "metadata": {
        "id": "WL0jdBFLar6o"
      },
      "source": [
        "epochs = range(1, 21)\n",
        "val_loss = hist.history[\"val_loss\"]\n",
        "s_val_loss = shist.history[\"val_loss\"]\n"
      ],
      "execution_count": 7,
      "outputs": []
    },
    {
      "cell_type": "code",
      "metadata": {
        "colab": {
          "base_uri": "https://localhost:8080/",
          "height": 281
        },
        "id": "fN8v53Tqa9YR",
        "outputId": "0bcc01b7-407a-4fa6-a5ce-570cee3e4a96"
      },
      "source": [
        "import matplotlib.pyplot as plt\n",
        "\n",
        "plt.plot(epochs, val_loss, 'b*', label=\"Original\")\n",
        "plt.plot(epochs, s_val_loss, 'bo', label=\"Smaller model\")\n",
        "plt.xlabel(\"Epochs\")\n",
        "plt.ylabel(\"Validation loss\")\n",
        "plt.legend()\n",
        "\n",
        "plt.show()"
      ],
      "execution_count": 8,
      "outputs": [
        {
          "output_type": "display_data",
          "data": {
            "image/png": "[encoded data removed]",
            "text/plain": [
              "<Figure size 432x288 with 1 Axes>"
            ]
          },
          "metadata": {
            "tags": [],
            "needs_background": "light"
          }
        }
      ]
    },
    {
      "cell_type": "markdown",
      "metadata": {
        "id": "XukD3dwob_H9"
      },
      "source": [
        "# Bigger model"
      ]
    },
    {
      "cell_type": "code",
      "metadata": {
        "id": "2K6a_vhcbQdT"
      },
      "source": [
        "bmodel = models.Sequential()\n",
        "bmodel.add(layers.Dense(512, activation=\"relu\", input_shape=(10000,)))\n",
        "bmodel.add(layers.Dense(512, activation=\"relu\"))\n",
        "bmodel.add(layers.Dense(1, activation=\"sigmoid\"))\n",
        "\n",
        "bmodel.compile(optimizer=\"rmsprop\", loss=\"binary_crossentropy\", metrics=[\"acc\"])"
      ],
      "execution_count": 9,
      "outputs": []
    },
    {
      "cell_type": "code",
      "metadata": {
        "colab": {
          "base_uri": "https://localhost:8080/"
        },
        "id": "0JxmQ-yjcE5V",
        "outputId": "74dd248b-1f7f-4466-8618-9054fb9e6584"
      },
      "source": [
        "bhist = bmodel.fit(train_x, train_y, epochs=20, batch_size=512, validation_data=(test_x, test_y))"
      ],
      "execution_count": 10,
      "outputs": [
        {
          "output_type": "stream",
          "text": [
            "Epoch 1/20\n",
            "49/49 [==============================] - 3s 46ms/step - loss: 0.6004 - acc: 0.7122 - val_loss: 0.2846 - val_acc: 0.8846\n",
            "Epoch 2/20\n",
            "49/49 [==============================] - 2s 34ms/step - loss: 0.2314 - acc: 0.9082 - val_loss: 0.4719 - val_acc: 0.8022\n",
            "Epoch 3/20\n",
            "49/49 [==============================] - 2s 32ms/step - loss: 0.1450 - acc: 0.9445 - val_loss: 0.3351 - val_acc: 0.8849\n",
            "Epoch 4/20\n",
            "49/49 [==============================] - 2s 33ms/step - loss: 0.0666 - acc: 0.9794 - val_loss: 0.3538 - val_acc: 0.8756\n",
            "Epoch 5/20\n",
            "49/49 [==============================] - 2s 33ms/step - loss: 0.0339 - acc: 0.9927 - val_loss: 0.4556 - val_acc: 0.8823\n",
            "Epoch 6/20\n",
            "49/49 [==============================] - 2s 33ms/step - loss: 0.0033 - acc: 0.9997 - val_loss: 0.6711 - val_acc: 0.8802\n",
            "Epoch 7/20\n",
            "49/49 [==============================] - 2s 34ms/step - loss: 0.0310 - acc: 0.9970 - val_loss: 0.6241 - val_acc: 0.8791\n",
            "Epoch 8/20\n",
            "49/49 [==============================] - 2s 32ms/step - loss: 3.1516e-04 - acc: 1.0000 - val_loss: 0.7635 - val_acc: 0.8786\n",
            "Epoch 9/20\n",
            "49/49 [==============================] - 2s 32ms/step - loss: 0.0188 - acc: 0.9980 - val_loss: 0.6580 - val_acc: 0.8710\n",
            "Epoch 10/20\n",
            "49/49 [==============================] - 2s 33ms/step - loss: 5.6883e-04 - acc: 1.0000 - val_loss: 0.7343 - val_acc: 0.8754\n",
            "Epoch 11/20\n",
            "49/49 [==============================] - 2s 32ms/step - loss: 5.9691e-05 - acc: 1.0000 - val_loss: 0.8821 - val_acc: 0.8772\n",
            "Epoch 12/20\n",
            "49/49 [==============================] - 2s 32ms/step - loss: 1.0090e-05 - acc: 1.0000 - val_loss: 1.0156 - val_acc: 0.8774\n",
            "Epoch 13/20\n",
            "49/49 [==============================] - 2s 33ms/step - loss: 1.6659e-06 - acc: 1.0000 - val_loss: 1.1806 - val_acc: 0.8762\n",
            "Epoch 14/20\n",
            "49/49 [==============================] - 2s 32ms/step - loss: 2.6135e-07 - acc: 1.0000 - val_loss: 1.3255 - val_acc: 0.8779\n",
            "Epoch 15/20\n",
            "49/49 [==============================] - 2s 32ms/step - loss: 6.0050e-08 - acc: 1.0000 - val_loss: 1.4132 - val_acc: 0.8778\n",
            "Epoch 16/20\n",
            "49/49 [==============================] - 2s 33ms/step - loss: 2.3573e-08 - acc: 1.0000 - val_loss: 1.4625 - val_acc: 0.8777\n",
            "Epoch 17/20\n",
            "49/49 [==============================] - 2s 32ms/step - loss: 1.4190e-08 - acc: 1.0000 - val_loss: 1.4938 - val_acc: 0.8777\n",
            "Epoch 18/20\n",
            "49/49 [==============================] - 2s 33ms/step - loss: 1.0721e-08 - acc: 1.0000 - val_loss: 1.5160 - val_acc: 0.8776\n",
            "Epoch 19/20\n",
            "49/49 [==============================] - 2s 32ms/step - loss: 8.0148e-09 - acc: 1.0000 - val_loss: 1.5334 - val_acc: 0.8776\n",
            "Epoch 20/20\n",
            "49/49 [==============================] - 2s 33ms/step - loss: 6.4446e-09 - acc: 1.0000 - val_loss: 1.5480 - val_acc: 0.8777\n"
          ],
          "name": "stdout"
        }
      ]
    },
    {
      "cell_type": "code",
      "metadata": {
        "colab": {
          "base_uri": "https://localhost:8080/",
          "height": 282
        },
        "id": "-O3i1fojcNrB",
        "outputId": "d856dd22-3706-4cd8-913d-785e1300f3e4"
      },
      "source": [
        "bloss = bhist.history[\"val_loss\"]\n",
        "\n",
        "plt.plot(epochs, val_loss, \"b*\", label=\"Original model\")\n",
        "plt.plot(epochs, bloss, \"bo\", label=\"Bigger model\")\n",
        "plt.xlabel(\"Epochs\")\n",
        "plt.ylabel(\"Validation loss\")\n",
        "plt.legend()\n",
        "\n",
        "plt.show()\n"
      ],
      "execution_count": 11,
      "outputs": [
        {
          "output_type": "display_data",
          "data": {
            "image/png": "[encoded data removed]",
            "text/plain": [
              "<Figure size 432x288 with 1 Axes>"
            ]
          },
          "metadata": {
            "tags": [],
            "needs_background": "light"
          }
        }
      ]
    },
    {
      "cell_type": "markdown",
      "metadata": {
        "id": "orxQNdwgcy0U"
      },
      "source": [
        "크기가 커질수록 train loss는 거의 바로 0으로 수렴"
      ]
    },
    {
      "cell_type": "code",
      "metadata": {
        "colab": {
          "base_uri": "https://localhost:8080/",
          "height": 279
        },
        "id": "bp9tlevucjkQ",
        "outputId": "6e486232-cf7e-46d7-db08-c10886cf5950"
      },
      "source": [
        "loss = hist.history[\"loss\"]\n",
        "bloss = bhist.history[\"loss\"]\n",
        "\n",
        "plt.plot(epochs, loss, \"b*\", label=\"Original model\")\n",
        "plt.plot(epochs, bloss, \"bo\", label=\"Bigger model\")\n",
        "plt.xlabel(\"Epochs\")\n",
        "plt.ylabel(\"Validation loss\")\n",
        "plt.legend()\n",
        "\n",
        "plt.show()"
      ],
      "execution_count": 12,
      "outputs": [
        {
          "output_type": "display_data",
          "data": {
            "image/png": "[encoded data removed]",
            "text/plain": [
              "<Figure size 432x288 with 1 Axes>"
            ]
          },
          "metadata": {
            "tags": [],
            "needs_background": "light"
          }
        }
      ]
    },
    {
      "cell_type": "markdown",
      "metadata": {
        "id": "waAy9h4TgTIJ"
      },
      "source": [
        "## Adding weight regularization\n",
        "\n",
        "\n",
        "You may be familiar with _Occam's Razor_ principle: given two explanations for something, the explanation most likely to be correct is the \n",
        "\"simplest\" one, the one that makes the least amount of assumptions. This also applies to the models learned by neural networks: given some \n",
        "training data and a network architecture, there are multiple sets of weights values (multiple _models_) that could explain the data, and \n",
        "simpler models are less likely to overfit than complex ones.\n",
        "\n",
        "A \"simple model\" in this context is a model where the distribution of parameter values has less entropy (or a model with fewer \n",
        "parameters altogether, as we saw in the section above). Thus a common way to mitigate overfitting is to put constraints on the complexity \n",
        "of a network by forcing its weights to only take small values, which makes the distribution of weight values more \"regular\". This is called \n",
        "\"weight regularization\", and it is done by adding to the loss function of the network a _cost_ associated with having large weights. This \n",
        "cost comes in two flavors:\n",
        "\n",
        "* L1 regularization, where the cost added is proportional to the _absolute value of the weights coefficients_ (i.e. to what is called the \n",
        "\"L1 norm\" of the weights).\n",
        "* L2 regularization, where the cost added is proportional to the _square of the value of the weights coefficients_ (i.e. to what is called \n",
        "the \"L2 norm\" of the weights). L2 regularization is also called _weight decay_ in the context of neural networks. Don't let the different \n",
        "name confuse you: weight decay is mathematically the exact same as L2 regularization.\n",
        "\n",
        "In Keras, weight regularization is added by passing _weight regularizer instances_ to layers as keyword arguments. Let's add L2 weight \n",
        "regularization to our movie review classification network:"
      ]
    },
    {
      "cell_type": "code",
      "metadata": {
        "id": "yc2IgdUUgSkz"
      },
      "source": [
        "from tensorflow.keras import regularizers\n",
        "\n",
        "l2model = models.Sequential()\n",
        "l2model.add(layers.Dense(16, kernel_regularizer=regularizers.l2(0.001), activation=\"relu\", input_shape=(10000,)))\n",
        "l2model.add(layers.Dense(16, kernel_regularizer=regularizers.l2(0.001), activation=\"relu\"))\n",
        "l2model.add(layers.Dense(1, activation=\"sigmoid\"))"
      ],
      "execution_count": 13,
      "outputs": []
    },
    {
      "cell_type": "code",
      "metadata": {
        "id": "hVYyC08adBr_"
      },
      "source": [
        "l2model.compile(optimizer=\"rmsprop\", loss=\"binary_crossentropy\", metrics=[\"acc\"])"
      ],
      "execution_count": 14,
      "outputs": []
    },
    {
      "cell_type": "markdown",
      "metadata": {
        "id": "XdsxM-O4hGLO"
      },
      "source": [
        "`l2(0.001)`은 레이어의 가중 행렬의 모든 상관 계수가 더한다는거다 `0.001 * weight_coefficient_value` 네트워크의 토탈 loss에.\n",
        "이것은 단지 트레이닝 time에만 한정된다. 이 network의 loss는 test time 보다 training time에 더 크게된다."
      ]
    },
    {
      "cell_type": "code",
      "metadata": {
        "colab": {
          "base_uri": "https://localhost:8080/"
        },
        "id": "UfEX5E9OhEIY",
        "outputId": "a7346f14-1fd8-4c2c-c183-3a27019f0927"
      },
      "source": [
        "l2model_hist = l2model.fit(train_x, train_y, epochs=20, batch_size=512, validation_data=(test_x, test_y))"
      ],
      "execution_count": 15,
      "outputs": [
        {
          "output_type": "stream",
          "text": [
            "Epoch 1/20\n",
            "49/49 [==============================] - 2s 34ms/step - loss: 0.5942 - acc: 0.7494 - val_loss: 0.3813 - val_acc: 0.8810\n",
            "Epoch 2/20\n",
            "49/49 [==============================] - 1s 23ms/step - loss: 0.3215 - acc: 0.9073 - val_loss: 0.3362 - val_acc: 0.8856\n",
            "Epoch 3/20\n",
            "49/49 [==============================] - 1s 25ms/step - loss: 0.2615 - acc: 0.9262 - val_loss: 0.3694 - val_acc: 0.8642\n",
            "Epoch 4/20\n",
            "49/49 [==============================] - 1s 25ms/step - loss: 0.2356 - acc: 0.9344 - val_loss: 0.3288 - val_acc: 0.8873\n",
            "Epoch 5/20\n",
            "49/49 [==============================] - 1s 24ms/step - loss: 0.2213 - acc: 0.9404 - val_loss: 0.3352 - val_acc: 0.8850\n",
            "Epoch 6/20\n",
            "49/49 [==============================] - 1s 24ms/step - loss: 0.2136 - acc: 0.9444 - val_loss: 0.3765 - val_acc: 0.8697\n",
            "Epoch 7/20\n",
            "49/49 [==============================] - 1s 25ms/step - loss: 0.2092 - acc: 0.9449 - val_loss: 0.3521 - val_acc: 0.8796\n",
            "Epoch 8/20\n",
            "49/49 [==============================] - 1s 25ms/step - loss: 0.2051 - acc: 0.9477 - val_loss: 0.3608 - val_acc: 0.8769\n",
            "Epoch 9/20\n",
            "49/49 [==============================] - 1s 24ms/step - loss: 0.1953 - acc: 0.9511 - val_loss: 0.3680 - val_acc: 0.8758\n",
            "Epoch 10/20\n",
            "49/49 [==============================] - 1s 24ms/step - loss: 0.1888 - acc: 0.9527 - val_loss: 0.3737 - val_acc: 0.8742\n",
            "Epoch 11/20\n",
            "49/49 [==============================] - 1s 24ms/step - loss: 0.1879 - acc: 0.9558 - val_loss: 0.3953 - val_acc: 0.8685\n",
            "Epoch 12/20\n",
            "49/49 [==============================] - 1s 24ms/step - loss: 0.1882 - acc: 0.9546 - val_loss: 0.3845 - val_acc: 0.8727\n",
            "Epoch 13/20\n",
            "49/49 [==============================] - 1s 25ms/step - loss: 0.1842 - acc: 0.9536 - val_loss: 0.4100 - val_acc: 0.8638\n",
            "Epoch 14/20\n",
            "49/49 [==============================] - 1s 23ms/step - loss: 0.1803 - acc: 0.9564 - val_loss: 0.3987 - val_acc: 0.8716\n",
            "Epoch 15/20\n",
            "49/49 [==============================] - 1s 25ms/step - loss: 0.1724 - acc: 0.9602 - val_loss: 0.4047 - val_acc: 0.8690\n",
            "Epoch 16/20\n",
            "49/49 [==============================] - 1s 25ms/step - loss: 0.1784 - acc: 0.9572 - val_loss: 0.4304 - val_acc: 0.8620\n",
            "Epoch 17/20\n",
            "49/49 [==============================] - 1s 23ms/step - loss: 0.1734 - acc: 0.9596 - val_loss: 0.4374 - val_acc: 0.8624\n",
            "Epoch 18/20\n",
            "49/49 [==============================] - 1s 25ms/step - loss: 0.1725 - acc: 0.9600 - val_loss: 0.4321 - val_acc: 0.8667\n",
            "Epoch 19/20\n",
            "49/49 [==============================] - 1s 24ms/step - loss: 0.1691 - acc: 0.9621 - val_loss: 0.4151 - val_acc: 0.8669\n",
            "Epoch 20/20\n",
            "49/49 [==============================] - 1s 24ms/step - loss: 0.1641 - acc: 0.9635 - val_loss: 0.4243 - val_acc: 0.8663\n"
          ],
          "name": "stdout"
        }
      ]
    },
    {
      "cell_type": "code",
      "metadata": {
        "colab": {
          "base_uri": "https://localhost:8080/",
          "height": 281
        },
        "id": "nFCv4lhvh104",
        "outputId": "95662f06-5e8b-46c6-ccf8-9ef95f335b63"
      },
      "source": [
        "l2_val_loss = l2model_hist.history[\"val_loss\"]\n",
        "plt.plot(epochs, val_loss, \"b*\", label=\"Original model\")\n",
        "plt.plot(epochs, l2_val_loss, \"bo\", label=\"L2 model\")\n",
        "plt.xlabel(\"Epochs\")\n",
        "plt.ylabel(\"Validation loss\")\n",
        "plt.legend()\n",
        "\n",
        "plt.show()"
      ],
      "execution_count": 16,
      "outputs": [
        {
          "output_type": "display_data",
          "data": {
            "image/png": "[encoded data removed]",
            "text/plain": [
              "<Figure size 432x288 with 1 Axes>"
            ]
          },
          "metadata": {
            "tags": [],
            "needs_background": "light"
          }
        }
      ]
    },
    {
      "cell_type": "code",
      "metadata": {
        "colab": {
          "base_uri": "https://localhost:8080/"
        },
        "id": "jCiJIdUdi1iI",
        "outputId": "0548a8ef-783e-43f5-9a69-9969cf9f7880"
      },
      "source": [
        "regularizers.l1(0.001)\n",
        "\n",
        "regularizers.l1_l2(l1=0.001, l2=0.001)\n"
      ],
      "execution_count": 17,
      "outputs": [
        {
          "output_type": "execute_result",
          "data": {
            "text/plain": [
              "<tensorflow.python.keras.regularizers.L1L2 at 0x7fbca08bc210>"
            ]
          },
          "metadata": {
            "tags": []
          },
          "execution_count": 17
        }
      ]
    },
    {
      "cell_type": "markdown",
      "metadata": {
        "id": "1ABYlqKojAmB"
      },
      "source": [
        "# Adding DropOut\n",
        "Dropout은 가장 효과적인 규제 방법이다. 레이어에 적용되어 랜덤하게 아웃풋 피처들을 제거한다 트레이닝 시간에.대개 0.2 또는 0.5로 설정한다."
      ]
    },
    {
      "cell_type": "code",
      "metadata": {
        "id": "9YHbyP5ei-y5"
      },
      "source": [
        "dpt_model = models.Sequential()\n",
        "dpt_model.add(layers.Dense(16, activation='relu', input_shape=(10000,)))\n",
        "dpt_model.add(layers.Dropout(0.5))\n",
        "dpt_model.add(layers.Dense(16, activation='relu'))\n",
        "dpt_model.add(layers.Dropout(0.5))\n",
        "dpt_model.add(layers.Dense(1, activation='sigmoid'))\n",
        "\n",
        "dpt_model.compile(optimizer='rmsprop',\n",
        "                  loss='binary_crossentropy',\n",
        "                  metrics=['acc'])"
      ],
      "execution_count": 19,
      "outputs": []
    },
    {
      "cell_type": "code",
      "metadata": {
        "colab": {
          "base_uri": "https://localhost:8080/"
        },
        "id": "rAGKFIvGjiM_",
        "outputId": "4880d7a8-5943-4246-c0bb-0e1c7d98d6f6"
      },
      "source": [
        "dpt_model_hist = dpt_model.fit(train_x,train_y,\n",
        "                               epochs=20,\n",
        "                               batch_size=512,\n",
        "                               validation_data=(test_x, test_y))"
      ],
      "execution_count": 21,
      "outputs": [
        {
          "output_type": "stream",
          "text": [
            "Epoch 1/20\n",
            "49/49 [==============================] - 2s 35ms/step - loss: 0.6236 - acc: 0.6437 - val_loss: 0.4280 - val_acc: 0.8649\n",
            "Epoch 2/20\n",
            "49/49 [==============================] - 1s 24ms/step - loss: 0.4388 - acc: 0.8223 - val_loss: 0.3246 - val_acc: 0.8851\n",
            "Epoch 3/20\n",
            "49/49 [==============================] - 1s 24ms/step - loss: 0.3489 - acc: 0.8706 - val_loss: 0.2964 - val_acc: 0.8870\n",
            "Epoch 4/20\n",
            "49/49 [==============================] - 1s 25ms/step - loss: 0.2856 - acc: 0.9037 - val_loss: 0.2777 - val_acc: 0.8893\n",
            "Epoch 5/20\n",
            "49/49 [==============================] - 1s 25ms/step - loss: 0.2455 - acc: 0.9206 - val_loss: 0.2877 - val_acc: 0.8879\n",
            "Epoch 6/20\n",
            "49/49 [==============================] - 1s 24ms/step - loss: 0.2170 - acc: 0.9291 - val_loss: 0.2932 - val_acc: 0.8852\n",
            "Epoch 7/20\n",
            "49/49 [==============================] - 1s 24ms/step - loss: 0.2072 - acc: 0.9328 - val_loss: 0.3143 - val_acc: 0.8854\n",
            "Epoch 8/20\n",
            "49/49 [==============================] - 1s 25ms/step - loss: 0.1762 - acc: 0.9438 - val_loss: 0.3476 - val_acc: 0.8823\n",
            "Epoch 9/20\n",
            "49/49 [==============================] - 1s 25ms/step - loss: 0.1647 - acc: 0.9459 - val_loss: 0.3471 - val_acc: 0.8816\n",
            "Epoch 10/20\n",
            "49/49 [==============================] - 1s 25ms/step - loss: 0.1447 - acc: 0.9545 - val_loss: 0.3911 - val_acc: 0.8794\n",
            "Epoch 11/20\n",
            "49/49 [==============================] - 1s 24ms/step - loss: 0.1437 - acc: 0.9532 - val_loss: 0.4043 - val_acc: 0.8801\n",
            "Epoch 12/20\n",
            "49/49 [==============================] - 1s 25ms/step - loss: 0.1427 - acc: 0.9568 - val_loss: 0.4225 - val_acc: 0.8787\n",
            "Epoch 13/20\n",
            "49/49 [==============================] - 1s 25ms/step - loss: 0.1303 - acc: 0.9584 - val_loss: 0.4530 - val_acc: 0.8757\n",
            "Epoch 14/20\n",
            "49/49 [==============================] - 1s 24ms/step - loss: 0.1286 - acc: 0.9603 - val_loss: 0.4553 - val_acc: 0.8758\n",
            "Epoch 15/20\n",
            "49/49 [==============================] - 1s 25ms/step - loss: 0.1202 - acc: 0.9644 - val_loss: 0.4743 - val_acc: 0.8742\n",
            "Epoch 16/20\n",
            "49/49 [==============================] - 1s 25ms/step - loss: 0.1133 - acc: 0.9674 - val_loss: 0.4953 - val_acc: 0.8746\n",
            "Epoch 17/20\n",
            "49/49 [==============================] - 1s 24ms/step - loss: 0.1072 - acc: 0.9682 - val_loss: 0.5472 - val_acc: 0.8750\n",
            "Epoch 18/20\n",
            "49/49 [==============================] - 1s 24ms/step - loss: 0.1043 - acc: 0.9699 - val_loss: 0.5598 - val_acc: 0.8726\n",
            "Epoch 19/20\n",
            "49/49 [==============================] - 1s 25ms/step - loss: 0.1047 - acc: 0.9718 - val_loss: 0.6212 - val_acc: 0.8713\n",
            "Epoch 20/20\n",
            "49/49 [==============================] - 1s 25ms/step - loss: 0.1039 - acc: 0.9698 - val_loss: 0.6093 - val_acc: 0.8703\n"
          ],
          "name": "stdout"
        }
      ]
    },
    {
      "cell_type": "code",
      "metadata": {
        "colab": {
          "base_uri": "https://localhost:8080/",
          "height": 281
        },
        "id": "-Ngv7lnnjum3",
        "outputId": "6b38e24d-482d-44ec-e939-572f46fc21e5"
      },
      "source": [
        "dpt_loss = dpt_model_hist.history[\"val_loss\"]\n",
        "\n",
        "plt.plot(epochs, val_loss, \"b*\", label=\"Original model\")\n",
        "plt.plot(epochs, dpt_loss, \"bo\", label=\"Dropout model\")\n",
        "plt.xlabel(\"Epochs\")\n",
        "plt.ylabel(\"Validation Loss\")\n",
        "plt.legend()\n",
        "\n",
        "plt.show()"
      ],
      "execution_count": 22,
      "outputs": [
        {
          "output_type": "display_data",
          "data": {
            "image/png": "[encoded data removed]",
            "text/plain": [
              "<Figure size 432x288 with 1 Axes>"
            ]
          },
          "metadata": {
            "tags": [],
            "needs_background": "light"
          }
        }
      ]
    },
    {
      "cell_type": "markdown",
      "metadata": {
        "id": "eUxm3S48kM7I"
      },
      "source": [
        "\n",
        "Again, a clear improvement over the reference network.\n",
        "\n",
        "To recap: here the most common ways to prevent overfitting in neural networks:\n",
        "\n",
        "* Getting more training data.\n",
        "* Reducing the capacity of the network.\n",
        "* Adding weight regularization.\n",
        "* Adding dropout."
      ]
    },
    {
      "cell_type": "code",
      "metadata": {
        "id": "os_Kdgu4kISl"
      },
      "source": [
        ""
      ],
      "execution_count": null,
      "outputs": []
    }
  ]
}