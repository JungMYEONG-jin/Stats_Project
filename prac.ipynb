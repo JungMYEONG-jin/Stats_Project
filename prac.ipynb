{
 "cells": [
  {
   "cell_type": "markdown",
   "metadata": {},
   "source": [
    "# 수식연습하기~\n",
    "\n",
    "### Euler's identity: $ e^{i \\pi} + 1 = 0 $\n",
    "\n",
    "### $\\pi = 3.14$, $\\alpha = \\frac{3\\pi}{4}\\, rad$\n",
    "\n",
    "\n",
    "\n",
    "\n",
    "\n",
    "### 삼각함수와 log\n",
    "$$\n",
    "\\sin(-\\alpha)= -sin(\\alpha)\\\\\n",
    "\\log_n(n)=1\\\\\n",
    "\\tan(x)=\\frac{\\sin(x)}{\\cos(x)}\n",
    "$$"
   ]
  }
 ],
 "metadata": {
  "kernelspec": {
   "display_name": "Python 3",
   "language": "python",
   "name": "python3"
  },
  "language_info": {
   "codemirror_mode": {
    "name": "ipython",
    "version": 3
   },
   "file_extension": ".py",
   "mimetype": "text/x-python",
   "name": "python",
   "nbconvert_exporter": "python",
   "pygments_lexer": "ipython3",
   "version": "3.8.3"
  }
 },
 "nbformat": 4,
 "nbformat_minor": 4
}
