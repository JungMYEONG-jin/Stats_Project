{
  "nbformat": 4,
  "nbformat_minor": 0,
  "metadata": {
    "colab": {
      "name": "week11.ipynb",
      "provenance": [],
      "collapsed_sections": [],
      "authorship_tag": "ABX9TyNBhHnJG6+5lpn0gGLXZ58Y",
      "include_colab_link": true
    },
    "kernelspec": {
      "name": "python3",
      "display_name": "Python 3"
    },
    "language_info": {
      "name": "python"
    },
    "accelerator": "GPU"
  },
  "cells": [
    {
      "cell_type": "markdown",
      "metadata": {
        "id": "view-in-github",
        "colab_type": "text"
      },
      "source": [
        "<a href=\"https://colab.research.google.com/github/JungMYEONG-jin/Stats_Project/blob/window/week11.ipynb\" target=\"_parent\"><img src=\"https://colab.research.google.com/assets/colab-badge.svg\" alt=\"Open In Colab\"/></a>"
      ]
    },
    {
      "cell_type": "markdown",
      "metadata": {
        "id": "N6gQULtNDaXY"
      },
      "source": [
        "# Using a pre-trained convnet\n",
        "\n",
        "This notebook contains the code sample found in Chapter 5, Section 3 of [Deep Learning with Python](https://www.manning.com/books/deep-learning-with-python?a_aid=keras&a_bid=76564dff). Note that the original text features far more content, in particular further explanations and figures: in this notebook, you will only find source code and related comments.\n",
        "\n",
        "----\n",
        "\n",
        "A common and highly effective approach to deep learning on small image datasets is to leverage a pre-trained network. A pre-trained network \n",
        "is simply a saved network previously trained on a large dataset, typically on a large-scale image classification task. If this original \n",
        "dataset is large enough and general enough, then the spatial feature hierarchy learned by the pre-trained network can effectively act as a \n",
        "generic model of our visual world, and hence its features can prove useful for many different computer vision problems, even though these \n",
        "new problems might involve completely different classes from those of the original task. For instance, one might train a network on \n",
        "ImageNet (where classes are mostly animals and everyday objects) and then re-purpose this trained network for something as remote as \n",
        "identifying furniture items in images. Such portability of learned features across different problems is a key advantage of deep learning \n",
        "compared to many older shallow learning approaches, and it makes deep learning very effective for small-data problems.\n",
        "\n",
        "In our case, we will consider a large convnet trained on the ImageNet dataset (1.4 million labeled images and 1000 different classes). \n",
        "ImageNet contains many animal classes, including different species of cats and dogs, and we can thus expect to perform very well on our cat \n",
        "vs. dog classification problem.\n",
        "\n",
        "We will use the VGG16 architecture, developed by Karen Simonyan and Andrew Zisserman in 2014, a simple and widely used convnet architecture \n",
        "for ImageNet. Although it is a bit of an older model, far from the current state of the art and somewhat heavier than many other recent \n",
        "models, we chose it because its architecture is similar to what you are already familiar with, and easy to understand without introducing \n",
        "any new concepts. This may be your first encounter with one of these cutesie model names -- VGG, ResNet, Inception, Inception-ResNet, \n",
        "Xception... you will get used to them, as they will come up frequently if you keep doing deep learning for computer vision.\n",
        "\n",
        "There are two ways to leverage a pre-trained network: *feature extraction* and *fine-tuning*. We will cover both of them. Let's start with \n",
        "feature extraction."
      ]
    },
    {
      "cell_type": "code",
      "metadata": {
        "id": "myjpCvIpDe7n"
      },
      "source": [
        "import tensorflow"
      ],
      "execution_count": null,
      "outputs": []
    },
    {
      "cell_type": "markdown",
      "metadata": {
        "id": "87_Fmf2zDmH2"
      },
      "source": [
        "## Feature extraction\n",
        "\n",
        "Feature extraction consists of using the representations learned by a previous network to extract interesting features from new samples. \n",
        "These features are then run through a new classifier, which is trained from scratch.\n",
        "\n",
        "As we saw previously, convnets used for image classification comprise two parts: they start with a series of pooling and convolution \n",
        "layers, and they end with a densely-connected classifier. The first part is called the \"convolutional base\" of the model. In the case of \n",
        "convnets, \"feature extraction\" will simply consist of taking the convolutional base of a previously-trained network, running the new data \n",
        "through it, and training a new classifier on top of the output.\n",
        "\n",
        "![swapping FC classifiers](https://s3.amazonaws.com/book.keras.io/img/ch5/swapping_fc_classifier.png)\n",
        "\n",
        "Why only reuse the convolutional base? Could we reuse the densely-connected classifier as well? In general, it should be avoided. The \n",
        "reason is simply that the representations learned by the convolutional base are likely to be more generic and therefore more reusable: the \n",
        "feature maps of a convnet are presence maps of generic concepts over a picture, which is likely to be useful regardless of the computer \n",
        "vision problem at hand. On the other end, the representations learned by the classifier will necessarily be very specific to the set of \n",
        "classes that the model was trained on -- they will only contain information about the presence probability of this or that class in the \n",
        "entire picture. Additionally, representations found in densely-connected layers no longer contain any information about _where_ objects are \n",
        "located in the input image: these layers get rid of the notion of space, whereas the object location is still described by convolutional \n",
        "feature maps. For problems where object location matters, densely-connected features would be largely useless.\n",
        "\n",
        "Note that the level of generality (and therefore reusability) of the representations extracted by specific convolution layers depends on \n",
        "the depth of the layer in the model. Layers that come earlier in the model extract local, highly generic feature maps (such as visual \n",
        "edges, colors, and textures), while layers higher-up extract more abstract concepts (such as \"cat ear\" or \"dog eye\"). So if your new \n",
        "dataset differs a lot from the dataset that the original model was trained on, you may be better off using only the first few layers of the \n",
        "model to do feature extraction, rather than using the entire convolutional base.\n",
        "\n",
        "In our case, since the ImageNet class set did contain multiple dog and cat classes, it is likely that it would be beneficial to reuse the \n",
        "information contained in the densely-connected layers of the original model. However, we will chose not to, in order to cover the more \n",
        "general case where the class set of the new problem does not overlap with the class set of the original model."
      ]
    },
    {
      "cell_type": "markdown",
      "metadata": {
        "id": "qKqmhzxgD0HQ"
      },
      "source": [
        "Let's put this in practice by using the convolutional base of the VGG16 network, trained on ImageNet, to extract interesting features from \n",
        "our cat and dog images, and then training a cat vs. dog classifier on top of these features.\n",
        "\n",
        "The VGG16 model, among others, comes pre-packaged with Keras. You can import it from the `keras.applications` module. Here's the list of \n",
        "image classification models (all pre-trained on the ImageNet dataset) that are available as part of `keras.applications`:\n",
        "\n",
        "* Xception\n",
        "* InceptionV3\n",
        "* ResNet50\n",
        "* VGG16\n",
        "* VGG19\n",
        "* MobileNet\n",
        "\n",
        "Let's instantiate the VGG16 model:"
      ]
    },
    {
      "cell_type": "code",
      "metadata": {
        "colab": {
          "base_uri": "https://localhost:8080/"
        },
        "id": "zYNGQCE1DjPY",
        "outputId": "5312711f-b757-4ad3-83cf-a0737e7011f3"
      },
      "source": [
        "from tensorflow.keras.applications import VGG16\n",
        "\n",
        "base = VGG16(weights=\"imagenet\", include_top=False, input_shape=(150,150,3))"
      ],
      "execution_count": null,
      "outputs": [
        {
          "output_type": "stream",
          "text": [
            "Downloading data from https://storage.googleapis.com/tensorflow/keras-applications/vgg16/vgg16_weights_tf_dim_ordering_tf_kernels_notop.h5\n",
            "58892288/58889256 [==============================] - 1s 0us/step\n"
          ],
          "name": "stdout"
        }
      ]
    },
    {
      "cell_type": "markdown",
      "metadata": {
        "id": "nqVmslcNEetK"
      },
      "source": [
        "We passed three arguments to the constructor:\n",
        "\n",
        "* `weights`, to specify which weight checkpoint to initialize the model from\n",
        "* `include_top`, which refers to including or not the densely-connected classifier on top of the network. By default, this \n",
        "densely-connected classifier would correspond to the 1000 classes from ImageNet. Since we intend to use our own densely-connected \n",
        "classifier (with only two classes, cat and dog), we don't need to include it.\n",
        "* `input_shape`, the shape of the image tensors that we will feed to the network. This argument is purely optional: if we don't pass it, \n",
        "then the network will be able to process inputs of any size.\n",
        "\n",
        "Here's the detail of the architecture of the VGG16 convolutional base: it's very similar to the simple convnets that you are already \n",
        "familiar with."
      ]
    },
    {
      "cell_type": "code",
      "metadata": {
        "colab": {
          "base_uri": "https://localhost:8080/"
        },
        "id": "OVy-qjNOEBd-",
        "outputId": "166c0ce4-e727-45fd-df73-c2e1b07ff48e"
      },
      "source": [
        "base.summary()"
      ],
      "execution_count": null,
      "outputs": [
        {
          "output_type": "stream",
          "text": [
            "Model: \"vgg16\"\n",
            "_________________________________________________________________\n",
            "Layer (type)                 Output Shape              Param #   \n",
            "=================================================================\n",
            "input_1 (InputLayer)         [(None, 150, 150, 3)]     0         \n",
            "_________________________________________________________________\n",
            "block1_conv1 (Conv2D)        (None, 150, 150, 64)      1792      \n",
            "_________________________________________________________________\n",
            "block1_conv2 (Conv2D)        (None, 150, 150, 64)      36928     \n",
            "_________________________________________________________________\n",
            "block1_pool (MaxPooling2D)   (None, 75, 75, 64)        0         \n",
            "_________________________________________________________________\n",
            "block2_conv1 (Conv2D)        (None, 75, 75, 128)       73856     \n",
            "_________________________________________________________________\n",
            "block2_conv2 (Conv2D)        (None, 75, 75, 128)       147584    \n",
            "_________________________________________________________________\n",
            "block2_pool (MaxPooling2D)   (None, 37, 37, 128)       0         \n",
            "_________________________________________________________________\n",
            "block3_conv1 (Conv2D)        (None, 37, 37, 256)       295168    \n",
            "_________________________________________________________________\n",
            "block3_conv2 (Conv2D)        (None, 37, 37, 256)       590080    \n",
            "_________________________________________________________________\n",
            "block3_conv3 (Conv2D)        (None, 37, 37, 256)       590080    \n",
            "_________________________________________________________________\n",
            "block3_pool (MaxPooling2D)   (None, 18, 18, 256)       0         \n",
            "_________________________________________________________________\n",
            "block4_conv1 (Conv2D)        (None, 18, 18, 512)       1180160   \n",
            "_________________________________________________________________\n",
            "block4_conv2 (Conv2D)        (None, 18, 18, 512)       2359808   \n",
            "_________________________________________________________________\n",
            "block4_conv3 (Conv2D)        (None, 18, 18, 512)       2359808   \n",
            "_________________________________________________________________\n",
            "block4_pool (MaxPooling2D)   (None, 9, 9, 512)         0         \n",
            "_________________________________________________________________\n",
            "block5_conv1 (Conv2D)        (None, 9, 9, 512)         2359808   \n",
            "_________________________________________________________________\n",
            "block5_conv2 (Conv2D)        (None, 9, 9, 512)         2359808   \n",
            "_________________________________________________________________\n",
            "block5_conv3 (Conv2D)        (None, 9, 9, 512)         2359808   \n",
            "_________________________________________________________________\n",
            "block5_pool (MaxPooling2D)   (None, 4, 4, 512)         0         \n",
            "=================================================================\n",
            "Total params: 14,714,688\n",
            "Trainable params: 14,714,688\n",
            "Non-trainable params: 0\n",
            "_________________________________________________________________\n"
          ],
          "name": "stdout"
        }
      ]
    },
    {
      "cell_type": "markdown",
      "metadata": {
        "id": "c_PoMZKsFFlW"
      },
      "source": [
        "The final feature map has shape `(4, 4, 512)`. That's the feature on top of which we will stick a densely-connected classifier.\n",
        "\n",
        "At this point, there are two ways we could proceed: \n",
        "\n",
        "* Running the convolutional base over our dataset, recording its output to a Numpy array on disk, then using this data as input to a \n",
        "standalone densely-connected classifier similar to those you have seen in the first chapters of this book. This solution is very fast and \n",
        "cheap to run, because it only requires running the convolutional base once for every input image, and the convolutional base is by far the \n",
        "most expensive part of the pipeline. However, for the exact same reason, this technique would not allow us to leverage data augmentation at \n",
        "all.\n",
        "* Extending the model we have (`conv_base`) by adding `Dense` layers on top, and running the whole thing end-to-end on the input data. This \n",
        "allows us to use data augmentation, because every input image is going through the convolutional base every time it is seen by the model. \n",
        "However, for this same reason, this technique is far more expensive than the first one.\n",
        "\n",
        "We will cover both techniques. Let's walk through the code required to set-up the first one: recording the output of `conv_base` on our \n",
        "data and using these outputs as inputs to a new model.\n",
        "\n",
        "We will start by simply running instances of the previously-introduced `ImageDataGenerator` to extract images as Numpy arrays as well as \n",
        "their labels. We will extract features from these images simply by calling the `predict` method of the `conv_base` model."
      ]
    },
    {
      "cell_type": "code",
      "metadata": {
        "id": "zd0NpcfhEP6I"
      },
      "source": [
        "import os\n",
        "import numpy as np\n",
        "from tensorflow.keras.preprocessing.image import ImageDataGenerator"
      ],
      "execution_count": null,
      "outputs": []
    },
    {
      "cell_type": "code",
      "metadata": {
        "colab": {
          "base_uri": "https://localhost:8080/"
        },
        "id": "b-O2rrvMFHF4",
        "outputId": "c65d3da8-7846-477e-dc2d-73ea1332045a"
      },
      "source": [
        "url = 'https://storage.googleapis.com/mledu-datasets/cats_and_dogs_filtered.zip'\n",
        "zip = tensorflow.keras.utils.get_file('cats_and_dogs.zip', origin=url, extract=True)\n",
        "path = os.path.join(os.path.dirname(zip), 'cats_and_dogs_filtered')\n",
        "\n",
        "train_dir = os.path.join(path, 'train')\n",
        "valid_dir = os.path.join(path, 'validation')\n",
        "\n",
        "train_cats_dir = os.path.join(train_dir, 'cats')\n",
        "train_dogs_dir = os.path.join(train_dir, 'dogs')\n",
        "valid_cats_dir = os.path.join(valid_dir, 'cats')\n",
        "valid_dogs_dir = os.path.join(valid_dir, 'dogs')\n"
      ],
      "execution_count": null,
      "outputs": [
        {
          "output_type": "stream",
          "text": [
            "Downloading data from https://storage.googleapis.com/mledu-datasets/cats_and_dogs_filtered.zip\n",
            "68608000/68606236 [==============================] - 2s 0us/step\n"
          ],
          "name": "stdout"
        }
      ]
    },
    {
      "cell_type": "code",
      "metadata": {
        "colab": {
          "base_uri": "https://localhost:8080/"
        },
        "id": "wwn1oyCzF1-4",
        "outputId": "51658607-01b6-4560-ac20-85f487b4ebc3"
      },
      "source": [
        "os.listdir(path)"
      ],
      "execution_count": null,
      "outputs": [
        {
          "output_type": "execute_result",
          "data": {
            "text/plain": [
              "['validation', 'train', 'vectorize.py']"
            ]
          },
          "metadata": {
            "tags": []
          },
          "execution_count": 7
        }
      ]
    },
    {
      "cell_type": "code",
      "metadata": {
        "id": "l9JjHeC7F6AX"
      },
      "source": [
        "datagen = ImageDataGenerator(rescale=1./255)\n",
        "batch_size = 20\n",
        "\n",
        "def extract_feature(dir, sample_count):\n",
        "  features = np.zeros(shape=(sample_count, 4, 4, 512))\n",
        "  labels = np.zeros(shape=(sample_count))\n",
        "  generator = datagen.flow_from_directory(dir, target_size=(150,150), batch_size = batch_size, class_mode='binary')\n",
        "  i=0\n",
        "  for input_b, labels_b in generator:\n",
        "    features_b = base.predict(input_b)\n",
        "    features[i*batch_size:(i+1)*batch_size] = features_b\n",
        "    labels[i*batch_size:(i+1)*batch_size] = labels_b\n",
        "    i+=1\n",
        "    if i*batch_size>=sample_count:\n",
        "      break\n",
        "  return features, labels\n",
        "\n"
      ],
      "execution_count": null,
      "outputs": []
    },
    {
      "cell_type": "code",
      "metadata": {
        "colab": {
          "base_uri": "https://localhost:8080/"
        },
        "id": "4cQ5slilG58r",
        "outputId": "83113bea-2f9c-4749-bf7a-177196f1952c"
      },
      "source": [
        "train_features, train_labels = extract_feature(train_dir, 2000)\n",
        "valid_features, valid_labels = extract_feature(valid_dir, 1000)\n"
      ],
      "execution_count": null,
      "outputs": [
        {
          "output_type": "stream",
          "text": [
            "Found 2000 images belonging to 2 classes.\n",
            "Found 1000 images belonging to 2 classes.\n"
          ],
          "name": "stdout"
        }
      ]
    },
    {
      "cell_type": "code",
      "metadata": {
        "colab": {
          "base_uri": "https://localhost:8080/"
        },
        "id": "Rgr854GIHHly",
        "outputId": "87bb33da-66bf-43b2-dcc3-62041def4e00"
      },
      "source": [
        "train_features.shape"
      ],
      "execution_count": null,
      "outputs": [
        {
          "output_type": "execute_result",
          "data": {
            "text/plain": [
              "(2000, 4, 4, 512)"
            ]
          },
          "metadata": {
            "tags": []
          },
          "execution_count": 13
        }
      ]
    },
    {
      "cell_type": "markdown",
      "metadata": {
        "id": "GuD9MxASIBJ9"
      },
      "source": [
        "The extracted features are currently of shape `(samples, 4, 4, 512)`. We will feed them to a densely-connected classifier, so first we must \n",
        "flatten them to `(samples, 8192)`:"
      ]
    },
    {
      "cell_type": "code",
      "metadata": {
        "id": "n8NpsqLdHXZ-"
      },
      "source": [
        "train_features = np.reshape(train_features, (2000, 4*4*512))\n",
        "valid_features = np.reshape(valid_features, (1000, 4*4*512))"
      ],
      "execution_count": null,
      "outputs": []
    },
    {
      "cell_type": "code",
      "metadata": {
        "colab": {
          "base_uri": "https://localhost:8080/"
        },
        "id": "3T1HHlOGH2LB",
        "outputId": "b4f115db-07f2-45e0-8156-7106871ad343"
      },
      "source": [
        "train_features.shape"
      ],
      "execution_count": null,
      "outputs": [
        {
          "output_type": "execute_result",
          "data": {
            "text/plain": [
              "(2000, 8192)"
            ]
          },
          "metadata": {
            "tags": []
          },
          "execution_count": 17
        }
      ]
    },
    {
      "cell_type": "markdown",
      "metadata": {
        "id": "_m4GB8QCIEd8"
      },
      "source": [
        "At this point, we can define our densely-connected classifier (note the use of dropout for regularization), and train it on the data and \n",
        "labels that we just recorded:"
      ]
    },
    {
      "cell_type": "code",
      "metadata": {
        "id": "iNn5zvmPH6GJ"
      },
      "source": [
        "from tensorflow.keras import models\n",
        "from tensorflow.keras import layers\n",
        "from tensorflow.keras import optimizers"
      ],
      "execution_count": null,
      "outputs": []
    },
    {
      "cell_type": "markdown",
      "metadata": {
        "id": "Arkp92_kIIGG"
      },
      "source": [
        "# Build Model"
      ]
    },
    {
      "cell_type": "code",
      "metadata": {
        "colab": {
          "base_uri": "https://localhost:8080/"
        },
        "id": "dTz8G-YCIHXp",
        "outputId": "c9c3b12e-cccf-40b9-cf2c-5d3794921c0f"
      },
      "source": [
        "model = models.Sequential()\n",
        "model.add(layers.Dense(256, activation=\"relu\", input_dim=4*4*512))\n",
        "model.add(layers.Dropout(0.5))\n",
        "model.add(layers.Dense(1, activation=\"sigmoid\"))\n",
        "\n",
        "model.compile(optimizer=optimizers.RMSprop(lr=2e-5), loss=\"binary_crossentropy\", metrics=[\"acc\"])\n",
        "\n",
        "history = model.fit(train_features, train_labels, epochs=30, batch_size=20, validation_data = (valid_features, valid_labels))"
      ],
      "execution_count": null,
      "outputs": [
        {
          "output_type": "stream",
          "text": [
            "Epoch 1/30\n",
            "100/100 [==============================] - 2s 9ms/step - loss: 0.6589 - acc: 0.6196 - val_loss: 0.4247 - val_acc: 0.8370\n",
            "Epoch 2/30\n",
            "100/100 [==============================] - 1s 6ms/step - loss: 0.4533 - acc: 0.7902 - val_loss: 0.3563 - val_acc: 0.8550\n",
            "Epoch 3/30\n",
            "100/100 [==============================] - 1s 6ms/step - loss: 0.3633 - acc: 0.8436 - val_loss: 0.3255 - val_acc: 0.8680\n",
            "Epoch 4/30\n",
            "100/100 [==============================] - 1s 6ms/step - loss: 0.3151 - acc: 0.8729 - val_loss: 0.3072 - val_acc: 0.8720\n",
            "Epoch 5/30\n",
            "100/100 [==============================] - 1s 6ms/step - loss: 0.2766 - acc: 0.8807 - val_loss: 0.2981 - val_acc: 0.8720\n",
            "Epoch 6/30\n",
            "100/100 [==============================] - 1s 6ms/step - loss: 0.2584 - acc: 0.8911 - val_loss: 0.2868 - val_acc: 0.8730\n",
            "Epoch 7/30\n",
            "100/100 [==============================] - 1s 6ms/step - loss: 0.2349 - acc: 0.9091 - val_loss: 0.2790 - val_acc: 0.8820\n",
            "Epoch 8/30\n",
            "100/100 [==============================] - 1s 6ms/step - loss: 0.2317 - acc: 0.9090 - val_loss: 0.2774 - val_acc: 0.8730\n",
            "Epoch 9/30\n",
            "100/100 [==============================] - 1s 6ms/step - loss: 0.2267 - acc: 0.9114 - val_loss: 0.2755 - val_acc: 0.8750\n",
            "Epoch 10/30\n",
            "100/100 [==============================] - 1s 6ms/step - loss: 0.1855 - acc: 0.9314 - val_loss: 0.2664 - val_acc: 0.8840\n",
            "Epoch 11/30\n",
            "100/100 [==============================] - 1s 6ms/step - loss: 0.1816 - acc: 0.9304 - val_loss: 0.2663 - val_acc: 0.8840\n",
            "Epoch 12/30\n",
            "100/100 [==============================] - 1s 6ms/step - loss: 0.1855 - acc: 0.9378 - val_loss: 0.2682 - val_acc: 0.8810\n",
            "Epoch 13/30\n",
            "100/100 [==============================] - 1s 6ms/step - loss: 0.1836 - acc: 0.9480 - val_loss: 0.2643 - val_acc: 0.8790\n",
            "Epoch 14/30\n",
            "100/100 [==============================] - 1s 6ms/step - loss: 0.1685 - acc: 0.9404 - val_loss: 0.2623 - val_acc: 0.8860\n",
            "Epoch 15/30\n",
            "100/100 [==============================] - 1s 6ms/step - loss: 0.1606 - acc: 0.9387 - val_loss: 0.2620 - val_acc: 0.8820\n",
            "Epoch 16/30\n",
            "100/100 [==============================] - 1s 6ms/step - loss: 0.1468 - acc: 0.9530 - val_loss: 0.2608 - val_acc: 0.8830\n",
            "Epoch 17/30\n",
            "100/100 [==============================] - 1s 6ms/step - loss: 0.1416 - acc: 0.9523 - val_loss: 0.2593 - val_acc: 0.8860\n",
            "Epoch 18/30\n",
            "100/100 [==============================] - 1s 6ms/step - loss: 0.1429 - acc: 0.9512 - val_loss: 0.2597 - val_acc: 0.8890\n",
            "Epoch 19/30\n",
            "100/100 [==============================] - 1s 6ms/step - loss: 0.1362 - acc: 0.9594 - val_loss: 0.2585 - val_acc: 0.8840\n",
            "Epoch 20/30\n",
            "100/100 [==============================] - 1s 6ms/step - loss: 0.1254 - acc: 0.9534 - val_loss: 0.2576 - val_acc: 0.8880\n",
            "Epoch 21/30\n",
            "100/100 [==============================] - 1s 6ms/step - loss: 0.1113 - acc: 0.9582 - val_loss: 0.2611 - val_acc: 0.8860\n",
            "Epoch 22/30\n",
            "100/100 [==============================] - 1s 6ms/step - loss: 0.1167 - acc: 0.9634 - val_loss: 0.2624 - val_acc: 0.8860\n",
            "Epoch 23/30\n",
            "100/100 [==============================] - 1s 6ms/step - loss: 0.1233 - acc: 0.9580 - val_loss: 0.2621 - val_acc: 0.8850\n",
            "Epoch 24/30\n",
            "100/100 [==============================] - 1s 6ms/step - loss: 0.0968 - acc: 0.9701 - val_loss: 0.2573 - val_acc: 0.8870\n",
            "Epoch 25/30\n",
            "100/100 [==============================] - 1s 6ms/step - loss: 0.1044 - acc: 0.9709 - val_loss: 0.2588 - val_acc: 0.8860\n",
            "Epoch 26/30\n",
            "100/100 [==============================] - 1s 6ms/step - loss: 0.0918 - acc: 0.9747 - val_loss: 0.2603 - val_acc: 0.8830\n",
            "Epoch 27/30\n",
            "100/100 [==============================] - 1s 6ms/step - loss: 0.0987 - acc: 0.9701 - val_loss: 0.2617 - val_acc: 0.8850\n",
            "Epoch 28/30\n",
            "100/100 [==============================] - 1s 6ms/step - loss: 0.0965 - acc: 0.9699 - val_loss: 0.2611 - val_acc: 0.8850\n",
            "Epoch 29/30\n",
            "100/100 [==============================] - 1s 6ms/step - loss: 0.0840 - acc: 0.9728 - val_loss: 0.2605 - val_acc: 0.8860\n",
            "Epoch 30/30\n",
            "100/100 [==============================] - 1s 6ms/step - loss: 0.0866 - acc: 0.9734 - val_loss: 0.2610 - val_acc: 0.8900\n"
          ],
          "name": "stdout"
        }
      ]
    },
    {
      "cell_type": "markdown",
      "metadata": {
        "id": "RnOAVcFDI4qn"
      },
      "source": [
        "Training is very fast, since we only have to deal with two `Dense` layers -- an epoch takes less than one second even on CPU.\n",
        "\n",
        "Let's take a look at the loss and accuracy curves during training:"
      ]
    },
    {
      "cell_type": "code",
      "metadata": {
        "colab": {
          "base_uri": "https://localhost:8080/",
          "height": 545
        },
        "id": "k5RECmCEIxWt",
        "outputId": "5092bb37-9eec-4782-d90c-5125559ead38"
      },
      "source": [
        "import matplotlib.pyplot as plt\n",
        "\n",
        "acc = history.history[\"acc\"]\n",
        "val_acc = history.history[\"val_acc\"]\n",
        "loss = history.history[\"loss\"]\n",
        "val_loss = history.history[\"val_loss\"]\n",
        "\n",
        "epochs = range(len(acc))\n",
        "\n",
        "plt.plot(epochs, acc, \"bo\", label=\"Training acc\")\n",
        "plt.plot(epochs, val_acc, \"b\", label=\"Validation acc\")\n",
        "plt.title(\"Training and Validation Acc\")\n",
        "plt.legend()\n",
        "\n",
        "plt.figure()\n",
        "\n",
        "plt.plot(epochs, loss, \"bo\", label = \"Training Loss\")\n",
        "plt.plot(epochs, val_loss, \"b\", label = \"Validation loss\")\n",
        "plt.title(\"Training and Validation Loss\")\n",
        "plt.legend()\n",
        "\n",
        "plt.show()"
      ],
      "execution_count": null,
      "outputs": [
        {
          "output_type": "display_data",
          "data": {
            "image/png": "[encoded data removed]",
            "text/plain": [
              "<Figure size 432x288 with 1 Axes>"
            ]
          },
          "metadata": {
            "tags": [],
            "needs_background": "light"
          }
        },
        {
          "output_type": "display_data",
          "data": {
            "image/png": "[encoded data removed]",
            "text/plain": [
              "<Figure size 432x288 with 1 Axes>"
            ]
          },
          "metadata": {
            "tags": [],
            "needs_background": "light"
          }
        }
      ]
    },
    {
      "cell_type": "markdown",
      "metadata": {
        "id": "VnSTupAxJsaB"
      },
      "source": [
        "\n",
        "We reach a validation accuracy of about 90%, much better than what we could achieve in the previous section with our small model trained from \n",
        "scratch. However, our plots also indicate that we are overfitting almost from the start -- despite using dropout with a fairly large rate. \n",
        "This is because this technique does not leverage data augmentation, which is essential to preventing overfitting with small image datasets.\n",
        "\n",
        "Now, let's review the second technique we mentioned for doing feature extraction, which is much slower and more expensive, but which allows \n",
        "us to leverage data augmentation during training: extending the `conv_base` model and running it end-to-end on the inputs. Note that this \n",
        "technique is in fact so expensive that you should only attempt it if you have access to a GPU: it is absolutely intractable on CPU. If you \n",
        "cannot run your code on GPU, then the previous technique is the way to go.\n",
        "\n",
        "Because models behave just like layers, you can add a model (like our `conv_base`) to a `Sequential` model just like you would add a layer. \n",
        "So you can do the following:"
      ]
    },
    {
      "cell_type": "code",
      "metadata": {
        "id": "Cak7c_NwJkqe"
      },
      "source": [
        "model = models.Sequential()\n",
        "\n",
        "model.add(base)\n",
        "model.add(layers.Flatten())\n",
        "model.add(layers.Dense(256, activation=\"relu\"))\n",
        "model.add(layers.Dense(1, activation=\"sigmoid\"))"
      ],
      "execution_count": null,
      "outputs": []
    },
    {
      "cell_type": "code",
      "metadata": {
        "colab": {
          "base_uri": "https://localhost:8080/"
        },
        "id": "YmjR2Yf2KTMD",
        "outputId": "7882a724-ab28-4267-bec1-0cfe1bf66797"
      },
      "source": [
        "model.summary()"
      ],
      "execution_count": null,
      "outputs": [
        {
          "output_type": "stream",
          "text": [
            "Model: \"sequential_1\"\n",
            "_________________________________________________________________\n",
            "Layer (type)                 Output Shape              Param #   \n",
            "=================================================================\n",
            "vgg16 (Functional)           (None, 4, 4, 512)         14714688  \n",
            "_________________________________________________________________\n",
            "flatten (Flatten)            (None, 8192)              0         \n",
            "_________________________________________________________________\n",
            "dense_2 (Dense)              (None, 256)               2097408   \n",
            "_________________________________________________________________\n",
            "dense_3 (Dense)              (None, 1)                 257       \n",
            "=================================================================\n",
            "Total params: 16,812,353\n",
            "Trainable params: 16,812,353\n",
            "Non-trainable params: 0\n",
            "_________________________________________________________________\n"
          ],
          "name": "stdout"
        }
      ]
    },
    {
      "cell_type": "markdown",
      "metadata": {
        "id": "ncMnE2QxKZhM"
      },
      "source": [
        "As you can see, the convolutional base of VGG16 has 14,714,688 parameters, which is very large. The classifier we are adding on top has 2 \n",
        "million parameters.\n",
        "\n",
        "Before we compile and train our model, a very important thing to do is to freeze the convolutional base. \"Freezing\" a layer or set of \n",
        "layers means preventing their weights from getting updated during training. If we don't do this, then the representations that were \n",
        "previously learned by the convolutional base would get modified during training. Since the `Dense` layers on top are randomly initialized, \n",
        "very large weight updates would be propagated through the network, effectively destroying the representations previously learned.\n",
        "\n",
        "In Keras, freezing a network is done by setting its `trainable` attribute to `False`:"
      ]
    },
    {
      "cell_type": "code",
      "metadata": {
        "colab": {
          "base_uri": "https://localhost:8080/"
        },
        "id": "cUWMZDAEKUue",
        "outputId": "22bd9745-14bb-4072-b31c-79bead0c854c"
      },
      "source": [
        "len(model.trainable_weights)"
      ],
      "execution_count": null,
      "outputs": [
        {
          "output_type": "execute_result",
          "data": {
            "text/plain": [
              "30"
            ]
          },
          "metadata": {
            "tags": []
          },
          "execution_count": 25
        }
      ]
    },
    {
      "cell_type": "code",
      "metadata": {
        "id": "qv9tVsB8Kqba"
      },
      "source": [
        "base.trainable = False"
      ],
      "execution_count": null,
      "outputs": []
    },
    {
      "cell_type": "code",
      "metadata": {
        "colab": {
          "base_uri": "https://localhost:8080/"
        },
        "id": "X7s8133QKsrF",
        "outputId": "39774252-c0a3-4294-ef62-53e0c5441e78"
      },
      "source": [
        "print(\"After Freezing conv base: \", len(model.trainable_weights))"
      ],
      "execution_count": null,
      "outputs": [
        {
          "output_type": "stream",
          "text": [
            "After Freezing conv base:  4\n"
          ],
          "name": "stdout"
        }
      ]
    },
    {
      "cell_type": "markdown",
      "metadata": {
        "id": "jEW5khf8LJZO"
      },
      "source": [
        "With this setup, only the weights from the two `Dense` layers that we added will be trained. That's a total of four weight tensors: two per \n",
        "layer (the main weight matrix and the bias vector). Note that in order for these changes to take effect, we must first compile the model. \n",
        "If you ever modify weight trainability after compilation, you should then re-compile the model, or these changes would be ignored.\n",
        "\n",
        "Now we can start training our model, with the same data augmentation configuration that we used in our previous example:"
      ]
    },
    {
      "cell_type": "code",
      "metadata": {
        "id": "Vz-TeeGwK1F7"
      },
      "source": [
        "train_datagen = ImageDataGenerator(rescale=1./255, rotation_range=40, width_shift_range=0.2, height_shift_range=0.2, shear_range=0.2, zoom_range=0.2, horizontal_flip=True, fill_mode=\"nearest\")"
      ],
      "execution_count": null,
      "outputs": []
    },
    {
      "cell_type": "code",
      "metadata": {
        "colab": {
          "base_uri": "https://localhost:8080/"
        },
        "id": "uCXJfUPpMr0s",
        "outputId": "110d7231-6dc8-47e5-be75-6682b9f5cc70"
      },
      "source": [
        "test_datagen = ImageDataGenerator(rescale=1./255)\n",
        "\n",
        "train_generator = train_datagen.flow_from_directory(train_dir, target_size=(150, 150), batch_size=20, class_mode=\"binary\")\n",
        "\n",
        "valid_generator = test_datagen.flow_from_directory(valid_dir, target_size=(150, 150), batch_size=20, class_mode = \"binary\")\n",
        "\n",
        "model.compile(loss=\"binary_crossentropy\", optimizer=optimizers.RMSprop(lr=2e-5), metrics=[\"acc\"])\n",
        "\n",
        "history = model.fit_generator(train_generator, steps_per_epoch=100, epochs=30, validation_data = valid_generator, validation_steps=50, verbose=2)\n"
      ],
      "execution_count": null,
      "outputs": [
        {
          "output_type": "stream",
          "text": [
            "Found 2000 images belonging to 2 classes.\n",
            "Found 1000 images belonging to 2 classes.\n"
          ],
          "name": "stdout"
        },
        {
          "output_type": "stream",
          "text": [
            "/usr/local/lib/python3.7/dist-packages/tensorflow/python/keras/engine/training.py:1844: UserWarning: `Model.fit_generator` is deprecated and will be removed in a future version. Please use `Model.fit`, which supports generators.\n",
            "  warnings.warn('`Model.fit_generator` is deprecated and '\n"
          ],
          "name": "stderr"
        },
        {
          "output_type": "stream",
          "text": [
            "Epoch 1/30\n",
            "100/100 - 27s - loss: 0.5794 - acc: 0.7120 - val_loss: 0.4397 - val_acc: 0.8280\n",
            "Epoch 2/30\n",
            "100/100 - 25s - loss: 0.4603 - acc: 0.7970 - val_loss: 0.3860 - val_acc: 0.8280\n",
            "Epoch 3/30\n",
            "100/100 - 25s - loss: 0.4218 - acc: 0.8125 - val_loss: 0.3277 - val_acc: 0.8550\n",
            "Epoch 4/30\n",
            "100/100 - 25s - loss: 0.4029 - acc: 0.8255 - val_loss: 0.3175 - val_acc: 0.8610\n",
            "Epoch 5/30\n",
            "100/100 - 25s - loss: 0.3725 - acc: 0.8430 - val_loss: 0.3068 - val_acc: 0.8700\n",
            "Epoch 6/30\n",
            "100/100 - 25s - loss: 0.3560 - acc: 0.8385 - val_loss: 0.2820 - val_acc: 0.8790\n",
            "Epoch 7/30\n",
            "100/100 - 25s - loss: 0.3588 - acc: 0.8370 - val_loss: 0.2827 - val_acc: 0.8710\n",
            "Epoch 8/30\n",
            "100/100 - 26s - loss: 0.3428 - acc: 0.8470 - val_loss: 0.2738 - val_acc: 0.8850\n",
            "Epoch 9/30\n",
            "100/100 - 26s - loss: 0.3286 - acc: 0.8570 - val_loss: 0.2671 - val_acc: 0.8820\n",
            "Epoch 10/30\n",
            "100/100 - 25s - loss: 0.3280 - acc: 0.8560 - val_loss: 0.2660 - val_acc: 0.8860\n",
            "Epoch 11/30\n",
            "100/100 - 25s - loss: 0.3223 - acc: 0.8545 - val_loss: 0.2693 - val_acc: 0.8890\n",
            "Epoch 12/30\n",
            "100/100 - 25s - loss: 0.3199 - acc: 0.8575 - val_loss: 0.2626 - val_acc: 0.8900\n",
            "Epoch 13/30\n",
            "100/100 - 25s - loss: 0.3334 - acc: 0.8520 - val_loss: 0.2557 - val_acc: 0.8910\n",
            "Epoch 14/30\n",
            "100/100 - 25s - loss: 0.3127 - acc: 0.8655 - val_loss: 0.2621 - val_acc: 0.8880\n",
            "Epoch 15/30\n",
            "100/100 - 25s - loss: 0.3115 - acc: 0.8675 - val_loss: 0.2620 - val_acc: 0.8900\n",
            "Epoch 16/30\n",
            "100/100 - 25s - loss: 0.3049 - acc: 0.8670 - val_loss: 0.2775 - val_acc: 0.8870\n",
            "Epoch 17/30\n",
            "100/100 - 25s - loss: 0.3015 - acc: 0.8670 - val_loss: 0.2525 - val_acc: 0.8890\n",
            "Epoch 18/30\n",
            "100/100 - 25s - loss: 0.2922 - acc: 0.8715 - val_loss: 0.2658 - val_acc: 0.8900\n",
            "Epoch 19/30\n",
            "100/100 - 25s - loss: 0.3040 - acc: 0.8665 - val_loss: 0.2550 - val_acc: 0.8840\n",
            "Epoch 20/30\n",
            "100/100 - 25s - loss: 0.3008 - acc: 0.8725 - val_loss: 0.2543 - val_acc: 0.8870\n",
            "Epoch 21/30\n",
            "100/100 - 26s - loss: 0.2858 - acc: 0.8840 - val_loss: 0.2574 - val_acc: 0.8920\n",
            "Epoch 22/30\n",
            "100/100 - 25s - loss: 0.2991 - acc: 0.8725 - val_loss: 0.2592 - val_acc: 0.8930\n",
            "Epoch 23/30\n",
            "100/100 - 25s - loss: 0.2912 - acc: 0.8750 - val_loss: 0.2710 - val_acc: 0.8880\n",
            "Epoch 24/30\n",
            "100/100 - 25s - loss: 0.2958 - acc: 0.8695 - val_loss: 0.2534 - val_acc: 0.8940\n",
            "Epoch 25/30\n",
            "100/100 - 25s - loss: 0.2890 - acc: 0.8755 - val_loss: 0.2495 - val_acc: 0.8890\n",
            "Epoch 26/30\n",
            "100/100 - 25s - loss: 0.2937 - acc: 0.8705 - val_loss: 0.2540 - val_acc: 0.8950\n",
            "Epoch 27/30\n",
            "100/100 - 25s - loss: 0.2886 - acc: 0.8735 - val_loss: 0.2563 - val_acc: 0.8890\n",
            "Epoch 28/30\n",
            "100/100 - 25s - loss: 0.2899 - acc: 0.8830 - val_loss: 0.2551 - val_acc: 0.8930\n",
            "Epoch 29/30\n",
            "100/100 - 25s - loss: 0.2684 - acc: 0.8770 - val_loss: 0.2517 - val_acc: 0.8890\n",
            "Epoch 30/30\n",
            "100/100 - 25s - loss: 0.2765 - acc: 0.8800 - val_loss: 0.3005 - val_acc: 0.8850\n"
          ],
          "name": "stdout"
        }
      ]
    },
    {
      "cell_type": "code",
      "metadata": {
        "id": "gs5mSd_4Nc_2"
      },
      "source": [
        "model.save('cats_and_dogs_small_3.h5')"
      ],
      "execution_count": null,
      "outputs": []
    },
    {
      "cell_type": "markdown",
      "metadata": {
        "id": "xgiB3iWDNvn0"
      },
      "source": [
        "Let's plot our results again:"
      ]
    },
    {
      "cell_type": "code",
      "metadata": {
        "colab": {
          "base_uri": "https://localhost:8080/",
          "height": 545
        },
        "id": "sYWM0TVnNuGr",
        "outputId": "4de5aa46-44dc-4d64-866b-66e7817c3ff1"
      },
      "source": [
        "acc = history.history['acc']\n",
        "val_acc = history.history['val_acc']\n",
        "loss = history.history['loss']\n",
        "val_loss = history.history['val_loss']\n",
        "\n",
        "epochs = range(len(acc))\n",
        "\n",
        "plt.plot(epochs, acc, 'bo', label='Training acc')\n",
        "plt.plot(epochs, val_acc, 'b', label='Validation acc')\n",
        "plt.title('Training and validation accuracy')\n",
        "plt.legend()\n",
        "\n",
        "plt.figure()\n",
        "\n",
        "plt.plot(epochs, loss, 'bo', label='Training loss')\n",
        "plt.plot(epochs, val_loss, 'b', label='Validation loss')\n",
        "plt.title('Training and validation loss')\n",
        "plt.legend()\n",
        "\n",
        "plt.show()"
      ],
      "execution_count": null,
      "outputs": [
        {
          "output_type": "display_data",
          "data": {
            "image/png": "[encoded data removed]",
            "text/plain": [
              "<Figure size 432x288 with 1 Axes>"
            ]
          },
          "metadata": {
            "tags": [],
            "needs_background": "light"
          }
        },
        {
          "output_type": "display_data",
          "data": {
            "image/png": "[encoded data removed]",
            "text/plain": [
              "<Figure size 432x288 with 1 Axes>"
            ]
          },
          "metadata": {
            "tags": [],
            "needs_background": "light"
          }
        }
      ]
    },
    {
      "cell_type": "markdown",
      "metadata": {
        "id": "N1Re1QYpNzYt"
      },
      "source": [
        "#Fine Tuning\n",
        "\n",
        "Another widely used technique for model reuse, complementary to feature extraction, is _fine-tuning_. \n",
        "Fine-tuning consists in unfreezing a few of the top layers \n",
        "of a frozen model base used for feature extraction, and jointly training both the newly added part of the model (in our case, the \n",
        "fully-connected classifier) and these top layers. This is called \"fine-tuning\" because it slightly adjusts the more abstract \n",
        "representations of the model being reused, in order to make them more relevant for the problem at hand.\n",
        "\n",
        "![fine-tuning VGG16](https://s3.amazonaws.com/book.keras.io/img/ch5/vgg16_fine_tuning.png)\n",
        "\n"
      ]
    },
    {
      "cell_type": "markdown",
      "metadata": {
        "id": "tGav2sdlODri"
      },
      "source": [
        "We have stated before that it was necessary to freeze the convolution base of VGG16 in order to be able to train a randomly initialized \n",
        "classifier on top. For the same reason, it is only possible to fine-tune the top layers of the convolutional base once the classifier on \n",
        "top has already been trained. If the classified wasn't already trained, then the error signal propagating through the network during \n",
        "training would be too large, and the representations previously learned by the layers being fine-tuned would be destroyed. Thus the steps \n",
        "for fine-tuning a network are as follow:\n",
        "\n",
        "* 1) Add your custom network on top of an already trained base network.\n",
        "* 2) Freeze the base network.\n",
        "* 3) Train the part you added.\n",
        "* 4) Unfreeze some layers in the base network.\n",
        "* 5) Jointly train both these layers and the part you added.\n",
        "\n",
        "We have already completed the first 3 steps when doing feature extraction. Let's proceed with the 4th step: we will unfreeze our `conv_base`, \n",
        "and then freeze individual layers inside of it.\n",
        "\n",
        "As a reminder, this is what our convolutional base looks like:"
      ]
    },
    {
      "cell_type": "code",
      "metadata": {
        "colab": {
          "base_uri": "https://localhost:8080/"
        },
        "id": "8K258fkxOBMO",
        "outputId": "bb0e558c-799e-4d84-e4f8-ab9972ba44d8"
      },
      "source": [
        "base.summary()"
      ],
      "execution_count": null,
      "outputs": [
        {
          "output_type": "stream",
          "text": [
            "Model: \"vgg16\"\n",
            "_________________________________________________________________\n",
            "Layer (type)                 Output Shape              Param #   \n",
            "=================================================================\n",
            "input_1 (InputLayer)         [(None, 150, 150, 3)]     0         \n",
            "_________________________________________________________________\n",
            "block1_conv1 (Conv2D)        (None, 150, 150, 64)      1792      \n",
            "_________________________________________________________________\n",
            "block1_conv2 (Conv2D)        (None, 150, 150, 64)      36928     \n",
            "_________________________________________________________________\n",
            "block1_pool (MaxPooling2D)   (None, 75, 75, 64)        0         \n",
            "_________________________________________________________________\n",
            "block2_conv1 (Conv2D)        (None, 75, 75, 128)       73856     \n",
            "_________________________________________________________________\n",
            "block2_conv2 (Conv2D)        (None, 75, 75, 128)       147584    \n",
            "_________________________________________________________________\n",
            "block2_pool (MaxPooling2D)   (None, 37, 37, 128)       0         \n",
            "_________________________________________________________________\n",
            "block3_conv1 (Conv2D)        (None, 37, 37, 256)       295168    \n",
            "_________________________________________________________________\n",
            "block3_conv2 (Conv2D)        (None, 37, 37, 256)       590080    \n",
            "_________________________________________________________________\n",
            "block3_conv3 (Conv2D)        (None, 37, 37, 256)       590080    \n",
            "_________________________________________________________________\n",
            "block3_pool (MaxPooling2D)   (None, 18, 18, 256)       0         \n",
            "_________________________________________________________________\n",
            "block4_conv1 (Conv2D)        (None, 18, 18, 512)       1180160   \n",
            "_________________________________________________________________\n",
            "block4_conv2 (Conv2D)        (None, 18, 18, 512)       2359808   \n",
            "_________________________________________________________________\n",
            "block4_conv3 (Conv2D)        (None, 18, 18, 512)       2359808   \n",
            "_________________________________________________________________\n",
            "block4_pool (MaxPooling2D)   (None, 9, 9, 512)         0         \n",
            "_________________________________________________________________\n",
            "block5_conv1 (Conv2D)        (None, 9, 9, 512)         2359808   \n",
            "_________________________________________________________________\n",
            "block5_conv2 (Conv2D)        (None, 9, 9, 512)         2359808   \n",
            "_________________________________________________________________\n",
            "block5_conv3 (Conv2D)        (None, 9, 9, 512)         2359808   \n",
            "_________________________________________________________________\n",
            "block5_pool (MaxPooling2D)   (None, 4, 4, 512)         0         \n",
            "=================================================================\n",
            "Total params: 14,714,688\n",
            "Trainable params: 0\n",
            "Non-trainable params: 14,714,688\n",
            "_________________________________________________________________\n"
          ],
          "name": "stdout"
        }
      ]
    },
    {
      "cell_type": "markdown",
      "metadata": {
        "id": "1snEHAYaOckZ"
      },
      "source": [
        "\n",
        "We will fine-tune the last 3 convolutional layers, which means that all layers up until `block4_pool` should be frozen, and the layers \n",
        "`block5_conv1`, `block5_conv2` and `block5_conv3` should be trainable.\n",
        "\n",
        "Why not fine-tune more layers? Why not fine-tune the entire convolutional base? We could. However, we need to consider that:\n",
        "\n",
        "* Earlier layers in the convolutional base encode more generic, reusable features, while layers higher up encode more specialized features. It is \n",
        "more useful to fine-tune the more specialized features, as these are the ones that need to be repurposed on our new problem. There would \n",
        "be fast-decreasing returns in fine-tuning lower layers.\n",
        "* The more parameters we are training, the more we are at risk of overfitting. The convolutional base has 15M parameters, so it would be \n",
        "risky to attempt to train it on our small dataset.\n",
        "\n",
        "Thus, in our situation, it is a good strategy to only fine-tune the top 2 to 3 layers in the convolutional base.\n",
        "\n",
        "Let's set this up, starting from where we left off in the previous example:"
      ]
    },
    {
      "cell_type": "code",
      "metadata": {
        "id": "44IxwOGsNxNu"
      },
      "source": [
        "base.trainalbe = True\n",
        "\n",
        "set_trainable = False\n",
        "\n",
        "for layer in base.layers:\n",
        "  if layer.name == \"block5_conv1\":\n",
        "    set_trainable = True\n",
        "  if set_trainable:\n",
        "    layer.trainable = True\n",
        "  else:\n",
        "    layer.trainable = False"
      ],
      "execution_count": null,
      "outputs": []
    },
    {
      "cell_type": "markdown",
      "metadata": {
        "id": "XdNKWkvqPwaK"
      },
      "source": [
        "Now we can start fine-tuning our network. We will do this with the RMSprop optimizer, using a very low learning rate. The reason for using \n",
        "a low learning rate is that we want to limit the magnitude of the modifications we make to the representations of the 3 layers that we are \n",
        "fine-tuning. Updates that are too large may harm these representations.\n",
        "\n",
        "Now let's proceed with fine-tuning:"
      ]
    },
    {
      "cell_type": "code",
      "metadata": {
        "colab": {
          "base_uri": "https://localhost:8080/"
        },
        "id": "1TcE7YxWO5Hu",
        "outputId": "a2bd4d29-8c03-43a9-806c-2495fde6ce12"
      },
      "source": [
        "model.compile(loss='binary_crossentropy',\n",
        "              optimizer=optimizers.RMSprop(lr=1e-5),\n",
        "              metrics=['acc'])\n",
        "\n",
        "history = model.fit_generator(\n",
        "      train_generator,\n",
        "      steps_per_epoch=100,\n",
        "      epochs=100,\n",
        "      validation_data=valid_generator,\n",
        "      validation_steps=50)"
      ],
      "execution_count": 36,
      "outputs": [
        {
          "output_type": "stream",
          "text": [
            "/usr/local/lib/python3.7/dist-packages/tensorflow/python/keras/engine/training.py:1844: UserWarning: `Model.fit_generator` is deprecated and will be removed in a future version. Please use `Model.fit`, which supports generators.\n",
            "  warnings.warn('`Model.fit_generator` is deprecated and '\n"
          ],
          "name": "stderr"
        },
        {
          "output_type": "stream",
          "text": [
            "Epoch 1/100\n",
            "100/100 [==============================] - 27s 259ms/step - loss: 0.2697 - acc: 0.8937 - val_loss: 0.2569 - val_acc: 0.8900\n",
            "Epoch 2/100\n",
            "100/100 [==============================] - 26s 257ms/step - loss: 0.2804 - acc: 0.8869 - val_loss: 0.2605 - val_acc: 0.8880\n",
            "Epoch 3/100\n",
            "100/100 [==============================] - 25s 254ms/step - loss: 0.2786 - acc: 0.8815 - val_loss: 0.2499 - val_acc: 0.8870\n",
            "Epoch 4/100\n",
            "100/100 [==============================] - 26s 256ms/step - loss: 0.2664 - acc: 0.8934 - val_loss: 0.2489 - val_acc: 0.8910\n",
            "Epoch 5/100\n",
            "100/100 [==============================] - 25s 254ms/step - loss: 0.2748 - acc: 0.8817 - val_loss: 0.2515 - val_acc: 0.8890\n",
            "Epoch 6/100\n",
            "100/100 [==============================] - 26s 257ms/step - loss: 0.2713 - acc: 0.8877 - val_loss: 0.2506 - val_acc: 0.8930\n",
            "Epoch 7/100\n",
            "100/100 [==============================] - 25s 255ms/step - loss: 0.2730 - acc: 0.8864 - val_loss: 0.2561 - val_acc: 0.8910\n",
            "Epoch 8/100\n",
            "100/100 [==============================] - 26s 256ms/step - loss: 0.2655 - acc: 0.8825 - val_loss: 0.2451 - val_acc: 0.8970\n",
            "Epoch 9/100\n",
            "100/100 [==============================] - 26s 259ms/step - loss: 0.2887 - acc: 0.8627 - val_loss: 0.2461 - val_acc: 0.8910\n",
            "Epoch 10/100\n",
            "100/100 [==============================] - 26s 258ms/step - loss: 0.2599 - acc: 0.8852 - val_loss: 0.2490 - val_acc: 0.8940\n",
            "Epoch 11/100\n",
            "100/100 [==============================] - 26s 256ms/step - loss: 0.2872 - acc: 0.8678 - val_loss: 0.2458 - val_acc: 0.8930\n",
            "Epoch 12/100\n",
            "100/100 [==============================] - 25s 253ms/step - loss: 0.2766 - acc: 0.8828 - val_loss: 0.2453 - val_acc: 0.8930\n",
            "Epoch 13/100\n",
            "100/100 [==============================] - 26s 255ms/step - loss: 0.2619 - acc: 0.8882 - val_loss: 0.2651 - val_acc: 0.8910\n",
            "Epoch 14/100\n",
            "100/100 [==============================] - 26s 260ms/step - loss: 0.2518 - acc: 0.8862 - val_loss: 0.2501 - val_acc: 0.8920\n",
            "Epoch 15/100\n",
            "100/100 [==============================] - 26s 258ms/step - loss: 0.2725 - acc: 0.8851 - val_loss: 0.2540 - val_acc: 0.8920\n",
            "Epoch 16/100\n",
            "100/100 [==============================] - 26s 256ms/step - loss: 0.2838 - acc: 0.8837 - val_loss: 0.2470 - val_acc: 0.8930\n",
            "Epoch 17/100\n",
            "100/100 [==============================] - 25s 254ms/step - loss: 0.2761 - acc: 0.8811 - val_loss: 0.2435 - val_acc: 0.8920\n",
            "Epoch 18/100\n",
            "100/100 [==============================] - 26s 258ms/step - loss: 0.2713 - acc: 0.8735 - val_loss: 0.2685 - val_acc: 0.8960\n",
            "Epoch 19/100\n",
            "100/100 [==============================] - 26s 258ms/step - loss: 0.2915 - acc: 0.8736 - val_loss: 0.2486 - val_acc: 0.8930\n",
            "Epoch 20/100\n",
            "100/100 [==============================] - 26s 258ms/step - loss: 0.2454 - acc: 0.8948 - val_loss: 0.2452 - val_acc: 0.8960\n",
            "Epoch 21/100\n",
            "100/100 [==============================] - 26s 260ms/step - loss: 0.2795 - acc: 0.8844 - val_loss: 0.2518 - val_acc: 0.8930\n",
            "Epoch 22/100\n",
            "100/100 [==============================] - 26s 260ms/step - loss: 0.2575 - acc: 0.9055 - val_loss: 0.2528 - val_acc: 0.8920\n",
            "Epoch 23/100\n",
            "100/100 [==============================] - 26s 261ms/step - loss: 0.2578 - acc: 0.8918 - val_loss: 0.2492 - val_acc: 0.8930\n",
            "Epoch 24/100\n",
            "100/100 [==============================] - 26s 258ms/step - loss: 0.2518 - acc: 0.8976 - val_loss: 0.2440 - val_acc: 0.9000\n",
            "Epoch 25/100\n",
            "100/100 [==============================] - 26s 260ms/step - loss: 0.2448 - acc: 0.8904 - val_loss: 0.2445 - val_acc: 0.8970\n",
            "Epoch 26/100\n",
            "100/100 [==============================] - 26s 261ms/step - loss: 0.2531 - acc: 0.8901 - val_loss: 0.2431 - val_acc: 0.9010\n",
            "Epoch 27/100\n",
            "100/100 [==============================] - 26s 261ms/step - loss: 0.2671 - acc: 0.8887 - val_loss: 0.2524 - val_acc: 0.8940\n",
            "Epoch 28/100\n",
            "100/100 [==============================] - 26s 262ms/step - loss: 0.2495 - acc: 0.8983 - val_loss: 0.2435 - val_acc: 0.8980\n",
            "Epoch 29/100\n",
            "100/100 [==============================] - 26s 262ms/step - loss: 0.2429 - acc: 0.8950 - val_loss: 0.2643 - val_acc: 0.8940\n",
            "Epoch 30/100\n",
            "100/100 [==============================] - 26s 259ms/step - loss: 0.2499 - acc: 0.8752 - val_loss: 0.2444 - val_acc: 0.8980\n",
            "Epoch 31/100\n",
            "100/100 [==============================] - 26s 261ms/step - loss: 0.2659 - acc: 0.8938 - val_loss: 0.2461 - val_acc: 0.8980\n",
            "Epoch 32/100\n",
            "100/100 [==============================] - 26s 258ms/step - loss: 0.2385 - acc: 0.8984 - val_loss: 0.2481 - val_acc: 0.8960\n",
            "Epoch 33/100\n",
            "100/100 [==============================] - 26s 260ms/step - loss: 0.2457 - acc: 0.8907 - val_loss: 0.2464 - val_acc: 0.8980\n",
            "Epoch 34/100\n",
            "100/100 [==============================] - 26s 258ms/step - loss: 0.2662 - acc: 0.8800 - val_loss: 0.2527 - val_acc: 0.8960\n",
            "Epoch 35/100\n",
            "100/100 [==============================] - 26s 260ms/step - loss: 0.2411 - acc: 0.8932 - val_loss: 0.2522 - val_acc: 0.8940\n",
            "Epoch 36/100\n",
            "100/100 [==============================] - 26s 262ms/step - loss: 0.2455 - acc: 0.9126 - val_loss: 0.2517 - val_acc: 0.8940\n",
            "Epoch 37/100\n",
            "100/100 [==============================] - 26s 262ms/step - loss: 0.2745 - acc: 0.8776 - val_loss: 0.2643 - val_acc: 0.8950\n",
            "Epoch 38/100\n",
            "100/100 [==============================] - 26s 261ms/step - loss: 0.2632 - acc: 0.8859 - val_loss: 0.2505 - val_acc: 0.8950\n",
            "Epoch 39/100\n",
            "100/100 [==============================] - 26s 261ms/step - loss: 0.2529 - acc: 0.8954 - val_loss: 0.2441 - val_acc: 0.8930\n",
            "Epoch 40/100\n",
            "100/100 [==============================] - 26s 260ms/step - loss: 0.2592 - acc: 0.8856 - val_loss: 0.2442 - val_acc: 0.8940\n",
            "Epoch 41/100\n",
            "100/100 [==============================] - 26s 262ms/step - loss: 0.2519 - acc: 0.8933 - val_loss: 0.2424 - val_acc: 0.8940\n",
            "Epoch 42/100\n",
            "100/100 [==============================] - 26s 260ms/step - loss: 0.2369 - acc: 0.9028 - val_loss: 0.2528 - val_acc: 0.8960\n",
            "Epoch 43/100\n",
            "100/100 [==============================] - 26s 261ms/step - loss: 0.2542 - acc: 0.8956 - val_loss: 0.2434 - val_acc: 0.8870\n",
            "Epoch 44/100\n",
            "100/100 [==============================] - 26s 261ms/step - loss: 0.2700 - acc: 0.8850 - val_loss: 0.2547 - val_acc: 0.8960\n",
            "Epoch 45/100\n",
            "100/100 [==============================] - 26s 261ms/step - loss: 0.2518 - acc: 0.8975 - val_loss: 0.2468 - val_acc: 0.8920\n",
            "Epoch 46/100\n",
            "100/100 [==============================] - 26s 261ms/step - loss: 0.2457 - acc: 0.8933 - val_loss: 0.2481 - val_acc: 0.8970\n",
            "Epoch 47/100\n",
            "100/100 [==============================] - 25s 254ms/step - loss: 0.2624 - acc: 0.8841 - val_loss: 0.2431 - val_acc: 0.8950\n",
            "Epoch 48/100\n",
            "100/100 [==============================] - 26s 259ms/step - loss: 0.2350 - acc: 0.9026 - val_loss: 0.2418 - val_acc: 0.8980\n",
            "Epoch 49/100\n",
            "100/100 [==============================] - 26s 260ms/step - loss: 0.2686 - acc: 0.8898 - val_loss: 0.2430 - val_acc: 0.8940\n",
            "Epoch 50/100\n",
            "100/100 [==============================] - 25s 253ms/step - loss: 0.2256 - acc: 0.9113 - val_loss: 0.2466 - val_acc: 0.8960\n",
            "Epoch 51/100\n",
            "100/100 [==============================] - 25s 251ms/step - loss: 0.2457 - acc: 0.8979 - val_loss: 0.2431 - val_acc: 0.8990\n",
            "Epoch 52/100\n",
            "100/100 [==============================] - 25s 250ms/step - loss: 0.2294 - acc: 0.9117 - val_loss: 0.2495 - val_acc: 0.8970\n",
            "Epoch 53/100\n",
            "100/100 [==============================] - 25s 251ms/step - loss: 0.2497 - acc: 0.8845 - val_loss: 0.2518 - val_acc: 0.8950\n",
            "Epoch 54/100\n",
            "100/100 [==============================] - 25s 249ms/step - loss: 0.2219 - acc: 0.9131 - val_loss: 0.2479 - val_acc: 0.8950\n",
            "Epoch 55/100\n",
            "100/100 [==============================] - 25s 253ms/step - loss: 0.2559 - acc: 0.8824 - val_loss: 0.2426 - val_acc: 0.8960\n",
            "Epoch 56/100\n",
            "100/100 [==============================] - 25s 253ms/step - loss: 0.2413 - acc: 0.9000 - val_loss: 0.2475 - val_acc: 0.8970\n",
            "Epoch 57/100\n",
            "100/100 [==============================] - 26s 257ms/step - loss: 0.2548 - acc: 0.8991 - val_loss: 0.2511 - val_acc: 0.8980\n",
            "Epoch 58/100\n",
            "100/100 [==============================] - 26s 262ms/step - loss: 0.2484 - acc: 0.8818 - val_loss: 0.2478 - val_acc: 0.8980\n",
            "Epoch 59/100\n",
            "100/100 [==============================] - 26s 263ms/step - loss: 0.2536 - acc: 0.8990 - val_loss: 0.2515 - val_acc: 0.8960\n",
            "Epoch 60/100\n",
            "100/100 [==============================] - 26s 257ms/step - loss: 0.2582 - acc: 0.8940 - val_loss: 0.2448 - val_acc: 0.8970\n",
            "Epoch 61/100\n",
            "100/100 [==============================] - 26s 255ms/step - loss: 0.2692 - acc: 0.8885 - val_loss: 0.2407 - val_acc: 0.9020\n",
            "Epoch 62/100\n",
            "100/100 [==============================] - 25s 254ms/step - loss: 0.2532 - acc: 0.8857 - val_loss: 0.2539 - val_acc: 0.8960\n",
            "Epoch 63/100\n",
            "100/100 [==============================] - 25s 252ms/step - loss: 0.2551 - acc: 0.8932 - val_loss: 0.2453 - val_acc: 0.8960\n",
            "Epoch 64/100\n",
            "100/100 [==============================] - 25s 254ms/step - loss: 0.2440 - acc: 0.9023 - val_loss: 0.2463 - val_acc: 0.8930\n",
            "Epoch 65/100\n",
            "100/100 [==============================] - 26s 255ms/step - loss: 0.2343 - acc: 0.9033 - val_loss: 0.2423 - val_acc: 0.8970\n",
            "Epoch 66/100\n",
            "100/100 [==============================] - 25s 253ms/step - loss: 0.2565 - acc: 0.8895 - val_loss: 0.2406 - val_acc: 0.9000\n",
            "Epoch 67/100\n",
            "100/100 [==============================] - 25s 254ms/step - loss: 0.2407 - acc: 0.8975 - val_loss: 0.2593 - val_acc: 0.8980\n",
            "Epoch 68/100\n",
            "100/100 [==============================] - 26s 258ms/step - loss: 0.2384 - acc: 0.9005 - val_loss: 0.2482 - val_acc: 0.8990\n",
            "Epoch 69/100\n",
            "100/100 [==============================] - 26s 255ms/step - loss: 0.2334 - acc: 0.9069 - val_loss: 0.2440 - val_acc: 0.8970\n",
            "Epoch 70/100\n",
            "100/100 [==============================] - 26s 259ms/step - loss: 0.2566 - acc: 0.8987 - val_loss: 0.2451 - val_acc: 0.9010\n",
            "Epoch 71/100\n",
            "100/100 [==============================] - 25s 252ms/step - loss: 0.2528 - acc: 0.8872 - val_loss: 0.2529 - val_acc: 0.8970\n",
            "Epoch 72/100\n",
            "100/100 [==============================] - 26s 255ms/step - loss: 0.2646 - acc: 0.8951 - val_loss: 0.2491 - val_acc: 0.8970\n",
            "Epoch 73/100\n",
            "100/100 [==============================] - 26s 260ms/step - loss: 0.2461 - acc: 0.8919 - val_loss: 0.2607 - val_acc: 0.8990\n",
            "Epoch 74/100\n",
            "100/100 [==============================] - 26s 260ms/step - loss: 0.2602 - acc: 0.8872 - val_loss: 0.2562 - val_acc: 0.8990\n",
            "Epoch 75/100\n",
            "100/100 [==============================] - 25s 254ms/step - loss: 0.2666 - acc: 0.8816 - val_loss: 0.2418 - val_acc: 0.9000\n",
            "Epoch 76/100\n",
            "100/100 [==============================] - 26s 257ms/step - loss: 0.2423 - acc: 0.8965 - val_loss: 0.2375 - val_acc: 0.9060\n",
            "Epoch 77/100\n",
            "100/100 [==============================] - 26s 264ms/step - loss: 0.2477 - acc: 0.9011 - val_loss: 0.2403 - val_acc: 0.9030\n",
            "Epoch 78/100\n",
            "100/100 [==============================] - 26s 264ms/step - loss: 0.2591 - acc: 0.8876 - val_loss: 0.2397 - val_acc: 0.9060\n",
            "Epoch 79/100\n",
            "100/100 [==============================] - 26s 259ms/step - loss: 0.2477 - acc: 0.8964 - val_loss: 0.2401 - val_acc: 0.9050\n",
            "Epoch 80/100\n",
            "100/100 [==============================] - 26s 260ms/step - loss: 0.2483 - acc: 0.8964 - val_loss: 0.2448 - val_acc: 0.9030\n",
            "Epoch 81/100\n",
            "100/100 [==============================] - 26s 260ms/step - loss: 0.2392 - acc: 0.8998 - val_loss: 0.2481 - val_acc: 0.9020\n",
            "Epoch 82/100\n",
            "100/100 [==============================] - 26s 257ms/step - loss: 0.2362 - acc: 0.9102 - val_loss: 0.2504 - val_acc: 0.9010\n",
            "Epoch 83/100\n",
            "100/100 [==============================] - 26s 259ms/step - loss: 0.2319 - acc: 0.9057 - val_loss: 0.2378 - val_acc: 0.9060\n",
            "Epoch 84/100\n",
            "100/100 [==============================] - 26s 258ms/step - loss: 0.2366 - acc: 0.9087 - val_loss: 0.2402 - val_acc: 0.9040\n",
            "Epoch 85/100\n",
            "100/100 [==============================] - 26s 259ms/step - loss: 0.2397 - acc: 0.8943 - val_loss: 0.2441 - val_acc: 0.9010\n",
            "Epoch 86/100\n",
            "100/100 [==============================] - 26s 258ms/step - loss: 0.2517 - acc: 0.8881 - val_loss: 0.2422 - val_acc: 0.9010\n",
            "Epoch 87/100\n",
            "100/100 [==============================] - 27s 267ms/step - loss: 0.2517 - acc: 0.8892 - val_loss: 0.2375 - val_acc: 0.9030\n",
            "Epoch 88/100\n",
            "100/100 [==============================] - 27s 266ms/step - loss: 0.2314 - acc: 0.8965 - val_loss: 0.2464 - val_acc: 0.9020\n",
            "Epoch 89/100\n",
            "100/100 [==============================] - 26s 265ms/step - loss: 0.2444 - acc: 0.9004 - val_loss: 0.2467 - val_acc: 0.9000\n",
            "Epoch 90/100\n",
            "100/100 [==============================] - 26s 261ms/step - loss: 0.2374 - acc: 0.9002 - val_loss: 0.2532 - val_acc: 0.8990\n",
            "Epoch 91/100\n",
            "100/100 [==============================] - 26s 261ms/step - loss: 0.2239 - acc: 0.9085 - val_loss: 0.2487 - val_acc: 0.9000\n",
            "Epoch 92/100\n",
            "100/100 [==============================] - 26s 262ms/step - loss: 0.2385 - acc: 0.8914 - val_loss: 0.2378 - val_acc: 0.9030\n",
            "Epoch 93/100\n",
            "100/100 [==============================] - 26s 260ms/step - loss: 0.2428 - acc: 0.8939 - val_loss: 0.2460 - val_acc: 0.9020\n",
            "Epoch 94/100\n",
            "100/100 [==============================] - 26s 263ms/step - loss: 0.2461 - acc: 0.8948 - val_loss: 0.2492 - val_acc: 0.9020\n",
            "Epoch 95/100\n",
            "100/100 [==============================] - 26s 261ms/step - loss: 0.2504 - acc: 0.8955 - val_loss: 0.2394 - val_acc: 0.9030\n",
            "Epoch 96/100\n",
            "100/100 [==============================] - 26s 259ms/step - loss: 0.2444 - acc: 0.8923 - val_loss: 0.2411 - val_acc: 0.9020\n",
            "Epoch 97/100\n",
            "100/100 [==============================] - 26s 261ms/step - loss: 0.2637 - acc: 0.8897 - val_loss: 0.2455 - val_acc: 0.9020\n",
            "Epoch 98/100\n",
            "100/100 [==============================] - 26s 260ms/step - loss: 0.2211 - acc: 0.9130 - val_loss: 0.2435 - val_acc: 0.9020\n",
            "Epoch 99/100\n",
            "100/100 [==============================] - 26s 261ms/step - loss: 0.2494 - acc: 0.8899 - val_loss: 0.2445 - val_acc: 0.9030\n",
            "Epoch 100/100\n",
            "100/100 [==============================] - 26s 260ms/step - loss: 0.2113 - acc: 0.9138 - val_loss: 0.2451 - val_acc: 0.9020\n"
          ],
          "name": "stdout"
        }
      ]
    },
    {
      "cell_type": "code",
      "metadata": {
        "id": "FV0JB49bP0Eh"
      },
      "source": [
        "model.save('cats_and_dogs_small_4.h5')"
      ],
      "execution_count": 37,
      "outputs": []
    },
    {
      "cell_type": "code",
      "metadata": {
        "id": "BL8hbiOrP4eF",
        "colab": {
          "base_uri": "https://localhost:8080/",
          "height": 545
        },
        "outputId": "49d988e2-d537-4fc9-91ba-3a72c0ab6269"
      },
      "source": [
        "acc = history.history['acc']\n",
        "val_acc = history.history['val_acc']\n",
        "loss = history.history['loss']\n",
        "val_loss = history.history['val_loss']\n",
        "\n",
        "epochs = range(len(acc))\n",
        "\n",
        "plt.plot(epochs, acc, 'bo', label='Training acc')\n",
        "plt.plot(epochs, val_acc, 'b', label='Validation acc')\n",
        "plt.title('Training and validation accuracy')\n",
        "plt.legend()\n",
        "\n",
        "plt.figure()\n",
        "\n",
        "plt.plot(epochs, loss, 'bo', label='Training loss')\n",
        "plt.plot(epochs, val_loss, 'b', label='Validation loss')\n",
        "plt.title('Training and validation loss')\n",
        "plt.legend()\n",
        "\n",
        "plt.show()"
      ],
      "execution_count": 38,
      "outputs": [
        {
          "output_type": "display_data",
          "data": {
            "image/png": "[encoded data removed]",
            "text/plain": [
              "<Figure size 432x288 with 1 Axes>"
            ]
          },
          "metadata": {
            "tags": [],
            "needs_background": "light"
          }
        },
        {
          "output_type": "display_data",
          "data": {
            "image/png": "[encoded data removed]",
            "text/plain": [
              "<Figure size 432x288 with 1 Axes>"
            ]
          },
          "metadata": {
            "tags": [],
            "needs_background": "light"
          }
        }
      ]
    },
    {
      "cell_type": "code",
      "metadata": {
        "id": "g38AW4KzP6Cl",
        "colab": {
          "base_uri": "https://localhost:8080/",
          "height": 545
        },
        "outputId": "cd8e8acf-ee13-4257-831c-ff8a01855799"
      },
      "source": [
        "def smooth_curve(points, factor=0.8):\n",
        "  smoothed_points = []\n",
        "  for point in points:\n",
        "    if smoothed_points:\n",
        "      previous = smoothed_points[-1]\n",
        "      smoothed_points.append(previous * factor + point * (1 - factor))\n",
        "    else:\n",
        "      smoothed_points.append(point)\n",
        "  return smoothed_points\n",
        "\n",
        "plt.plot(epochs,\n",
        "         smooth_curve(acc), 'bo', label='Smoothed training acc')\n",
        "plt.plot(epochs,\n",
        "         smooth_curve(val_acc), 'b', label='Smoothed validation acc')\n",
        "plt.title('Training and validation accuracy')\n",
        "plt.legend()\n",
        "\n",
        "plt.figure()\n",
        "\n",
        "plt.plot(epochs,\n",
        "         smooth_curve(loss), 'bo', label='Smoothed training loss')\n",
        "plt.plot(epochs,\n",
        "         smooth_curve(val_loss), 'b', label='Smoothed validation loss')\n",
        "plt.title('Training and validation loss')\n",
        "plt.legend()\n",
        "\n",
        "plt.show()"
      ],
      "execution_count": 39,
      "outputs": [
        {
          "output_type": "display_data",
          "data": {
            "image/png": "[encoded data removed]",
            "text/plain": [
              "<Figure size 432x288 with 1 Axes>"
            ]
          },
          "metadata": {
            "tags": [],
            "needs_background": "light"
          }
        },
        {
          "output_type": "display_data",
          "data": {
            "image/png": "[encoded data removed]",
            "text/plain": [
              "<Figure size 432x288 with 1 Axes>"
            ]
          },
          "metadata": {
            "tags": [],
            "needs_background": "light"
          }
        }
      ]
    },
    {
      "cell_type": "markdown",
      "metadata": {
        "id": "81n14Iw9P8NM"
      },
      "source": [
        "\n",
        "These curves look much cleaner and more stable. We are seeing a nice 1% absolute improvement.\n",
        "\n",
        "Note that the loss curve does not show any real improvement (in fact, it is deteriorating). You may wonder, how could accuracy improve if the \n",
        "loss isn't decreasing? The answer is simple: what we display is an average of pointwise loss values, but what actually matters for accuracy \n",
        "is the distribution of the loss values, not their average, since accuracy is the result of a binary thresholding of the class probability \n",
        "predicted by the model. The model may still be improving even if this isn't reflected in the average loss.\n",
        "\n",
        "We can now finally evaluate this model on the test data:"
      ]
    },
    {
      "cell_type": "markdown",
      "metadata": {
        "id": "BNBuIlGVP-6-"
      },
      "source": [
        "## Take-aways: using convnets with small datasets\n",
        "\n",
        "Here's what you should take away from the exercises of these past two sections:\n",
        "\n",
        "* Convnets are the best type of machine learning models for computer vision tasks. It is possible to train one from scratch even on a very \n",
        "small dataset, with decent results.\n",
        "* On a small dataset, overfitting will be the main issue. Data augmentation is a powerful way to fight overfitting when working with image \n",
        "data.\n",
        "* It is easy to reuse an existing convnet on a new dataset, via feature extraction. This is a very valuable technique for working with \n",
        "small image datasets.\n",
        "* As a complement to feature extraction, one may use fine-tuning, which adapts to a new problem some of the representations previously \n",
        "learned by an existing model. This pushes performance a bit further.\n",
        "\n",
        "Now you have a solid set of tools for dealing with image classification problems, in particular with small datasets."
      ]
    },
    {
      "cell_type": "code",
      "metadata": {
        "id": "cS68isBZP7t1"
      },
      "source": [
        ""
      ],
      "execution_count": 39,
      "outputs": []
    }
  ]
}